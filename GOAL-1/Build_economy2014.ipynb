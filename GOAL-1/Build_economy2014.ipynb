{
 "cells": [
  {
   "cell_type": "code",
   "execution_count": 1,
   "id": "789ab91d",
   "metadata": {},
   "outputs": [],
   "source": [
    "#  *** THIS DATA (FROM API) HAS BEEN CHECKED AGAINST DATA.CENSUS.GOV TABLES***"
   ]
  },
  {
   "cell_type": "code",
   "execution_count": 2,
   "id": "52f06912",
   "metadata": {},
   "outputs": [],
   "source": [
    "# Guidance for Labor Force Statistics Data Users\n",
    "# https://www.census.gov/topics/employment/labor-force/guidance.html"
   ]
  },
  {
   "cell_type": "code",
   "execution_count": 3,
   "id": "a5bfa3e0",
   "metadata": {},
   "outputs": [],
   "source": [
    "## Build an equitable economy: INCOME\n",
    "### Baltimore City median income, Black median income, Black-white income gap\n",
    "## 2014"
   ]
  },
  {
   "cell_type": "code",
   "execution_count": 4,
   "id": "4b9616b2",
   "metadata": {},
   "outputs": [],
   "source": [
    "# data source: 2014 Census Data (ACS-1 year) for Selected Variables - Baltimore City"
   ]
  },
  {
   "cell_type": "code",
   "execution_count": 5,
   "id": "73176156",
   "metadata": {},
   "outputs": [],
   "source": [
    "#pip install censusdata"
   ]
  },
  {
   "cell_type": "code",
   "execution_count": 6,
   "id": "e3541104",
   "metadata": {},
   "outputs": [],
   "source": [
    "# Dependencies\n",
    "import pandas as pd\n",
    "import matplotlib.pyplot as plt\n",
    "import requests\n",
    "import censusdata "
   ]
  },
  {
   "cell_type": "code",
   "execution_count": 7,
   "id": "d92ff12b",
   "metadata": {},
   "outputs": [],
   "source": [
    "import os"
   ]
  },
  {
   "cell_type": "code",
   "execution_count": 8,
   "id": "6de9b788",
   "metadata": {},
   "outputs": [
    {
     "data": {
      "text/plain": [
       "'C:\\\\Users\\\\Jenkir\\\\Desktop\\\\BDC\\\\Baltimore_Together\\\\measuring-success-metrics\\\\BT-equity-metric-analysis\\\\GOAL-1'"
      ]
     },
     "execution_count": 8,
     "metadata": {},
     "output_type": "execute_result"
    }
   ],
   "source": [
    "os.getcwd()"
   ]
  },
  {
   "cell_type": "code",
   "execution_count": 9,
   "id": "70066bb3",
   "metadata": {},
   "outputs": [],
   "source": [
    "# need to change the working directory; be sure that the config file for the census API is also in this folder\n",
    "#os.chdir('C:\\\\Users\\\\Jenkir\\\\Desktop\\\\BDC\\\\Baltimore_Together\\\\measuring-success-metrics\\\\analysis_nbs')\n"
   ]
  },
  {
   "cell_type": "code",
   "execution_count": 10,
   "id": "e5c6eb2e",
   "metadata": {},
   "outputs": [],
   "source": [
    "#os.getcwd()"
   ]
  },
  {
   "cell_type": "code",
   "execution_count": 11,
   "id": "a1d86d9b",
   "metadata": {},
   "outputs": [],
   "source": [
    "pd.set_option('display.max_rows', 200)"
   ]
  },
  {
   "cell_type": "code",
   "execution_count": 12,
   "id": "60779a2c",
   "metadata": {},
   "outputs": [],
   "source": [
    "pd.set_option('max_colwidth', 100)"
   ]
  },
  {
   "cell_type": "code",
   "execution_count": 14,
   "id": "e5138716",
   "metadata": {},
   "outputs": [
    {
     "ename": "ValueError",
     "evalue": "Unexpected response (URL: https://api.census.gov/data/2014/acs/acs1?get=NAME,B19001_001E,B01003_001E,B19013_001E,B02001_002E,B02001_003E,B19013A_001E,B19013B_001E,S2301_001E&for=county:510&in=state:24): error: error: unknown variable 'S2301_001E' ",
     "output_type": "error",
     "traceback": [
      "\u001b[1;31m---------------------------------------------------------------------------\u001b[0m",
      "\u001b[1;31mJSONDecodeError\u001b[0m                           Traceback (most recent call last)",
      "\u001b[1;32m~\\anaconda3\\envs\\PythonData\\lib\\site-packages\\requests\\models.py\u001b[0m in \u001b[0;36mjson\u001b[1;34m(self, **kwargs)\u001b[0m\n\u001b[0;32m    970\u001b[0m         \u001b[1;32mtry\u001b[0m\u001b[1;33m:\u001b[0m\u001b[1;33m\u001b[0m\u001b[1;33m\u001b[0m\u001b[0m\n\u001b[1;32m--> 971\u001b[1;33m             \u001b[1;32mreturn\u001b[0m \u001b[0mcomplexjson\u001b[0m\u001b[1;33m.\u001b[0m\u001b[0mloads\u001b[0m\u001b[1;33m(\u001b[0m\u001b[0mself\u001b[0m\u001b[1;33m.\u001b[0m\u001b[0mtext\u001b[0m\u001b[1;33m,\u001b[0m \u001b[1;33m**\u001b[0m\u001b[0mkwargs\u001b[0m\u001b[1;33m)\u001b[0m\u001b[1;33m\u001b[0m\u001b[1;33m\u001b[0m\u001b[0m\n\u001b[0m\u001b[0;32m    972\u001b[0m         \u001b[1;32mexcept\u001b[0m \u001b[0mJSONDecodeError\u001b[0m \u001b[1;32mas\u001b[0m \u001b[0me\u001b[0m\u001b[1;33m:\u001b[0m\u001b[1;33m\u001b[0m\u001b[1;33m\u001b[0m\u001b[0m\n",
      "\u001b[1;32m~\\anaconda3\\envs\\PythonData\\lib\\json\\__init__.py\u001b[0m in \u001b[0;36mloads\u001b[1;34m(s, encoding, cls, object_hook, parse_float, parse_int, parse_constant, object_pairs_hook, **kw)\u001b[0m\n\u001b[0;32m    347\u001b[0m             parse_constant is None and object_pairs_hook is None and not kw):\n\u001b[1;32m--> 348\u001b[1;33m         \u001b[1;32mreturn\u001b[0m \u001b[0m_default_decoder\u001b[0m\u001b[1;33m.\u001b[0m\u001b[0mdecode\u001b[0m\u001b[1;33m(\u001b[0m\u001b[0ms\u001b[0m\u001b[1;33m)\u001b[0m\u001b[1;33m\u001b[0m\u001b[1;33m\u001b[0m\u001b[0m\n\u001b[0m\u001b[0;32m    349\u001b[0m     \u001b[1;32mif\u001b[0m \u001b[0mcls\u001b[0m \u001b[1;32mis\u001b[0m \u001b[1;32mNone\u001b[0m\u001b[1;33m:\u001b[0m\u001b[1;33m\u001b[0m\u001b[1;33m\u001b[0m\u001b[0m\n",
      "\u001b[1;32m~\\anaconda3\\envs\\PythonData\\lib\\json\\decoder.py\u001b[0m in \u001b[0;36mdecode\u001b[1;34m(self, s, _w)\u001b[0m\n\u001b[0;32m    336\u001b[0m         \"\"\"\n\u001b[1;32m--> 337\u001b[1;33m         \u001b[0mobj\u001b[0m\u001b[1;33m,\u001b[0m \u001b[0mend\u001b[0m \u001b[1;33m=\u001b[0m \u001b[0mself\u001b[0m\u001b[1;33m.\u001b[0m\u001b[0mraw_decode\u001b[0m\u001b[1;33m(\u001b[0m\u001b[0ms\u001b[0m\u001b[1;33m,\u001b[0m \u001b[0midx\u001b[0m\u001b[1;33m=\u001b[0m\u001b[0m_w\u001b[0m\u001b[1;33m(\u001b[0m\u001b[0ms\u001b[0m\u001b[1;33m,\u001b[0m \u001b[1;36m0\u001b[0m\u001b[1;33m)\u001b[0m\u001b[1;33m.\u001b[0m\u001b[0mend\u001b[0m\u001b[1;33m(\u001b[0m\u001b[1;33m)\u001b[0m\u001b[1;33m)\u001b[0m\u001b[1;33m\u001b[0m\u001b[1;33m\u001b[0m\u001b[0m\n\u001b[0m\u001b[0;32m    338\u001b[0m         \u001b[0mend\u001b[0m \u001b[1;33m=\u001b[0m \u001b[0m_w\u001b[0m\u001b[1;33m(\u001b[0m\u001b[0ms\u001b[0m\u001b[1;33m,\u001b[0m \u001b[0mend\u001b[0m\u001b[1;33m)\u001b[0m\u001b[1;33m.\u001b[0m\u001b[0mend\u001b[0m\u001b[1;33m(\u001b[0m\u001b[1;33m)\u001b[0m\u001b[1;33m\u001b[0m\u001b[1;33m\u001b[0m\u001b[0m\n",
      "\u001b[1;32m~\\anaconda3\\envs\\PythonData\\lib\\json\\decoder.py\u001b[0m in \u001b[0;36mraw_decode\u001b[1;34m(self, s, idx)\u001b[0m\n\u001b[0;32m    354\u001b[0m         \u001b[1;32mexcept\u001b[0m \u001b[0mStopIteration\u001b[0m \u001b[1;32mas\u001b[0m \u001b[0merr\u001b[0m\u001b[1;33m:\u001b[0m\u001b[1;33m\u001b[0m\u001b[1;33m\u001b[0m\u001b[0m\n\u001b[1;32m--> 355\u001b[1;33m             \u001b[1;32mraise\u001b[0m \u001b[0mJSONDecodeError\u001b[0m\u001b[1;33m(\u001b[0m\u001b[1;34m\"Expecting value\"\u001b[0m\u001b[1;33m,\u001b[0m \u001b[0ms\u001b[0m\u001b[1;33m,\u001b[0m \u001b[0merr\u001b[0m\u001b[1;33m.\u001b[0m\u001b[0mvalue\u001b[0m\u001b[1;33m)\u001b[0m \u001b[1;32mfrom\u001b[0m \u001b[1;32mNone\u001b[0m\u001b[1;33m\u001b[0m\u001b[1;33m\u001b[0m\u001b[0m\n\u001b[0m\u001b[0;32m    356\u001b[0m         \u001b[1;32mreturn\u001b[0m \u001b[0mobj\u001b[0m\u001b[1;33m,\u001b[0m \u001b[0mend\u001b[0m\u001b[1;33m\u001b[0m\u001b[1;33m\u001b[0m\u001b[0m\n",
      "\u001b[1;31mJSONDecodeError\u001b[0m: Expecting value: line 1 column 1 (char 0)",
      "\nDuring handling of the above exception, another exception occurred:\n",
      "\u001b[1;31mJSONDecodeError\u001b[0m                           Traceback (most recent call last)",
      "\u001b[1;32m~\\anaconda3\\envs\\PythonData\\lib\\site-packages\\censusdata\\download.py\u001b[0m in \u001b[0;36m_download\u001b[1;34m(src, year, params, baseurl, endpt)\u001b[0m\n\u001b[0;32m     35\u001b[0m         \u001b[1;32mtry\u001b[0m\u001b[1;33m:\u001b[0m\u001b[1;33m\u001b[0m\u001b[1;33m\u001b[0m\u001b[0m\n\u001b[1;32m---> 36\u001b[1;33m                 \u001b[0mdata\u001b[0m \u001b[1;33m=\u001b[0m \u001b[0mr\u001b[0m\u001b[1;33m.\u001b[0m\u001b[0mjson\u001b[0m\u001b[1;33m(\u001b[0m\u001b[1;33m)\u001b[0m\u001b[1;33m\u001b[0m\u001b[1;33m\u001b[0m\u001b[0m\n\u001b[0m\u001b[0;32m     37\u001b[0m         \u001b[1;32mexcept\u001b[0m\u001b[1;33m:\u001b[0m\u001b[1;33m\u001b[0m\u001b[1;33m\u001b[0m\u001b[0m\n",
      "\u001b[1;32m~\\anaconda3\\envs\\PythonData\\lib\\site-packages\\requests\\models.py\u001b[0m in \u001b[0;36mjson\u001b[1;34m(self, **kwargs)\u001b[0m\n\u001b[0;32m    974\u001b[0m             \u001b[1;31m# This aliases json.JSONDecodeError and simplejson.JSONDecodeError\u001b[0m\u001b[1;33m\u001b[0m\u001b[1;33m\u001b[0m\u001b[1;33m\u001b[0m\u001b[0m\n\u001b[1;32m--> 975\u001b[1;33m             \u001b[1;32mraise\u001b[0m \u001b[0mRequestsJSONDecodeError\u001b[0m\u001b[1;33m(\u001b[0m\u001b[0me\u001b[0m\u001b[1;33m.\u001b[0m\u001b[0mmsg\u001b[0m\u001b[1;33m,\u001b[0m \u001b[0me\u001b[0m\u001b[1;33m.\u001b[0m\u001b[0mdoc\u001b[0m\u001b[1;33m,\u001b[0m \u001b[0me\u001b[0m\u001b[1;33m.\u001b[0m\u001b[0mpos\u001b[0m\u001b[1;33m)\u001b[0m\u001b[1;33m\u001b[0m\u001b[1;33m\u001b[0m\u001b[0m\n\u001b[0m\u001b[0;32m    976\u001b[0m \u001b[1;33m\u001b[0m\u001b[0m\n",
      "\u001b[1;31mJSONDecodeError\u001b[0m: Expecting value: line 1 column 1 (char 0)",
      "\nDuring handling of the above exception, another exception occurred:\n",
      "\u001b[1;31mValueError\u001b[0m                                Traceback (most recent call last)",
      "\u001b[1;32m~\\AppData\\Local\\Temp\\ipykernel_4620\\4129195888.py\u001b[0m in \u001b[0;36m<module>\u001b[1;34m\u001b[0m\n\u001b[0;32m      8\u001b[0m                                          \u001b[1;34m\"B02001_002E\"\u001b[0m\u001b[1;33m,\u001b[0m \u001b[1;34m\"B02001_003E\"\u001b[0m\u001b[1;33m,\u001b[0m\u001b[1;33m\u001b[0m\u001b[1;33m\u001b[0m\u001b[0m\n\u001b[0;32m      9\u001b[0m                                          \u001b[1;34m\"B19013A_001E\"\u001b[0m\u001b[1;33m,\u001b[0m \u001b[1;34m\"B19013B_001E\"\u001b[0m\u001b[1;33m,\u001b[0m\u001b[1;33m\u001b[0m\u001b[1;33m\u001b[0m\u001b[0m\n\u001b[1;32m---> 10\u001b[1;33m                                         \"S2301_001E\"])\n\u001b[0m\u001b[0;32m     11\u001b[0m \u001b[1;33m\u001b[0m\u001b[0m\n\u001b[0;32m     12\u001b[0m \u001b[0mcensus_2014\u001b[0m \u001b[1;33m=\u001b[0m \u001b[0mpd\u001b[0m\u001b[1;33m.\u001b[0m\u001b[0mDataFrame\u001b[0m\u001b[1;33m(\u001b[0m\u001b[0mdata\u001b[0m\u001b[1;33m)\u001b[0m\u001b[1;33m\u001b[0m\u001b[1;33m\u001b[0m\u001b[0m\n",
      "\u001b[1;32m~\\anaconda3\\envs\\PythonData\\lib\\site-packages\\censusdata\\download.py\u001b[0m in \u001b[0;36mdownload\u001b[1;34m(src, year, geo, var, key, tabletype, endpt)\u001b[0m\n\u001b[0;32m    114\u001b[0m                 \u001b[0mparams\u001b[0m\u001b[1;33m.\u001b[0m\u001b[0mupdate\u001b[0m\u001b[1;33m(\u001b[0m\u001b[0mgeorequest\u001b[0m\u001b[1;33m)\u001b[0m\u001b[1;33m\u001b[0m\u001b[1;33m\u001b[0m\u001b[0m\n\u001b[0;32m    115\u001b[0m                 \u001b[1;32mif\u001b[0m \u001b[0mkey\u001b[0m \u001b[1;32mis\u001b[0m \u001b[1;32mnot\u001b[0m \u001b[1;32mNone\u001b[0m\u001b[1;33m:\u001b[0m \u001b[0mparams\u001b[0m\u001b[1;33m.\u001b[0m\u001b[0mupdate\u001b[0m\u001b[1;33m(\u001b[0m\u001b[1;33m{\u001b[0m\u001b[1;34m'key'\u001b[0m\u001b[1;33m:\u001b[0m \u001b[0mkey\u001b[0m\u001b[1;33m}\u001b[0m\u001b[1;33m)\u001b[0m\u001b[1;33m\u001b[0m\u001b[1;33m\u001b[0m\u001b[0m\n\u001b[1;32m--> 116\u001b[1;33m                 \u001b[0mdata\u001b[0m\u001b[1;33m.\u001b[0m\u001b[0mupdate\u001b[0m\u001b[1;33m(\u001b[0m\u001b[0m_download\u001b[0m\u001b[1;33m(\u001b[0m\u001b[0msrc\u001b[0m \u001b[1;33m+\u001b[0m \u001b[0mtabletype\u001b[0m\u001b[1;33m,\u001b[0m \u001b[0myear\u001b[0m\u001b[1;33m,\u001b[0m \u001b[0mparams\u001b[0m\u001b[1;33m,\u001b[0m \u001b[0mendpt\u001b[0m\u001b[1;33m=\u001b[0m\u001b[0mendpt\u001b[0m\u001b[1;33m)\u001b[0m\u001b[1;33m)\u001b[0m\u001b[1;33m\u001b[0m\u001b[1;33m\u001b[0m\u001b[0m\n\u001b[0m\u001b[0;32m    117\u001b[0m         \u001b[0mgeodata\u001b[0m \u001b[1;33m=\u001b[0m \u001b[0mdata\u001b[0m\u001b[1;33m.\u001b[0m\u001b[0mcopy\u001b[0m\u001b[1;33m(\u001b[0m\u001b[1;33m)\u001b[0m\u001b[1;33m\u001b[0m\u001b[1;33m\u001b[0m\u001b[0m\n\u001b[0;32m    118\u001b[0m         \u001b[1;32mfor\u001b[0m \u001b[0mkey\u001b[0m \u001b[1;32min\u001b[0m \u001b[0mlist\u001b[0m\u001b[1;33m(\u001b[0m\u001b[0mgeodata\u001b[0m\u001b[1;33m.\u001b[0m\u001b[0mkeys\u001b[0m\u001b[1;33m(\u001b[0m\u001b[1;33m)\u001b[0m\u001b[1;33m)\u001b[0m\u001b[1;33m:\u001b[0m\u001b[1;33m\u001b[0m\u001b[1;33m\u001b[0m\u001b[0m\n",
      "\u001b[1;32m~\\anaconda3\\envs\\PythonData\\lib\\site-packages\\censusdata\\download.py\u001b[0m in \u001b[0;36m_download\u001b[1;34m(src, year, params, baseurl, endpt)\u001b[0m\n\u001b[0;32m     36\u001b[0m                 \u001b[0mdata\u001b[0m \u001b[1;33m=\u001b[0m \u001b[0mr\u001b[0m\u001b[1;33m.\u001b[0m\u001b[0mjson\u001b[0m\u001b[1;33m(\u001b[0m\u001b[1;33m)\u001b[0m\u001b[1;33m\u001b[0m\u001b[1;33m\u001b[0m\u001b[0m\n\u001b[0;32m     37\u001b[0m         \u001b[1;32mexcept\u001b[0m\u001b[1;33m:\u001b[0m\u001b[1;33m\u001b[0m\u001b[1;33m\u001b[0m\u001b[0m\n\u001b[1;32m---> 38\u001b[1;33m                 \u001b[1;32mraise\u001b[0m \u001b[0mValueError\u001b[0m\u001b[1;33m(\u001b[0m\u001b[1;34m'Unexpected response (URL: {0.url}): {0.text} '\u001b[0m\u001b[1;33m.\u001b[0m\u001b[0mformat\u001b[0m\u001b[1;33m(\u001b[0m\u001b[0mr\u001b[0m\u001b[1;33m)\u001b[0m\u001b[1;33m)\u001b[0m\u001b[1;33m\u001b[0m\u001b[1;33m\u001b[0m\u001b[0m\n\u001b[0m\u001b[0;32m     39\u001b[0m         \u001b[0mrdata\u001b[0m \u001b[1;33m=\u001b[0m \u001b[0mOrderedDict\u001b[0m\u001b[1;33m(\u001b[0m\u001b[1;33m)\u001b[0m\u001b[1;33m\u001b[0m\u001b[1;33m\u001b[0m\u001b[0m\n\u001b[0;32m     40\u001b[0m         \u001b[1;32mfor\u001b[0m \u001b[0mj\u001b[0m \u001b[1;32min\u001b[0m \u001b[0mrange\u001b[0m\u001b[1;33m(\u001b[0m\u001b[0mlen\u001b[0m\u001b[1;33m(\u001b[0m\u001b[0mdata\u001b[0m\u001b[1;33m[\u001b[0m\u001b[1;36m0\u001b[0m\u001b[1;33m]\u001b[0m\u001b[1;33m)\u001b[0m\u001b[1;33m)\u001b[0m\u001b[1;33m:\u001b[0m\u001b[1;33m\u001b[0m\u001b[1;33m\u001b[0m\u001b[0m\n",
      "\u001b[1;31mValueError\u001b[0m: Unexpected response (URL: https://api.census.gov/data/2014/acs/acs1?get=NAME,B19001_001E,B01003_001E,B19013_001E,B02001_002E,B02001_003E,B19013A_001E,B19013B_001E,S2301_001E&for=county:510&in=state:24): error: error: unknown variable 'S2301_001E' "
     ]
    }
   ],
   "source": [
    "# American Community Survey 1-Year Data \n",
    "\n",
    "data = censusdata.download('acs1', 2014,\n",
    "                          censusdata.censusgeo([('state', '24'),\n",
    "                                         ('county', '510')]),\n",
    "                                        [\"B19001_001E\",\"B01003_001E\",\n",
    "                                         \"B19013_001E\",\n",
    "                                         \"B02001_002E\", \"B02001_003E\",\n",
    "                                         \"B19013A_001E\", \"B19013B_001E\"\n",
    "                                        ])\n",
    "                          \n",
    "census_2014 = pd.DataFrame(data)\n",
    "census_2014"
   ]
  },
  {
   "cell_type": "code",
   "execution_count": null,
   "id": "43db78e3",
   "metadata": {},
   "outputs": [],
   "source": [
    "# Replace the census variable codes (such as \"B19013_001E\") in the dataframe with text so it's understandable\n",
    "census_2014 = census_2014.rename(columns={\"B19001_001E\": \"Total households\",\n",
    "                                      \"B01003_001E\": \"Population\",\n",
    "                                      \"B19013_001E\": \"Median household income\",\n",
    "                                      \"B02001_003E\": \"Pop. Black\",\n",
    "                                      \"B02001_002E\": \"Pop. white\",\n",
    "                                      \"B19013A_001E\": \"Median HH income White Alone Householder\",\n",
    "                                      \"B19013B_001E\": \"Median HH income Black or African American Alone Householder\",  \n",
    "                                      })\n",
    "census_2014.head()"
   ]
  },
  {
   "cell_type": "code",
   "execution_count": null,
   "id": "2013a9aa",
   "metadata": {},
   "outputs": [],
   "source": [
    "census = census_2014.copy()\n",
    "census"
   ]
  },
  {
   "cell_type": "code",
   "execution_count": null,
   "id": "456246b6",
   "metadata": {},
   "outputs": [],
   "source": [
    "census.index = ['Baltimore, 2014']\n",
    "census"
   ]
  },
  {
   "cell_type": "code",
   "execution_count": null,
   "id": "808a7748",
   "metadata": {},
   "outputs": [],
   "source": [
    "census = census.reset_index()\n",
    "census"
   ]
  },
  {
   "cell_type": "code",
   "execution_count": null,
   "id": "9fadf387",
   "metadata": {},
   "outputs": [],
   "source": [
    "census = census.rename(columns={\"index\": \"Year\"})                                           \n",
    "census "
   ]
  },
  {
   "cell_type": "code",
   "execution_count": null,
   "id": "b0ed1d1c",
   "metadata": {},
   "outputs": [],
   "source": [
    "income_2014 = census.copy()\n",
    "income_2014"
   ]
  },
  {
   "cell_type": "code",
   "execution_count": null,
   "id": "90f98963",
   "metadata": {},
   "outputs": [],
   "source": [
    "income_2014[[\"Location\", \"Year\"]] = income_2014.Year.str.split(\",\", expand=True)\n",
    "income_2014"
   ]
  },
  {
   "cell_type": "code",
   "execution_count": null,
   "id": "baa33982",
   "metadata": {},
   "outputs": [],
   "source": [
    "# Export file as a CSV, without the Pandas index, but with the header\n",
    "income_2014.to_csv(\"balt_income_2014.csv\", index = False, header=True)"
   ]
  },
  {
   "cell_type": "code",
   "execution_count": null,
   "id": "8c634daa",
   "metadata": {},
   "outputs": [],
   "source": []
  },
  {
   "cell_type": "code",
   "execution_count": null,
   "id": "fe5ccdde",
   "metadata": {},
   "outputs": [],
   "source": []
  },
  {
   "cell_type": "code",
   "execution_count": null,
   "id": "dce0dc50",
   "metadata": {},
   "outputs": [],
   "source": [
    "# American Community Survey 1-Year Data \n",
    "data_rates = censusdata.download('acs1', 2014,\n",
    "                          censusdata.censusgeo([('state', '24'),\n",
    "                                         ('county', '510')]),\n",
    "                                        [\"B17001_001E\",\"B17001_002E\",\"B23025_001E\",\"B23025_002E\",\n",
    "                                         \"B23025_004E\",\"B23025_005E\"\n",
    "                                        ])\n",
    "rates_2014 = pd.DataFrame(data_rates)\n",
    "rates_2014"
   ]
  },
  {
   "cell_type": "code",
   "execution_count": null,
   "id": "23fa2d5b",
   "metadata": {},
   "outputs": [],
   "source": [
    "rates_2014 = rates_2014.rename(columns={\n",
    "                                      \"B17001_001E\": \"Persons for whom poverty status determined\",    \n",
    "                                      \"B17001_002E\": \"Individuals- income below poverty level\",# universe: persons for whom poverty status is determined\n",
    "                                      \"B23025_001E\":  \"Population 16 years and over\",\n",
    "                                      \"B23025_002E\": \"In labor force\", # universe: Population 16 years and over\n",
    "                                      \"B23025_004E\": \"Employed civilians\", # universe: Population 16 years and over\n",
    "                                      \"B23025_005E\": \"Unemployed civilians\", # universe: Population 16 years and over\n",
    "                                      })\n",
    "rates_2014.head()"
   ]
  },
  {
   "cell_type": "code",
   "execution_count": null,
   "id": "466b5f66",
   "metadata": {},
   "outputs": [],
   "source": [
    "rates2014 = rates_2014.copy()"
   ]
  },
  {
   "cell_type": "code",
   "execution_count": null,
   "id": "fef222dc",
   "metadata": {},
   "outputs": [],
   "source": [
    "rates2014.index = ['Baltimore, 2014']\n",
    "rates2014"
   ]
  },
  {
   "cell_type": "code",
   "execution_count": null,
   "id": "630fb954",
   "metadata": {},
   "outputs": [],
   "source": [
    "rates2014 = rates2014.reset_index()\n",
    "rates2014"
   ]
  },
  {
   "cell_type": "code",
   "execution_count": null,
   "id": "d4a327bb",
   "metadata": {},
   "outputs": [],
   "source": [
    "rates2014 = rates2014.rename(columns={\"index\": \"Year\"})                                           \n",
    "rates2014 "
   ]
  },
  {
   "cell_type": "code",
   "execution_count": null,
   "id": "5f8b5f92",
   "metadata": {},
   "outputs": [],
   "source": [
    "rates2014 [[\"Location\", \"Year\"]] = rates2014 .Year.str.split(\",\", expand=True)\n",
    "rates2014 "
   ]
  },
  {
   "cell_type": "code",
   "execution_count": null,
   "id": "1ce6587d",
   "metadata": {},
   "outputs": [],
   "source": [
    "# Add a new column for unemployment rate \n",
    "rates2014[\"Unemployment rate\"] = (100 * \\\n",
    "    rates2014[\"Unemployed civilians\"].astype(\n",
    "        int) / rates2014[\"Population 16 years and over\"].astype(int)).round()\n",
    "rates2014.head()"
   ]
  },
  {
   "cell_type": "code",
   "execution_count": null,
   "id": "8f8d3e44",
   "metadata": {},
   "outputs": [],
   "source": [
    "#rates2014[\"Poverty rate\"] = rates2014[\"Poverty rate\"].astype(float).round(1)\n",
    "#rates2014[\"Unemployment rate\"] = rates2014[\"Unemployment rate\"].astype(float).round(1)\n"
   ]
  },
  {
   "cell_type": "code",
   "execution_count": null,
   "id": "7af6fa7a",
   "metadata": {},
   "outputs": [],
   "source": [
    "# Add a new column for labor participation rate \n",
    "rates2014[\"Labor participation rate\"] = (100 * \\\n",
    "    rates2014[\"In labor force\"].astype(\n",
    "        int) / rates2014[\"Population 16 years and over\"].astype(int)).round(1)\n",
    "rates2014.head()"
   ]
  },
  {
   "cell_type": "code",
   "execution_count": null,
   "id": "ae3b9c8d",
   "metadata": {},
   "outputs": [],
   "source": [
    "# Export file as a CSV, without the Pandas index, but with the header\n",
    "rates2014.to_csv(\"balt_employment_2014.csv\", index = False, header=True)"
   ]
  }
 ],
 "metadata": {
  "kernelspec": {
   "display_name": "Python 3",
   "language": "python",
   "name": "python3"
  },
  "language_info": {
   "codemirror_mode": {
    "name": "ipython",
    "version": 3
   },
   "file_extension": ".py",
   "mimetype": "text/x-python",
   "name": "python",
   "nbconvert_exporter": "python",
   "pygments_lexer": "ipython3",
   "version": "3.7.13"
  }
 },
 "nbformat": 4,
 "nbformat_minor": 5
}
