{
 "cells": [
  {
   "cell_type": "code",
   "execution_count": 1,
   "id": "2a9cbda5",
   "metadata": {},
   "outputs": [],
   "source": [
    "#  *** THIS DATA (FROM API) HAS BEEN CHECKED AGAINST DATA.CENSUS.GOV TABLES***"
   ]
  },
  {
   "cell_type": "code",
   "execution_count": 2,
   "id": "a5bfa3e0",
   "metadata": {},
   "outputs": [],
   "source": [
    "## Build an equitable economy: INCOME\n",
    "### MD median income, Black median income, Black-white income gap\n",
    "## 2018"
   ]
  },
  {
   "cell_type": "code",
   "execution_count": 3,
   "id": "4b9616b2",
   "metadata": {},
   "outputs": [],
   "source": [
    "# data source: 2018 Census Data (ACS-1 year) for Selected Variables - MARYLAND"
   ]
  },
  {
   "cell_type": "code",
   "execution_count": 4,
   "id": "e3541104",
   "metadata": {},
   "outputs": [],
   "source": [
    "# Dependencies\n",
    "import pandas as pd\n",
    "import matplotlib.pyplot as plt\n",
    "import requests\n",
    "import censusdata "
   ]
  },
  {
   "cell_type": "code",
   "execution_count": 5,
   "id": "d92ff12b",
   "metadata": {},
   "outputs": [],
   "source": [
    "import os"
   ]
  },
  {
   "cell_type": "code",
   "execution_count": 6,
   "id": "6de9b788",
   "metadata": {},
   "outputs": [
    {
     "data": {
      "text/plain": [
       "'C:\\\\Users\\\\Jenkir\\\\Desktop\\\\BDC\\\\Baltimore_Together\\\\measuring-success-metrics\\\\BT-equity-metric-analysis'"
      ]
     },
     "execution_count": 6,
     "metadata": {},
     "output_type": "execute_result"
    }
   ],
   "source": [
    "os.getcwd()"
   ]
  },
  {
   "cell_type": "code",
   "execution_count": 7,
   "id": "70066bb3",
   "metadata": {},
   "outputs": [],
   "source": [
    "# need to change the working directory; be sure that the config file for the census API is also in this folder\n",
    "#os.chdir('C:\\\\Users\\\\Jenkir\\\\Desktop\\\\BDC\\\\Baltimore_Together\\\\measuring-success-metrics\\\\analysis_nbs')\n"
   ]
  },
  {
   "cell_type": "code",
   "execution_count": 8,
   "id": "e5c6eb2e",
   "metadata": {},
   "outputs": [],
   "source": [
    "#os.getcwd()"
   ]
  },
  {
   "cell_type": "code",
   "execution_count": 9,
   "id": "a1d86d9b",
   "metadata": {},
   "outputs": [],
   "source": [
    "pd.set_option('display.max_rows', 200)"
   ]
  },
  {
   "cell_type": "code",
   "execution_count": 10,
   "id": "60779a2c",
   "metadata": {},
   "outputs": [],
   "source": [
    "pd.set_option('max_colwidth', 100)"
   ]
  },
  {
   "cell_type": "code",
   "execution_count": 11,
   "id": "e5138716",
   "metadata": {},
   "outputs": [
    {
     "data": {
      "text/html": [
       "<div>\n",
       "<style scoped>\n",
       "    .dataframe tbody tr th:only-of-type {\n",
       "        vertical-align: middle;\n",
       "    }\n",
       "\n",
       "    .dataframe tbody tr th {\n",
       "        vertical-align: top;\n",
       "    }\n",
       "\n",
       "    .dataframe thead th {\n",
       "        text-align: right;\n",
       "    }\n",
       "</style>\n",
       "<table border=\"1\" class=\"dataframe\">\n",
       "  <thead>\n",
       "    <tr style=\"text-align: right;\">\n",
       "      <th></th>\n",
       "      <th>B19001_001E</th>\n",
       "      <th>B01003_001E</th>\n",
       "      <th>B19013_001E</th>\n",
       "      <th>B02001_002E</th>\n",
       "      <th>B02001_003E</th>\n",
       "      <th>B19013A_001E</th>\n",
       "      <th>B19013B_001E</th>\n",
       "    </tr>\n",
       "  </thead>\n",
       "  <tbody>\n",
       "    <tr>\n",
       "      <th>Maryland: Summary level: 040, state:24</th>\n",
       "      <td>2215935</td>\n",
       "      <td>6042718</td>\n",
       "      <td>83242</td>\n",
       "      <td>3305047</td>\n",
       "      <td>1810885</td>\n",
       "      <td>92394</td>\n",
       "      <td>66926</td>\n",
       "    </tr>\n",
       "  </tbody>\n",
       "</table>\n",
       "</div>"
      ],
      "text/plain": [
       "                                        B19001_001E  B01003_001E  B19013_001E  \\\n",
       "Maryland: Summary level: 040, state:24      2215935      6042718        83242   \n",
       "\n",
       "                                        B02001_002E  B02001_003E  \\\n",
       "Maryland: Summary level: 040, state:24      3305047      1810885   \n",
       "\n",
       "                                        B19013A_001E  B19013B_001E  \n",
       "Maryland: Summary level: 040, state:24         92394         66926  "
      ]
     },
     "execution_count": 11,
     "metadata": {},
     "output_type": "execute_result"
    }
   ],
   "source": [
    "# American Community Survey 1-Year Data \n",
    "data = censusdata.download('acs1', 2018,\n",
    "                          censusdata.censusgeo([('state', '24'\n",
    "                                                )]),\n",
    "                                        [\"B19001_001E\",\"B01003_001E\",\n",
    "                                         \"B19013_001E\",\n",
    "                                         \"B02001_002E\", \"B02001_003E\",\n",
    "                                         \"B19013A_001E\", \"B19013B_001E\"])                          \n",
    "census_2018 = pd.DataFrame(data)\n",
    "census_2018"
   ]
  },
  {
   "cell_type": "code",
   "execution_count": 12,
   "id": "43db78e3",
   "metadata": {},
   "outputs": [
    {
     "data": {
      "text/html": [
       "<div>\n",
       "<style scoped>\n",
       "    .dataframe tbody tr th:only-of-type {\n",
       "        vertical-align: middle;\n",
       "    }\n",
       "\n",
       "    .dataframe tbody tr th {\n",
       "        vertical-align: top;\n",
       "    }\n",
       "\n",
       "    .dataframe thead th {\n",
       "        text-align: right;\n",
       "    }\n",
       "</style>\n",
       "<table border=\"1\" class=\"dataframe\">\n",
       "  <thead>\n",
       "    <tr style=\"text-align: right;\">\n",
       "      <th></th>\n",
       "      <th>Total households</th>\n",
       "      <th>Population</th>\n",
       "      <th>Median household income</th>\n",
       "      <th>Pop. white</th>\n",
       "      <th>Pop. Black</th>\n",
       "      <th>Median HH income White Alone Householder</th>\n",
       "      <th>Median HH income Black or African American Alone Householder</th>\n",
       "    </tr>\n",
       "  </thead>\n",
       "  <tbody>\n",
       "    <tr>\n",
       "      <th>Maryland: Summary level: 040, state:24</th>\n",
       "      <td>2215935</td>\n",
       "      <td>6042718</td>\n",
       "      <td>83242</td>\n",
       "      <td>3305047</td>\n",
       "      <td>1810885</td>\n",
       "      <td>92394</td>\n",
       "      <td>66926</td>\n",
       "    </tr>\n",
       "  </tbody>\n",
       "</table>\n",
       "</div>"
      ],
      "text/plain": [
       "                                        Total households  Population  \\\n",
       "Maryland: Summary level: 040, state:24           2215935     6042718   \n",
       "\n",
       "                                        Median household income  Pop. white  \\\n",
       "Maryland: Summary level: 040, state:24                    83242     3305047   \n",
       "\n",
       "                                        Pop. Black  \\\n",
       "Maryland: Summary level: 040, state:24     1810885   \n",
       "\n",
       "                                        Median HH income White Alone Householder  \\\n",
       "Maryland: Summary level: 040, state:24                                     92394   \n",
       "\n",
       "                                        Median HH income Black or African American Alone Householder  \n",
       "Maryland: Summary level: 040, state:24                                                         66926  "
      ]
     },
     "execution_count": 12,
     "metadata": {},
     "output_type": "execute_result"
    }
   ],
   "source": [
    "# Replace the census variable codes (such as \"B19013_001E\") in the dataframe with text so it's understandable\n",
    "census_2018 = census_2018.rename(columns={\"B19001_001E\": \"Total households\",\n",
    "                                      \"B01003_001E\": \"Population\",\n",
    "                                      \"B19013_001E\": \"Median household income\",\n",
    "                                      \"B02001_003E\": \"Pop. Black\",\n",
    "                                      \"B02001_002E\": \"Pop. white\",\n",
    "                                      \"B19013A_001E\": \"Median HH income White Alone Householder\",\n",
    "                                      \"B19013B_001E\": \"Median HH income Black or African American Alone Householder\",  \n",
    "                                      })\n",
    "census_2018.head()"
   ]
  },
  {
   "cell_type": "code",
   "execution_count": 13,
   "id": "2013a9aa",
   "metadata": {},
   "outputs": [
    {
     "data": {
      "text/html": [
       "<div>\n",
       "<style scoped>\n",
       "    .dataframe tbody tr th:only-of-type {\n",
       "        vertical-align: middle;\n",
       "    }\n",
       "\n",
       "    .dataframe tbody tr th {\n",
       "        vertical-align: top;\n",
       "    }\n",
       "\n",
       "    .dataframe thead th {\n",
       "        text-align: right;\n",
       "    }\n",
       "</style>\n",
       "<table border=\"1\" class=\"dataframe\">\n",
       "  <thead>\n",
       "    <tr style=\"text-align: right;\">\n",
       "      <th></th>\n",
       "      <th>Total households</th>\n",
       "      <th>Population</th>\n",
       "      <th>Median household income</th>\n",
       "      <th>Pop. white</th>\n",
       "      <th>Pop. Black</th>\n",
       "      <th>Median HH income White Alone Householder</th>\n",
       "      <th>Median HH income Black or African American Alone Householder</th>\n",
       "    </tr>\n",
       "  </thead>\n",
       "  <tbody>\n",
       "    <tr>\n",
       "      <th>Maryland: Summary level: 040, state:24</th>\n",
       "      <td>2215935</td>\n",
       "      <td>6042718</td>\n",
       "      <td>83242</td>\n",
       "      <td>3305047</td>\n",
       "      <td>1810885</td>\n",
       "      <td>92394</td>\n",
       "      <td>66926</td>\n",
       "    </tr>\n",
       "  </tbody>\n",
       "</table>\n",
       "</div>"
      ],
      "text/plain": [
       "                                        Total households  Population  \\\n",
       "Maryland: Summary level: 040, state:24           2215935     6042718   \n",
       "\n",
       "                                        Median household income  Pop. white  \\\n",
       "Maryland: Summary level: 040, state:24                    83242     3305047   \n",
       "\n",
       "                                        Pop. Black  \\\n",
       "Maryland: Summary level: 040, state:24     1810885   \n",
       "\n",
       "                                        Median HH income White Alone Householder  \\\n",
       "Maryland: Summary level: 040, state:24                                     92394   \n",
       "\n",
       "                                        Median HH income Black or African American Alone Householder  \n",
       "Maryland: Summary level: 040, state:24                                                         66926  "
      ]
     },
     "execution_count": 13,
     "metadata": {},
     "output_type": "execute_result"
    }
   ],
   "source": [
    "census = census_2018.copy()\n",
    "census"
   ]
  },
  {
   "cell_type": "code",
   "execution_count": 14,
   "id": "456246b6",
   "metadata": {},
   "outputs": [
    {
     "data": {
      "text/html": [
       "<div>\n",
       "<style scoped>\n",
       "    .dataframe tbody tr th:only-of-type {\n",
       "        vertical-align: middle;\n",
       "    }\n",
       "\n",
       "    .dataframe tbody tr th {\n",
       "        vertical-align: top;\n",
       "    }\n",
       "\n",
       "    .dataframe thead th {\n",
       "        text-align: right;\n",
       "    }\n",
       "</style>\n",
       "<table border=\"1\" class=\"dataframe\">\n",
       "  <thead>\n",
       "    <tr style=\"text-align: right;\">\n",
       "      <th></th>\n",
       "      <th>Total households</th>\n",
       "      <th>Population</th>\n",
       "      <th>Median household income</th>\n",
       "      <th>Pop. white</th>\n",
       "      <th>Pop. Black</th>\n",
       "      <th>Median HH income White Alone Householder</th>\n",
       "      <th>Median HH income Black or African American Alone Householder</th>\n",
       "    </tr>\n",
       "  </thead>\n",
       "  <tbody>\n",
       "    <tr>\n",
       "      <th>Maryland, 2018</th>\n",
       "      <td>2215935</td>\n",
       "      <td>6042718</td>\n",
       "      <td>83242</td>\n",
       "      <td>3305047</td>\n",
       "      <td>1810885</td>\n",
       "      <td>92394</td>\n",
       "      <td>66926</td>\n",
       "    </tr>\n",
       "  </tbody>\n",
       "</table>\n",
       "</div>"
      ],
      "text/plain": [
       "                Total households  Population  Median household income  \\\n",
       "Maryland, 2018           2215935     6042718                    83242   \n",
       "\n",
       "                Pop. white  Pop. Black  \\\n",
       "Maryland, 2018     3305047     1810885   \n",
       "\n",
       "                Median HH income White Alone Householder  \\\n",
       "Maryland, 2018                                     92394   \n",
       "\n",
       "                Median HH income Black or African American Alone Householder  \n",
       "Maryland, 2018                                                         66926  "
      ]
     },
     "execution_count": 14,
     "metadata": {},
     "output_type": "execute_result"
    }
   ],
   "source": [
    "census.index = ['Maryland, 2018']\n",
    "census"
   ]
  },
  {
   "cell_type": "code",
   "execution_count": 15,
   "id": "808a7748",
   "metadata": {},
   "outputs": [
    {
     "data": {
      "text/html": [
       "<div>\n",
       "<style scoped>\n",
       "    .dataframe tbody tr th:only-of-type {\n",
       "        vertical-align: middle;\n",
       "    }\n",
       "\n",
       "    .dataframe tbody tr th {\n",
       "        vertical-align: top;\n",
       "    }\n",
       "\n",
       "    .dataframe thead th {\n",
       "        text-align: right;\n",
       "    }\n",
       "</style>\n",
       "<table border=\"1\" class=\"dataframe\">\n",
       "  <thead>\n",
       "    <tr style=\"text-align: right;\">\n",
       "      <th></th>\n",
       "      <th>index</th>\n",
       "      <th>Total households</th>\n",
       "      <th>Population</th>\n",
       "      <th>Median household income</th>\n",
       "      <th>Pop. white</th>\n",
       "      <th>Pop. Black</th>\n",
       "      <th>Median HH income White Alone Householder</th>\n",
       "      <th>Median HH income Black or African American Alone Householder</th>\n",
       "    </tr>\n",
       "  </thead>\n",
       "  <tbody>\n",
       "    <tr>\n",
       "      <th>0</th>\n",
       "      <td>Maryland, 2018</td>\n",
       "      <td>2215935</td>\n",
       "      <td>6042718</td>\n",
       "      <td>83242</td>\n",
       "      <td>3305047</td>\n",
       "      <td>1810885</td>\n",
       "      <td>92394</td>\n",
       "      <td>66926</td>\n",
       "    </tr>\n",
       "  </tbody>\n",
       "</table>\n",
       "</div>"
      ],
      "text/plain": [
       "            index  Total households  Population  Median household income  \\\n",
       "0  Maryland, 2018           2215935     6042718                    83242   \n",
       "\n",
       "   Pop. white  Pop. Black  Median HH income White Alone Householder  \\\n",
       "0     3305047     1810885                                     92394   \n",
       "\n",
       "   Median HH income Black or African American Alone Householder  \n",
       "0                                                         66926  "
      ]
     },
     "execution_count": 15,
     "metadata": {},
     "output_type": "execute_result"
    }
   ],
   "source": [
    "census = census.reset_index()\n",
    "census"
   ]
  },
  {
   "cell_type": "code",
   "execution_count": 16,
   "id": "9fadf387",
   "metadata": {},
   "outputs": [
    {
     "data": {
      "text/html": [
       "<div>\n",
       "<style scoped>\n",
       "    .dataframe tbody tr th:only-of-type {\n",
       "        vertical-align: middle;\n",
       "    }\n",
       "\n",
       "    .dataframe tbody tr th {\n",
       "        vertical-align: top;\n",
       "    }\n",
       "\n",
       "    .dataframe thead th {\n",
       "        text-align: right;\n",
       "    }\n",
       "</style>\n",
       "<table border=\"1\" class=\"dataframe\">\n",
       "  <thead>\n",
       "    <tr style=\"text-align: right;\">\n",
       "      <th></th>\n",
       "      <th>Year</th>\n",
       "      <th>Total households</th>\n",
       "      <th>Population</th>\n",
       "      <th>Median household income</th>\n",
       "      <th>Pop. white</th>\n",
       "      <th>Pop. Black</th>\n",
       "      <th>Median HH income White Alone Householder</th>\n",
       "      <th>Median HH income Black or African American Alone Householder</th>\n",
       "    </tr>\n",
       "  </thead>\n",
       "  <tbody>\n",
       "    <tr>\n",
       "      <th>0</th>\n",
       "      <td>Maryland, 2018</td>\n",
       "      <td>2215935</td>\n",
       "      <td>6042718</td>\n",
       "      <td>83242</td>\n",
       "      <td>3305047</td>\n",
       "      <td>1810885</td>\n",
       "      <td>92394</td>\n",
       "      <td>66926</td>\n",
       "    </tr>\n",
       "  </tbody>\n",
       "</table>\n",
       "</div>"
      ],
      "text/plain": [
       "             Year  Total households  Population  Median household income  \\\n",
       "0  Maryland, 2018           2215935     6042718                    83242   \n",
       "\n",
       "   Pop. white  Pop. Black  Median HH income White Alone Householder  \\\n",
       "0     3305047     1810885                                     92394   \n",
       "\n",
       "   Median HH income Black or African American Alone Householder  \n",
       "0                                                         66926  "
      ]
     },
     "execution_count": 16,
     "metadata": {},
     "output_type": "execute_result"
    }
   ],
   "source": [
    "census = census.rename(columns={\"index\": \"Year\"})                                           \n",
    "census "
   ]
  },
  {
   "cell_type": "code",
   "execution_count": 17,
   "id": "b0ed1d1c",
   "metadata": {},
   "outputs": [
    {
     "data": {
      "text/html": [
       "<div>\n",
       "<style scoped>\n",
       "    .dataframe tbody tr th:only-of-type {\n",
       "        vertical-align: middle;\n",
       "    }\n",
       "\n",
       "    .dataframe tbody tr th {\n",
       "        vertical-align: top;\n",
       "    }\n",
       "\n",
       "    .dataframe thead th {\n",
       "        text-align: right;\n",
       "    }\n",
       "</style>\n",
       "<table border=\"1\" class=\"dataframe\">\n",
       "  <thead>\n",
       "    <tr style=\"text-align: right;\">\n",
       "      <th></th>\n",
       "      <th>Year</th>\n",
       "      <th>Total households</th>\n",
       "      <th>Population</th>\n",
       "      <th>Median household income</th>\n",
       "      <th>Pop. white</th>\n",
       "      <th>Pop. Black</th>\n",
       "      <th>Median HH income White Alone Householder</th>\n",
       "      <th>Median HH income Black or African American Alone Householder</th>\n",
       "    </tr>\n",
       "  </thead>\n",
       "  <tbody>\n",
       "    <tr>\n",
       "      <th>0</th>\n",
       "      <td>Maryland, 2018</td>\n",
       "      <td>2215935</td>\n",
       "      <td>6042718</td>\n",
       "      <td>83242</td>\n",
       "      <td>3305047</td>\n",
       "      <td>1810885</td>\n",
       "      <td>92394</td>\n",
       "      <td>66926</td>\n",
       "    </tr>\n",
       "  </tbody>\n",
       "</table>\n",
       "</div>"
      ],
      "text/plain": [
       "             Year  Total households  Population  Median household income  \\\n",
       "0  Maryland, 2018           2215935     6042718                    83242   \n",
       "\n",
       "   Pop. white  Pop. Black  Median HH income White Alone Householder  \\\n",
       "0     3305047     1810885                                     92394   \n",
       "\n",
       "   Median HH income Black or African American Alone Householder  \n",
       "0                                                         66926  "
      ]
     },
     "execution_count": 17,
     "metadata": {},
     "output_type": "execute_result"
    }
   ],
   "source": [
    "income_2018 = census.copy()\n",
    "income_2018"
   ]
  },
  {
   "cell_type": "code",
   "execution_count": 18,
   "id": "90f98963",
   "metadata": {},
   "outputs": [
    {
     "data": {
      "text/html": [
       "<div>\n",
       "<style scoped>\n",
       "    .dataframe tbody tr th:only-of-type {\n",
       "        vertical-align: middle;\n",
       "    }\n",
       "\n",
       "    .dataframe tbody tr th {\n",
       "        vertical-align: top;\n",
       "    }\n",
       "\n",
       "    .dataframe thead th {\n",
       "        text-align: right;\n",
       "    }\n",
       "</style>\n",
       "<table border=\"1\" class=\"dataframe\">\n",
       "  <thead>\n",
       "    <tr style=\"text-align: right;\">\n",
       "      <th></th>\n",
       "      <th>Year</th>\n",
       "      <th>Total households</th>\n",
       "      <th>Population</th>\n",
       "      <th>Median household income</th>\n",
       "      <th>Pop. white</th>\n",
       "      <th>Pop. Black</th>\n",
       "      <th>Median HH income White Alone Householder</th>\n",
       "      <th>Median HH income Black or African American Alone Householder</th>\n",
       "      <th>Location</th>\n",
       "    </tr>\n",
       "  </thead>\n",
       "  <tbody>\n",
       "    <tr>\n",
       "      <th>0</th>\n",
       "      <td>2018</td>\n",
       "      <td>2215935</td>\n",
       "      <td>6042718</td>\n",
       "      <td>83242</td>\n",
       "      <td>3305047</td>\n",
       "      <td>1810885</td>\n",
       "      <td>92394</td>\n",
       "      <td>66926</td>\n",
       "      <td>Maryland</td>\n",
       "    </tr>\n",
       "  </tbody>\n",
       "</table>\n",
       "</div>"
      ],
      "text/plain": [
       "    Year  Total households  Population  Median household income  Pop. white  \\\n",
       "0   2018           2215935     6042718                    83242     3305047   \n",
       "\n",
       "   Pop. Black  Median HH income White Alone Householder  \\\n",
       "0     1810885                                     92394   \n",
       "\n",
       "   Median HH income Black or African American Alone Householder  Location  \n",
       "0                                                         66926  Maryland  "
      ]
     },
     "execution_count": 18,
     "metadata": {},
     "output_type": "execute_result"
    }
   ],
   "source": [
    "income_2018[[\"Location\", \"Year\"]] = income_2018.Year.str.split(\",\", expand=True)\n",
    "income_2018"
   ]
  },
  {
   "cell_type": "code",
   "execution_count": 19,
   "id": "baa33982",
   "metadata": {},
   "outputs": [],
   "source": [
    "# Export file as a CSV, without the Pandas index, but with the header\n",
    "income_2018.to_csv(\"MD_income_2018.csv\", index = False, header=True)"
   ]
  },
  {
   "cell_type": "code",
   "execution_count": null,
   "id": "6be29e32",
   "metadata": {},
   "outputs": [],
   "source": []
  },
  {
   "cell_type": "code",
   "execution_count": null,
   "id": "4a707c01",
   "metadata": {},
   "outputs": [],
   "source": []
  },
  {
   "cell_type": "code",
   "execution_count": 20,
   "id": "86efed95",
   "metadata": {},
   "outputs": [
    {
     "data": {
      "text/html": [
       "<div>\n",
       "<style scoped>\n",
       "    .dataframe tbody tr th:only-of-type {\n",
       "        vertical-align: middle;\n",
       "    }\n",
       "\n",
       "    .dataframe tbody tr th {\n",
       "        vertical-align: top;\n",
       "    }\n",
       "\n",
       "    .dataframe thead th {\n",
       "        text-align: right;\n",
       "    }\n",
       "</style>\n",
       "<table border=\"1\" class=\"dataframe\">\n",
       "  <thead>\n",
       "    <tr style=\"text-align: right;\">\n",
       "      <th></th>\n",
       "      <th>B17001_001E</th>\n",
       "      <th>B17001_002E</th>\n",
       "      <th>B23025_001E</th>\n",
       "      <th>B23025_002E</th>\n",
       "      <th>B23025_004E</th>\n",
       "      <th>B23025_005E</th>\n",
       "    </tr>\n",
       "  </thead>\n",
       "  <tbody>\n",
       "    <tr>\n",
       "      <th>Maryland: Summary level: 040, state:24</th>\n",
       "      <td>5899819</td>\n",
       "      <td>528203</td>\n",
       "      <td>4852950</td>\n",
       "      <td>3283636</td>\n",
       "      <td>3090469</td>\n",
       "      <td>160777</td>\n",
       "    </tr>\n",
       "  </tbody>\n",
       "</table>\n",
       "</div>"
      ],
      "text/plain": [
       "                                        B17001_001E  B17001_002E  B23025_001E  \\\n",
       "Maryland: Summary level: 040, state:24      5899819       528203      4852950   \n",
       "\n",
       "                                        B23025_002E  B23025_004E  B23025_005E  \n",
       "Maryland: Summary level: 040, state:24      3283636      3090469       160777  "
      ]
     },
     "execution_count": 20,
     "metadata": {},
     "output_type": "execute_result"
    }
   ],
   "source": [
    "# American Community Survey 1-Year Data \n",
    "data_rates = censusdata.download('acs1', 2018,\n",
    "                          censusdata.censusgeo([('state', '24'\n",
    "                                              )]),\n",
    "                                        [\"B17001_001E\",\"B17001_002E\",\"B23025_001E\",\"B23025_002E\",\n",
    "                                         \"B23025_004E\",\"B23025_005E\"\n",
    "                                        ])\n",
    "rates_2018 = pd.DataFrame(data_rates)\n",
    "rates_2018"
   ]
  },
  {
   "cell_type": "code",
   "execution_count": 21,
   "id": "d098cd4e",
   "metadata": {},
   "outputs": [
    {
     "data": {
      "text/html": [
       "<div>\n",
       "<style scoped>\n",
       "    .dataframe tbody tr th:only-of-type {\n",
       "        vertical-align: middle;\n",
       "    }\n",
       "\n",
       "    .dataframe tbody tr th {\n",
       "        vertical-align: top;\n",
       "    }\n",
       "\n",
       "    .dataframe thead th {\n",
       "        text-align: right;\n",
       "    }\n",
       "</style>\n",
       "<table border=\"1\" class=\"dataframe\">\n",
       "  <thead>\n",
       "    <tr style=\"text-align: right;\">\n",
       "      <th></th>\n",
       "      <th>Persons for whom poverty status determined</th>\n",
       "      <th>Individuals- income below poverty level</th>\n",
       "      <th>Population 16 years and over</th>\n",
       "      <th>In labor force</th>\n",
       "      <th>Employed civilians</th>\n",
       "      <th>Unemployed civilians</th>\n",
       "    </tr>\n",
       "  </thead>\n",
       "  <tbody>\n",
       "    <tr>\n",
       "      <th>Maryland: Summary level: 040, state:24</th>\n",
       "      <td>5899819</td>\n",
       "      <td>528203</td>\n",
       "      <td>4852950</td>\n",
       "      <td>3283636</td>\n",
       "      <td>3090469</td>\n",
       "      <td>160777</td>\n",
       "    </tr>\n",
       "  </tbody>\n",
       "</table>\n",
       "</div>"
      ],
      "text/plain": [
       "                                        Persons for whom poverty status determined  \\\n",
       "Maryland: Summary level: 040, state:24                                     5899819   \n",
       "\n",
       "                                        Individuals- income below poverty level  \\\n",
       "Maryland: Summary level: 040, state:24                                   528203   \n",
       "\n",
       "                                        Population 16 years and over  \\\n",
       "Maryland: Summary level: 040, state:24                       4852950   \n",
       "\n",
       "                                        In labor force  Employed civilians  \\\n",
       "Maryland: Summary level: 040, state:24         3283636             3090469   \n",
       "\n",
       "                                        Unemployed civilians  \n",
       "Maryland: Summary level: 040, state:24                160777  "
      ]
     },
     "execution_count": 21,
     "metadata": {},
     "output_type": "execute_result"
    }
   ],
   "source": [
    "rates_2018 = rates_2018.rename(columns={\n",
    "                                      \"B17001_001E\": \"Persons for whom poverty status determined\",    \n",
    "                                      \"B17001_002E\": \"Individuals- income below poverty level\",# universe: persons for whom poverty status is determined\n",
    "                                      \"B23025_001E\":  \"Population 16 years and over\",\n",
    "                                      \"B23025_002E\": \"In labor force\", # universe: Population 16 years and over\n",
    "                                      \"B23025_004E\": \"Employed civilians\", # universe: Population 16 years and over\n",
    "                                      \"B23025_005E\": \"Unemployed civilians\", # universe: Population 16 years and over\n",
    "                                      })\n",
    "rates_2018.head()"
   ]
  },
  {
   "cell_type": "code",
   "execution_count": 22,
   "id": "ccae31f1",
   "metadata": {},
   "outputs": [],
   "source": [
    "rates2018 = rates_2018.copy()"
   ]
  },
  {
   "cell_type": "code",
   "execution_count": 23,
   "id": "6254f1ab",
   "metadata": {},
   "outputs": [
    {
     "data": {
      "text/html": [
       "<div>\n",
       "<style scoped>\n",
       "    .dataframe tbody tr th:only-of-type {\n",
       "        vertical-align: middle;\n",
       "    }\n",
       "\n",
       "    .dataframe tbody tr th {\n",
       "        vertical-align: top;\n",
       "    }\n",
       "\n",
       "    .dataframe thead th {\n",
       "        text-align: right;\n",
       "    }\n",
       "</style>\n",
       "<table border=\"1\" class=\"dataframe\">\n",
       "  <thead>\n",
       "    <tr style=\"text-align: right;\">\n",
       "      <th></th>\n",
       "      <th>Persons for whom poverty status determined</th>\n",
       "      <th>Individuals- income below poverty level</th>\n",
       "      <th>Population 16 years and over</th>\n",
       "      <th>In labor force</th>\n",
       "      <th>Employed civilians</th>\n",
       "      <th>Unemployed civilians</th>\n",
       "    </tr>\n",
       "  </thead>\n",
       "  <tbody>\n",
       "    <tr>\n",
       "      <th>Maryland, 2018</th>\n",
       "      <td>5899819</td>\n",
       "      <td>528203</td>\n",
       "      <td>4852950</td>\n",
       "      <td>3283636</td>\n",
       "      <td>3090469</td>\n",
       "      <td>160777</td>\n",
       "    </tr>\n",
       "  </tbody>\n",
       "</table>\n",
       "</div>"
      ],
      "text/plain": [
       "                Persons for whom poverty status determined  \\\n",
       "Maryland, 2018                                     5899819   \n",
       "\n",
       "                Individuals- income below poverty level  \\\n",
       "Maryland, 2018                                   528203   \n",
       "\n",
       "                Population 16 years and over  In labor force  \\\n",
       "Maryland, 2018                       4852950         3283636   \n",
       "\n",
       "                Employed civilians  Unemployed civilians  \n",
       "Maryland, 2018             3090469                160777  "
      ]
     },
     "execution_count": 23,
     "metadata": {},
     "output_type": "execute_result"
    }
   ],
   "source": [
    "rates2018.index = ['Maryland, 2018']\n",
    "rates2018"
   ]
  },
  {
   "cell_type": "code",
   "execution_count": 24,
   "id": "c445803a",
   "metadata": {},
   "outputs": [
    {
     "data": {
      "text/html": [
       "<div>\n",
       "<style scoped>\n",
       "    .dataframe tbody tr th:only-of-type {\n",
       "        vertical-align: middle;\n",
       "    }\n",
       "\n",
       "    .dataframe tbody tr th {\n",
       "        vertical-align: top;\n",
       "    }\n",
       "\n",
       "    .dataframe thead th {\n",
       "        text-align: right;\n",
       "    }\n",
       "</style>\n",
       "<table border=\"1\" class=\"dataframe\">\n",
       "  <thead>\n",
       "    <tr style=\"text-align: right;\">\n",
       "      <th></th>\n",
       "      <th>index</th>\n",
       "      <th>Persons for whom poverty status determined</th>\n",
       "      <th>Individuals- income below poverty level</th>\n",
       "      <th>Population 16 years and over</th>\n",
       "      <th>In labor force</th>\n",
       "      <th>Employed civilians</th>\n",
       "      <th>Unemployed civilians</th>\n",
       "    </tr>\n",
       "  </thead>\n",
       "  <tbody>\n",
       "    <tr>\n",
       "      <th>0</th>\n",
       "      <td>Maryland, 2018</td>\n",
       "      <td>5899819</td>\n",
       "      <td>528203</td>\n",
       "      <td>4852950</td>\n",
       "      <td>3283636</td>\n",
       "      <td>3090469</td>\n",
       "      <td>160777</td>\n",
       "    </tr>\n",
       "  </tbody>\n",
       "</table>\n",
       "</div>"
      ],
      "text/plain": [
       "            index  Persons for whom poverty status determined  \\\n",
       "0  Maryland, 2018                                     5899819   \n",
       "\n",
       "   Individuals- income below poverty level  Population 16 years and over  \\\n",
       "0                                   528203                       4852950   \n",
       "\n",
       "   In labor force  Employed civilians  Unemployed civilians  \n",
       "0         3283636             3090469                160777  "
      ]
     },
     "execution_count": 24,
     "metadata": {},
     "output_type": "execute_result"
    }
   ],
   "source": [
    "rates2018 = rates2018.reset_index()\n",
    "rates2018"
   ]
  },
  {
   "cell_type": "code",
   "execution_count": 25,
   "id": "c3f063b7",
   "metadata": {},
   "outputs": [
    {
     "data": {
      "text/html": [
       "<div>\n",
       "<style scoped>\n",
       "    .dataframe tbody tr th:only-of-type {\n",
       "        vertical-align: middle;\n",
       "    }\n",
       "\n",
       "    .dataframe tbody tr th {\n",
       "        vertical-align: top;\n",
       "    }\n",
       "\n",
       "    .dataframe thead th {\n",
       "        text-align: right;\n",
       "    }\n",
       "</style>\n",
       "<table border=\"1\" class=\"dataframe\">\n",
       "  <thead>\n",
       "    <tr style=\"text-align: right;\">\n",
       "      <th></th>\n",
       "      <th>Year</th>\n",
       "      <th>Persons for whom poverty status determined</th>\n",
       "      <th>Individuals- income below poverty level</th>\n",
       "      <th>Population 16 years and over</th>\n",
       "      <th>In labor force</th>\n",
       "      <th>Employed civilians</th>\n",
       "      <th>Unemployed civilians</th>\n",
       "    </tr>\n",
       "  </thead>\n",
       "  <tbody>\n",
       "    <tr>\n",
       "      <th>0</th>\n",
       "      <td>Maryland, 2018</td>\n",
       "      <td>5899819</td>\n",
       "      <td>528203</td>\n",
       "      <td>4852950</td>\n",
       "      <td>3283636</td>\n",
       "      <td>3090469</td>\n",
       "      <td>160777</td>\n",
       "    </tr>\n",
       "  </tbody>\n",
       "</table>\n",
       "</div>"
      ],
      "text/plain": [
       "             Year  Persons for whom poverty status determined  \\\n",
       "0  Maryland, 2018                                     5899819   \n",
       "\n",
       "   Individuals- income below poverty level  Population 16 years and over  \\\n",
       "0                                   528203                       4852950   \n",
       "\n",
       "   In labor force  Employed civilians  Unemployed civilians  \n",
       "0         3283636             3090469                160777  "
      ]
     },
     "execution_count": 25,
     "metadata": {},
     "output_type": "execute_result"
    }
   ],
   "source": [
    "rates2018 = rates2018.rename(columns={\"index\": \"Year\"})                                           \n",
    "rates2018 "
   ]
  },
  {
   "cell_type": "code",
   "execution_count": 26,
   "id": "ea4fb5b4",
   "metadata": {},
   "outputs": [
    {
     "data": {
      "text/html": [
       "<div>\n",
       "<style scoped>\n",
       "    .dataframe tbody tr th:only-of-type {\n",
       "        vertical-align: middle;\n",
       "    }\n",
       "\n",
       "    .dataframe tbody tr th {\n",
       "        vertical-align: top;\n",
       "    }\n",
       "\n",
       "    .dataframe thead th {\n",
       "        text-align: right;\n",
       "    }\n",
       "</style>\n",
       "<table border=\"1\" class=\"dataframe\">\n",
       "  <thead>\n",
       "    <tr style=\"text-align: right;\">\n",
       "      <th></th>\n",
       "      <th>Year</th>\n",
       "      <th>Persons for whom poverty status determined</th>\n",
       "      <th>Individuals- income below poverty level</th>\n",
       "      <th>Population 16 years and over</th>\n",
       "      <th>In labor force</th>\n",
       "      <th>Employed civilians</th>\n",
       "      <th>Unemployed civilians</th>\n",
       "      <th>Location</th>\n",
       "    </tr>\n",
       "  </thead>\n",
       "  <tbody>\n",
       "    <tr>\n",
       "      <th>0</th>\n",
       "      <td>2018</td>\n",
       "      <td>5899819</td>\n",
       "      <td>528203</td>\n",
       "      <td>4852950</td>\n",
       "      <td>3283636</td>\n",
       "      <td>3090469</td>\n",
       "      <td>160777</td>\n",
       "      <td>Maryland</td>\n",
       "    </tr>\n",
       "  </tbody>\n",
       "</table>\n",
       "</div>"
      ],
      "text/plain": [
       "    Year  Persons for whom poverty status determined  \\\n",
       "0   2018                                     5899819   \n",
       "\n",
       "   Individuals- income below poverty level  Population 16 years and over  \\\n",
       "0                                   528203                       4852950   \n",
       "\n",
       "   In labor force  Employed civilians  Unemployed civilians  Location  \n",
       "0         3283636             3090469                160777  Maryland  "
      ]
     },
     "execution_count": 26,
     "metadata": {},
     "output_type": "execute_result"
    }
   ],
   "source": [
    "rates2018 [[\"Location\", \"Year\"]] = rates2018 .Year.str.split(\",\", expand=True)\n",
    "rates2018 "
   ]
  },
  {
   "cell_type": "code",
   "execution_count": 27,
   "id": "609045ef",
   "metadata": {},
   "outputs": [
    {
     "data": {
      "text/html": [
       "<div>\n",
       "<style scoped>\n",
       "    .dataframe tbody tr th:only-of-type {\n",
       "        vertical-align: middle;\n",
       "    }\n",
       "\n",
       "    .dataframe tbody tr th {\n",
       "        vertical-align: top;\n",
       "    }\n",
       "\n",
       "    .dataframe thead th {\n",
       "        text-align: right;\n",
       "    }\n",
       "</style>\n",
       "<table border=\"1\" class=\"dataframe\">\n",
       "  <thead>\n",
       "    <tr style=\"text-align: right;\">\n",
       "      <th></th>\n",
       "      <th>Year</th>\n",
       "      <th>Persons for whom poverty status determined</th>\n",
       "      <th>Individuals- income below poverty level</th>\n",
       "      <th>Population 16 years and over</th>\n",
       "      <th>In labor force</th>\n",
       "      <th>Employed civilians</th>\n",
       "      <th>Unemployed civilians</th>\n",
       "      <th>Location</th>\n",
       "      <th>Unemployment rate</th>\n",
       "    </tr>\n",
       "  </thead>\n",
       "  <tbody>\n",
       "    <tr>\n",
       "      <th>0</th>\n",
       "      <td>2018</td>\n",
       "      <td>5899819</td>\n",
       "      <td>528203</td>\n",
       "      <td>4852950</td>\n",
       "      <td>3283636</td>\n",
       "      <td>3090469</td>\n",
       "      <td>160777</td>\n",
       "      <td>Maryland</td>\n",
       "      <td>3.0</td>\n",
       "    </tr>\n",
       "  </tbody>\n",
       "</table>\n",
       "</div>"
      ],
      "text/plain": [
       "    Year  Persons for whom poverty status determined  \\\n",
       "0   2018                                     5899819   \n",
       "\n",
       "   Individuals- income below poverty level  Population 16 years and over  \\\n",
       "0                                   528203                       4852950   \n",
       "\n",
       "   In labor force  Employed civilians  Unemployed civilians  Location  \\\n",
       "0         3283636             3090469                160777  Maryland   \n",
       "\n",
       "   Unemployment rate  \n",
       "0                3.0  "
      ]
     },
     "execution_count": 27,
     "metadata": {},
     "output_type": "execute_result"
    }
   ],
   "source": [
    "# Add a new column for unemployment rate \n",
    "rates2018[\"Unemployment rate\"] = (100 * \\\n",
    "    rates2018[\"Unemployed civilians\"].astype(\n",
    "        int) / rates2018[\"Population 16 years and over\"].astype(int)).round()\n",
    "rates2018.head()"
   ]
  },
  {
   "cell_type": "code",
   "execution_count": 28,
   "id": "e1e3ad8e",
   "metadata": {},
   "outputs": [
    {
     "data": {
      "text/html": [
       "<div>\n",
       "<style scoped>\n",
       "    .dataframe tbody tr th:only-of-type {\n",
       "        vertical-align: middle;\n",
       "    }\n",
       "\n",
       "    .dataframe tbody tr th {\n",
       "        vertical-align: top;\n",
       "    }\n",
       "\n",
       "    .dataframe thead th {\n",
       "        text-align: right;\n",
       "    }\n",
       "</style>\n",
       "<table border=\"1\" class=\"dataframe\">\n",
       "  <thead>\n",
       "    <tr style=\"text-align: right;\">\n",
       "      <th></th>\n",
       "      <th>Year</th>\n",
       "      <th>Persons for whom poverty status determined</th>\n",
       "      <th>Individuals- income below poverty level</th>\n",
       "      <th>Population 16 years and over</th>\n",
       "      <th>In labor force</th>\n",
       "      <th>Employed civilians</th>\n",
       "      <th>Unemployed civilians</th>\n",
       "      <th>Location</th>\n",
       "      <th>Unemployment rate</th>\n",
       "      <th>Labor participation rate</th>\n",
       "    </tr>\n",
       "  </thead>\n",
       "  <tbody>\n",
       "    <tr>\n",
       "      <th>0</th>\n",
       "      <td>2018</td>\n",
       "      <td>5899819</td>\n",
       "      <td>528203</td>\n",
       "      <td>4852950</td>\n",
       "      <td>3283636</td>\n",
       "      <td>3090469</td>\n",
       "      <td>160777</td>\n",
       "      <td>Maryland</td>\n",
       "      <td>3.0</td>\n",
       "      <td>67.7</td>\n",
       "    </tr>\n",
       "  </tbody>\n",
       "</table>\n",
       "</div>"
      ],
      "text/plain": [
       "    Year  Persons for whom poverty status determined  \\\n",
       "0   2018                                     5899819   \n",
       "\n",
       "   Individuals- income below poverty level  Population 16 years and over  \\\n",
       "0                                   528203                       4852950   \n",
       "\n",
       "   In labor force  Employed civilians  Unemployed civilians  Location  \\\n",
       "0         3283636             3090469                160777  Maryland   \n",
       "\n",
       "   Unemployment rate  Labor participation rate  \n",
       "0                3.0                      67.7  "
      ]
     },
     "execution_count": 28,
     "metadata": {},
     "output_type": "execute_result"
    }
   ],
   "source": [
    "# Add a new column for labor participation rate \n",
    "rates2018[\"Labor participation rate\"] = (100 * \\\n",
    "    rates2018[\"In labor force\"].astype(\n",
    "        int) / rates2018[\"Population 16 years and over\"].astype(int)).round(1)\n",
    "rates2018.head()"
   ]
  },
  {
   "cell_type": "code",
   "execution_count": 29,
   "id": "88cf9645",
   "metadata": {},
   "outputs": [],
   "source": [
    "# Export file as a CSV, without the Pandas index, but with the header\n",
    "rates2018.to_csv(\"MD_employment_2018.csv\", index = False, header=True)"
   ]
  }
 ],
 "metadata": {
  "kernelspec": {
   "display_name": "Python 3",
   "language": "python",
   "name": "python3"
  },
  "language_info": {
   "codemirror_mode": {
    "name": "ipython",
    "version": 3
   },
   "file_extension": ".py",
   "mimetype": "text/x-python",
   "name": "python",
   "nbconvert_exporter": "python",
   "pygments_lexer": "ipython3",
   "version": "3.7.13"
  }
 },
 "nbformat": 4,
 "nbformat_minor": 5
}
