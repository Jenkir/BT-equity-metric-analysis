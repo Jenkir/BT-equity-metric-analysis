{
 "cells": [
  {
   "cell_type": "code",
   "execution_count": 1,
   "id": "2a9cbda5",
   "metadata": {},
   "outputs": [],
   "source": [
    "#  *** THIS DATA (FROM API) HAS NOT BEEN CHECKED AGAINST DATA.CENSUS.GOV TABLES***"
   ]
  },
  {
   "cell_type": "code",
   "execution_count": 2,
   "id": "a5bfa3e0",
   "metadata": {},
   "outputs": [],
   "source": [
    "## Build an equitable economy: INCOME\n",
    "### U.S. median income, Black median income, Black-white income gap\n",
    "## 2019"
   ]
  },
  {
   "cell_type": "code",
   "execution_count": 3,
   "id": "c279468a",
   "metadata": {},
   "outputs": [],
   "source": [
    "# see https://jtleider.github.io/censusdata/api.html"
   ]
  },
  {
   "cell_type": "code",
   "execution_count": 4,
   "id": "4b9616b2",
   "metadata": {},
   "outputs": [],
   "source": [
    "# data source: 2019 Census Data (ACS-1 year) for Selected Variables - U.S."
   ]
  },
  {
   "cell_type": "code",
   "execution_count": 5,
   "id": "e3541104",
   "metadata": {},
   "outputs": [],
   "source": [
    "# Dependencies\n",
    "import json\n",
    "import pandas as pd\n",
    "import matplotlib.pyplot as plt\n",
    "import requests\n",
    "from census import Census\n",
    "from config import api_key\n",
    "\n",
    "#c = Census(api_key)"
   ]
  },
  {
   "cell_type": "code",
   "execution_count": 6,
   "id": "d92ff12b",
   "metadata": {},
   "outputs": [],
   "source": [
    "import os"
   ]
  },
  {
   "cell_type": "code",
   "execution_count": 7,
   "id": "6de9b788",
   "metadata": {},
   "outputs": [
    {
     "data": {
      "text/plain": [
       "'C:\\\\Users\\\\Jenkir\\\\Desktop\\\\BDC\\\\Baltimore_Together\\\\measuring-success-metrics\\\\BT-equity-metric-analysis\\\\GOAL-1'"
      ]
     },
     "execution_count": 7,
     "metadata": {},
     "output_type": "execute_result"
    }
   ],
   "source": [
    "os.getcwd()"
   ]
  },
  {
   "cell_type": "code",
   "execution_count": 8,
   "id": "70066bb3",
   "metadata": {},
   "outputs": [],
   "source": [
    "# need to change the working directory; be sure that the config file for the census API is also in this folder\n",
    "#os.chdir('C:\\\\Users\\\\Jenkir\\\\Desktop\\\\BDC\\\\Baltimore_Together\\\\measuring-success-metrics\\\\analysis_nbs')"
   ]
  },
  {
   "cell_type": "code",
   "execution_count": 9,
   "id": "a1d86d9b",
   "metadata": {},
   "outputs": [],
   "source": [
    "pd.set_option('display.max_rows', 200)"
   ]
  },
  {
   "cell_type": "code",
   "execution_count": 10,
   "id": "60779a2c",
   "metadata": {},
   "outputs": [],
   "source": [
    "pd.set_option('max_colwidth', 100)"
   ]
  },
  {
   "cell_type": "code",
   "execution_count": 11,
   "id": "0bdbe717",
   "metadata": {},
   "outputs": [
    {
     "data": {
      "text/plain": [
       "200"
      ]
     },
     "execution_count": 11,
     "metadata": {},
     "output_type": "execute_result"
    }
   ],
   "source": [
    "# see https://iqss.github.io/datafest-project/optional-u-s-census-data-python.html\n",
    "# see census api example urls     https://api.census.gov/data/2019/acs/acs1/examples.html  \n",
    "url = f\"https://api.census.gov/data/2019/acs/acs1?get=NAME,B19001_001E,B01003_001E,B19013_001E,B02001_002E,B02001_003E,B19013A_001E,B19013B_001E&for=us:1&key={api_key}\"\n",
    "\n",
    "response = requests.get(url)\n",
    "response.status_code"
   ]
  },
  {
   "cell_type": "code",
   "execution_count": 12,
   "id": "437d1890",
   "metadata": {},
   "outputs": [
    {
     "data": {
      "text/html": [
       "<div>\n",
       "<style scoped>\n",
       "    .dataframe tbody tr th:only-of-type {\n",
       "        vertical-align: middle;\n",
       "    }\n",
       "\n",
       "    .dataframe tbody tr th {\n",
       "        vertical-align: top;\n",
       "    }\n",
       "\n",
       "    .dataframe thead th {\n",
       "        text-align: right;\n",
       "    }\n",
       "</style>\n",
       "<table border=\"1\" class=\"dataframe\">\n",
       "  <thead>\n",
       "    <tr style=\"text-align: right;\">\n",
       "      <th></th>\n",
       "      <th>NAME</th>\n",
       "      <th>B19001_001E</th>\n",
       "      <th>B01003_001E</th>\n",
       "      <th>B19013_001E</th>\n",
       "      <th>B02001_002E</th>\n",
       "      <th>B02001_003E</th>\n",
       "      <th>B19013A_001E</th>\n",
       "      <th>B19013B_001E</th>\n",
       "      <th>us</th>\n",
       "    </tr>\n",
       "  </thead>\n",
       "  <tbody>\n",
       "    <tr>\n",
       "      <th>0</th>\n",
       "      <td>United States</td>\n",
       "      <td>122802852</td>\n",
       "      <td>328239523</td>\n",
       "      <td>65712</td>\n",
       "      <td>236475401</td>\n",
       "      <td>41989671</td>\n",
       "      <td>69823</td>\n",
       "      <td>43862</td>\n",
       "      <td>1</td>\n",
       "    </tr>\n",
       "  </tbody>\n",
       "</table>\n",
       "</div>"
      ],
      "text/plain": [
       "            NAME B19001_001E B01003_001E B19013_001E B02001_002E B02001_003E  \\\n",
       "0  United States   122802852   328239523       65712   236475401    41989671   \n",
       "\n",
       "  B19013A_001E B19013B_001E us  \n",
       "0        69823        43862  1  "
      ]
     },
     "execution_count": 12,
     "metadata": {},
     "output_type": "execute_result"
    }
   ],
   "source": [
    "us = response.json()\n",
    "us_df_income1 = pd.DataFrame(us[1:], columns=us[0])\n",
    "# alternatively   us_df = pd.DataFrame(us[1:], columns=us[0]).rename(columns={'NAME':'country', \n",
    "# B01003_001E\": \"Population\",\"B01002_001E\": \"Median Age\"})\n",
    "us_df_income1 "
   ]
  },
  {
   "cell_type": "code",
   "execution_count": 13,
   "id": "b0b1a917",
   "metadata": {},
   "outputs": [
    {
     "data": {
      "text/html": [
       "<div>\n",
       "<style scoped>\n",
       "    .dataframe tbody tr th:only-of-type {\n",
       "        vertical-align: middle;\n",
       "    }\n",
       "\n",
       "    .dataframe tbody tr th {\n",
       "        vertical-align: top;\n",
       "    }\n",
       "\n",
       "    .dataframe thead th {\n",
       "        text-align: right;\n",
       "    }\n",
       "</style>\n",
       "<table border=\"1\" class=\"dataframe\">\n",
       "  <thead>\n",
       "    <tr style=\"text-align: right;\">\n",
       "      <th></th>\n",
       "      <th>Location</th>\n",
       "      <th>Total households</th>\n",
       "      <th>Population</th>\n",
       "      <th>Median household income</th>\n",
       "      <th>Pop. white</th>\n",
       "      <th>Pop. Black</th>\n",
       "      <th>Median hh income white</th>\n",
       "      <th>Median hh income Black</th>\n",
       "      <th>us</th>\n",
       "    </tr>\n",
       "  </thead>\n",
       "  <tbody>\n",
       "    <tr>\n",
       "      <th>0</th>\n",
       "      <td>United States</td>\n",
       "      <td>122802852</td>\n",
       "      <td>328239523</td>\n",
       "      <td>65712</td>\n",
       "      <td>236475401</td>\n",
       "      <td>41989671</td>\n",
       "      <td>69823</td>\n",
       "      <td>43862</td>\n",
       "      <td>1</td>\n",
       "    </tr>\n",
       "  </tbody>\n",
       "</table>\n",
       "</div>"
      ],
      "text/plain": [
       "        Location Total households Population Median household income  \\\n",
       "0  United States        122802852  328239523                   65712   \n",
       "\n",
       "  Pop. white Pop. Black Median hh income white Median hh income Black us  \n",
       "0  236475401   41989671                  69823                  43862  1  "
      ]
     },
     "execution_count": 13,
     "metadata": {},
     "output_type": "execute_result"
    }
   ],
   "source": [
    "\n",
    "us_df_income1 = us_df_income1.rename(columns={\"B19001_001E\": \"Total households\",\n",
    "                              \"B01003_001E\": \"Population\",\n",
    "                              \"B19013_001E\": \"Median household income\",\n",
    "                              \"B02001_003E\": \"Pop. Black\",\n",
    "                              \"B02001_002E\": \"Pop. white\",\n",
    "                              \"B19013A_001E\": \"Median hh income white\",\n",
    "                              \"B19013B_001E\": \"Median hh income Black\",  \n",
    "                              \"NAME\": \"Location\"})\n",
    "us_df_income1"
   ]
  },
  {
   "cell_type": "code",
   "execution_count": 14,
   "id": "2013a9aa",
   "metadata": {},
   "outputs": [
    {
     "data": {
      "text/html": [
       "<div>\n",
       "<style scoped>\n",
       "    .dataframe tbody tr th:only-of-type {\n",
       "        vertical-align: middle;\n",
       "    }\n",
       "\n",
       "    .dataframe tbody tr th {\n",
       "        vertical-align: top;\n",
       "    }\n",
       "\n",
       "    .dataframe thead th {\n",
       "        text-align: right;\n",
       "    }\n",
       "</style>\n",
       "<table border=\"1\" class=\"dataframe\">\n",
       "  <thead>\n",
       "    <tr style=\"text-align: right;\">\n",
       "      <th></th>\n",
       "      <th>Location</th>\n",
       "      <th>Total households</th>\n",
       "      <th>Population</th>\n",
       "      <th>Median household income</th>\n",
       "      <th>Pop. white</th>\n",
       "      <th>Pop. Black</th>\n",
       "      <th>Median hh income white</th>\n",
       "      <th>Median hh income Black</th>\n",
       "      <th>us</th>\n",
       "    </tr>\n",
       "  </thead>\n",
       "  <tbody>\n",
       "    <tr>\n",
       "      <th>0</th>\n",
       "      <td>United States</td>\n",
       "      <td>122802852</td>\n",
       "      <td>328239523</td>\n",
       "      <td>65712</td>\n",
       "      <td>236475401</td>\n",
       "      <td>41989671</td>\n",
       "      <td>69823</td>\n",
       "      <td>43862</td>\n",
       "      <td>1</td>\n",
       "    </tr>\n",
       "  </tbody>\n",
       "</table>\n",
       "</div>"
      ],
      "text/plain": [
       "        Location Total households Population Median household income  \\\n",
       "0  United States        122802852  328239523                   65712   \n",
       "\n",
       "  Pop. white Pop. Black Median hh income white Median hh income Black us  \n",
       "0  236475401   41989671                  69823                  43862  1  "
      ]
     },
     "execution_count": 14,
     "metadata": {},
     "output_type": "execute_result"
    }
   ],
   "source": [
    "us_df_income2 = us_df_income1.copy()\n",
    "us_df_income2"
   ]
  },
  {
   "cell_type": "code",
   "execution_count": 15,
   "id": "4d10e566",
   "metadata": {},
   "outputs": [],
   "source": [
    "us_df_income = us_df_income2.drop(columns=['us'])"
   ]
  },
  {
   "cell_type": "code",
   "execution_count": 16,
   "id": "0d399f00",
   "metadata": {},
   "outputs": [
    {
     "data": {
      "text/html": [
       "<div>\n",
       "<style scoped>\n",
       "    .dataframe tbody tr th:only-of-type {\n",
       "        vertical-align: middle;\n",
       "    }\n",
       "\n",
       "    .dataframe tbody tr th {\n",
       "        vertical-align: top;\n",
       "    }\n",
       "\n",
       "    .dataframe thead th {\n",
       "        text-align: right;\n",
       "    }\n",
       "</style>\n",
       "<table border=\"1\" class=\"dataframe\">\n",
       "  <thead>\n",
       "    <tr style=\"text-align: right;\">\n",
       "      <th></th>\n",
       "      <th>Location</th>\n",
       "      <th>Year</th>\n",
       "      <th>Total households</th>\n",
       "      <th>Population</th>\n",
       "      <th>Median household income</th>\n",
       "      <th>Pop. white</th>\n",
       "      <th>Pop. Black</th>\n",
       "      <th>Median hh income white</th>\n",
       "      <th>Median hh income Black</th>\n",
       "    </tr>\n",
       "  </thead>\n",
       "  <tbody>\n",
       "    <tr>\n",
       "      <th>0</th>\n",
       "      <td>United States</td>\n",
       "      <td>2019</td>\n",
       "      <td>122802852</td>\n",
       "      <td>328239523</td>\n",
       "      <td>65712</td>\n",
       "      <td>236475401</td>\n",
       "      <td>41989671</td>\n",
       "      <td>69823</td>\n",
       "      <td>43862</td>\n",
       "    </tr>\n",
       "  </tbody>\n",
       "</table>\n",
       "</div>"
      ],
      "text/plain": [
       "        Location  Year Total households Population Median household income  \\\n",
       "0  United States  2019        122802852  328239523                   65712   \n",
       "\n",
       "  Pop. white Pop. Black Median hh income white Median hh income Black  \n",
       "0  236475401   41989671                  69823                  43862  "
      ]
     },
     "execution_count": 16,
     "metadata": {},
     "output_type": "execute_result"
    }
   ],
   "source": [
    "# use .insert() to add a column constant value for year\n",
    "us_df_income.insert(1,'Year','2019')\n",
    "us_df_income"
   ]
  },
  {
   "cell_type": "code",
   "execution_count": 17,
   "id": "c10ab8c9",
   "metadata": {},
   "outputs": [
    {
     "data": {
      "text/html": [
       "<div>\n",
       "<style scoped>\n",
       "    .dataframe tbody tr th:only-of-type {\n",
       "        vertical-align: middle;\n",
       "    }\n",
       "\n",
       "    .dataframe tbody tr th {\n",
       "        vertical-align: top;\n",
       "    }\n",
       "\n",
       "    .dataframe thead th {\n",
       "        text-align: right;\n",
       "    }\n",
       "</style>\n",
       "<table border=\"1\" class=\"dataframe\">\n",
       "  <thead>\n",
       "    <tr style=\"text-align: right;\">\n",
       "      <th></th>\n",
       "      <th>Location</th>\n",
       "      <th>Year</th>\n",
       "      <th>Population</th>\n",
       "      <th>Pop. Black</th>\n",
       "      <th>Pop. white</th>\n",
       "      <th>Median household income</th>\n",
       "      <th>Median hh income Black</th>\n",
       "      <th>Median hh income white</th>\n",
       "    </tr>\n",
       "  </thead>\n",
       "  <tbody>\n",
       "    <tr>\n",
       "      <th>0</th>\n",
       "      <td>United States</td>\n",
       "      <td>2019</td>\n",
       "      <td>328239523</td>\n",
       "      <td>41989671</td>\n",
       "      <td>236475401</td>\n",
       "      <td>65712</td>\n",
       "      <td>43862</td>\n",
       "      <td>69823</td>\n",
       "    </tr>\n",
       "  </tbody>\n",
       "</table>\n",
       "</div>"
      ],
      "text/plain": [
       "        Location  Year Population Pop. Black Pop. white  \\\n",
       "0  United States  2019  328239523   41989671  236475401   \n",
       "\n",
       "  Median household income Median hh income Black Median hh income white  \n",
       "0                   65712                  43862                  69823  "
      ]
     },
     "execution_count": 17,
     "metadata": {},
     "output_type": "execute_result"
    }
   ],
   "source": [
    "us_df_income = us_df_income.loc[:,['Location','Year','Population','Pop. Black','Pop. white','Median household income','Median hh income Black','Median hh income white']]\n",
    "us_df_income"
   ]
  },
  {
   "cell_type": "code",
   "execution_count": 18,
   "id": "a1e5893c",
   "metadata": {},
   "outputs": [
    {
     "data": {
      "text/plain": [
       "Location                   object\n",
       "Year                       object\n",
       "Population                 object\n",
       "Pop. Black                 object\n",
       "Pop. white                 object\n",
       "Median household income    object\n",
       "Median hh income Black     object\n",
       "Median hh income white     object\n",
       "dtype: object"
      ]
     },
     "execution_count": 18,
     "metadata": {},
     "output_type": "execute_result"
    }
   ],
   "source": [
    "us_df_income.dtypes"
   ]
  },
  {
   "cell_type": "code",
   "execution_count": 19,
   "id": "2d5e06ac",
   "metadata": {},
   "outputs": [
    {
     "data": {
      "text/plain": [
       "Location                   object\n",
       "Year                       object\n",
       "Population                  int64\n",
       "Pop. Black                  int64\n",
       "Pop. white                  int64\n",
       "Median household income     int64\n",
       "Median hh income Black      int64\n",
       "Median hh income white      int64\n",
       "dtype: object"
      ]
     },
     "execution_count": 19,
     "metadata": {},
     "output_type": "execute_result"
    }
   ],
   "source": [
    "us_df_income[['Population','Pop. Black','Pop. white','Median household income','Median hh income Black',\n",
    "              'Median hh income white']] = us_df_income[['Population','Pop. Black','Pop. white','Median household income','Median hh income Black','Median hh income white']].apply(pd.to_numeric)\n",
    "us_df_income.dtypes"
   ]
  },
  {
   "cell_type": "code",
   "execution_count": 20,
   "id": "baa33982",
   "metadata": {},
   "outputs": [],
   "source": [
    "# Export file as a CSV, without the Pandas index, but with the header\n",
    "us_df_income.to_csv(\"us_income_2019.csv\", index = False, header=True)"
   ]
  },
  {
   "cell_type": "code",
   "execution_count": null,
   "id": "6be29e32",
   "metadata": {},
   "outputs": [],
   "source": []
  },
  {
   "cell_type": "code",
   "execution_count": 21,
   "id": "86efed95",
   "metadata": {},
   "outputs": [
    {
     "data": {
      "text/plain": [
       "200"
      ]
     },
     "execution_count": 21,
     "metadata": {},
     "output_type": "execute_result"
    }
   ],
   "source": [
    "# data to be used to calculate poverty rate, labor participation rate, unemployment rate\n",
    "url_rate = f\"https://api.census.gov/data/2019/acs/acs1?get=NAME,B17001_001E,B17001_002E,B23025_001E,B23025_002E,B23025_004E,B23025_005E&for=us:1&key={api_key}\"\n",
    "\n",
    "response = requests.get(url_rate)\n",
    "response.status_code"
   ]
  },
  {
   "cell_type": "code",
   "execution_count": 22,
   "id": "4878305e",
   "metadata": {},
   "outputs": [
    {
     "data": {
      "text/html": [
       "<div>\n",
       "<style scoped>\n",
       "    .dataframe tbody tr th:only-of-type {\n",
       "        vertical-align: middle;\n",
       "    }\n",
       "\n",
       "    .dataframe tbody tr th {\n",
       "        vertical-align: top;\n",
       "    }\n",
       "\n",
       "    .dataframe thead th {\n",
       "        text-align: right;\n",
       "    }\n",
       "</style>\n",
       "<table border=\"1\" class=\"dataframe\">\n",
       "  <thead>\n",
       "    <tr style=\"text-align: right;\">\n",
       "      <th></th>\n",
       "      <th>NAME</th>\n",
       "      <th>B17001_001E</th>\n",
       "      <th>B17001_002E</th>\n",
       "      <th>B23025_001E</th>\n",
       "      <th>B23025_002E</th>\n",
       "      <th>B23025_004E</th>\n",
       "      <th>B23025_005E</th>\n",
       "      <th>us</th>\n",
       "    </tr>\n",
       "  </thead>\n",
       "  <tbody>\n",
       "    <tr>\n",
       "      <th>0</th>\n",
       "      <td>United States</td>\n",
       "      <td>320118791</td>\n",
       "      <td>39490096</td>\n",
       "      <td>263534161</td>\n",
       "      <td>167501734</td>\n",
       "      <td>158758794</td>\n",
       "      <td>7515579</td>\n",
       "      <td>1</td>\n",
       "    </tr>\n",
       "  </tbody>\n",
       "</table>\n",
       "</div>"
      ],
      "text/plain": [
       "            NAME B17001_001E B17001_002E B23025_001E B23025_002E B23025_004E  \\\n",
       "0  United States   320118791    39490096   263534161   167501734   158758794   \n",
       "\n",
       "  B23025_005E us  \n",
       "0     7515579  1  "
      ]
     },
     "execution_count": 22,
     "metadata": {},
     "output_type": "execute_result"
    }
   ],
   "source": [
    "us_rates = response.json()\n",
    "us_df_rates2 = pd.DataFrame(us_rates[1:], columns=us_rates[0])\n",
    "# alternatively   us_df = pd.DataFrame(us[1:], columns=us[0]).rename(columns={'NAME':'country', \n",
    "# B01003_001E\": \"Population\",\"B01002_001E\": \"Median Age\"})\n",
    "us_df_rates2  "
   ]
  },
  {
   "cell_type": "code",
   "execution_count": 23,
   "id": "d098cd4e",
   "metadata": {},
   "outputs": [
    {
     "data": {
      "text/html": [
       "<div>\n",
       "<style scoped>\n",
       "    .dataframe tbody tr th:only-of-type {\n",
       "        vertical-align: middle;\n",
       "    }\n",
       "\n",
       "    .dataframe tbody tr th {\n",
       "        vertical-align: top;\n",
       "    }\n",
       "\n",
       "    .dataframe thead th {\n",
       "        text-align: right;\n",
       "    }\n",
       "</style>\n",
       "<table border=\"1\" class=\"dataframe\">\n",
       "  <thead>\n",
       "    <tr style=\"text-align: right;\">\n",
       "      <th></th>\n",
       "      <th>Location</th>\n",
       "      <th>Persons for whom poverty status determined</th>\n",
       "      <th>Individuals- income below poverty level</th>\n",
       "      <th>Population 16 years and over</th>\n",
       "      <th>In labor force</th>\n",
       "      <th>Employed civilians</th>\n",
       "      <th>Unemployed civilians</th>\n",
       "      <th>us</th>\n",
       "    </tr>\n",
       "  </thead>\n",
       "  <tbody>\n",
       "    <tr>\n",
       "      <th>0</th>\n",
       "      <td>United States</td>\n",
       "      <td>320118791</td>\n",
       "      <td>39490096</td>\n",
       "      <td>263534161</td>\n",
       "      <td>167501734</td>\n",
       "      <td>158758794</td>\n",
       "      <td>7515579</td>\n",
       "      <td>1</td>\n",
       "    </tr>\n",
       "  </tbody>\n",
       "</table>\n",
       "</div>"
      ],
      "text/plain": [
       "        Location Persons for whom poverty status determined  \\\n",
       "0  United States                                  320118791   \n",
       "\n",
       "  Individuals- income below poverty level Population 16 years and over  \\\n",
       "0                                39490096                    263534161   \n",
       "\n",
       "  In labor force Employed civilians Unemployed civilians us  \n",
       "0      167501734          158758794              7515579  1  "
      ]
     },
     "execution_count": 23,
     "metadata": {},
     "output_type": "execute_result"
    }
   ],
   "source": [
    "us_df_rates = us_df_rates2.rename(columns={\n",
    "                                      \"B17001_001E\": \"Persons for whom poverty status determined\",    \n",
    "                                      \"B17001_002E\": \"Individuals- income below poverty level\",# universe: persons for whom poverty status is determined\n",
    "                                      \"B23025_001E\":  \"Population 16 years and over\",\n",
    "                                      \"B23025_002E\": \"In labor force\", # universe: Population 16 years and over\n",
    "                                      \"B23025_004E\": \"Employed civilians\", # universe: Population 16 years and over\n",
    "                                      \"B23025_005E\": \"Unemployed civilians\", # universe: Population 16 years and over\n",
    "                                      \"NAME\": \"Location\"\n",
    "                                      })\n",
    "us_df_rates.head()"
   ]
  },
  {
   "cell_type": "code",
   "execution_count": 24,
   "id": "096faace",
   "metadata": {},
   "outputs": [
    {
     "data": {
      "text/plain": [
       "Index(['Location', 'Persons for whom poverty status determined',\n",
       "       'Individuals- income below poverty level',\n",
       "       'Population 16 years and over', 'In labor force', 'Employed civilians',\n",
       "       'Unemployed civilians', 'us'],\n",
       "      dtype='object')"
      ]
     },
     "execution_count": 24,
     "metadata": {},
     "output_type": "execute_result"
    }
   ],
   "source": [
    "us_df_rates.columns"
   ]
  },
  {
   "cell_type": "code",
   "execution_count": 25,
   "id": "356b0719",
   "metadata": {},
   "outputs": [
    {
     "data": {
      "text/html": [
       "<div>\n",
       "<style scoped>\n",
       "    .dataframe tbody tr th:only-of-type {\n",
       "        vertical-align: middle;\n",
       "    }\n",
       "\n",
       "    .dataframe tbody tr th {\n",
       "        vertical-align: top;\n",
       "    }\n",
       "\n",
       "    .dataframe thead th {\n",
       "        text-align: right;\n",
       "    }\n",
       "</style>\n",
       "<table border=\"1\" class=\"dataframe\">\n",
       "  <thead>\n",
       "    <tr style=\"text-align: right;\">\n",
       "      <th></th>\n",
       "      <th>Location</th>\n",
       "      <th>Year</th>\n",
       "      <th>Persons for whom poverty status determined</th>\n",
       "      <th>Individuals- income below poverty level</th>\n",
       "      <th>Population 16 years and over</th>\n",
       "      <th>In labor force</th>\n",
       "      <th>Employed civilians</th>\n",
       "      <th>Unemployed civilians</th>\n",
       "      <th>us</th>\n",
       "    </tr>\n",
       "  </thead>\n",
       "  <tbody>\n",
       "    <tr>\n",
       "      <th>0</th>\n",
       "      <td>United States</td>\n",
       "      <td>2019</td>\n",
       "      <td>320118791</td>\n",
       "      <td>39490096</td>\n",
       "      <td>263534161</td>\n",
       "      <td>167501734</td>\n",
       "      <td>158758794</td>\n",
       "      <td>7515579</td>\n",
       "      <td>1</td>\n",
       "    </tr>\n",
       "  </tbody>\n",
       "</table>\n",
       "</div>"
      ],
      "text/plain": [
       "        Location  Year Persons for whom poverty status determined  \\\n",
       "0  United States  2019                                  320118791   \n",
       "\n",
       "  Individuals- income below poverty level Population 16 years and over  \\\n",
       "0                                39490096                    263534161   \n",
       "\n",
       "  In labor force Employed civilians Unemployed civilians us  \n",
       "0      167501734          158758794              7515579  1  "
      ]
     },
     "execution_count": 25,
     "metadata": {},
     "output_type": "execute_result"
    }
   ],
   "source": [
    "# use .insert() to add a column constant value for year\n",
    "us_df_rates.insert(1,'Year','2019')\n",
    "us_df_rates"
   ]
  },
  {
   "cell_type": "code",
   "execution_count": 26,
   "id": "593c7c57",
   "metadata": {},
   "outputs": [
    {
     "data": {
      "text/html": [
       "<div>\n",
       "<style scoped>\n",
       "    .dataframe tbody tr th:only-of-type {\n",
       "        vertical-align: middle;\n",
       "    }\n",
       "\n",
       "    .dataframe tbody tr th {\n",
       "        vertical-align: top;\n",
       "    }\n",
       "\n",
       "    .dataframe thead th {\n",
       "        text-align: right;\n",
       "    }\n",
       "</style>\n",
       "<table border=\"1\" class=\"dataframe\">\n",
       "  <thead>\n",
       "    <tr style=\"text-align: right;\">\n",
       "      <th></th>\n",
       "      <th>Location</th>\n",
       "      <th>Year</th>\n",
       "      <th>Persons for whom poverty status determined</th>\n",
       "      <th>Individuals- income below poverty level</th>\n",
       "      <th>Population 16 years and over</th>\n",
       "      <th>In labor force</th>\n",
       "      <th>Employed civilians</th>\n",
       "      <th>Unemployed civilians</th>\n",
       "    </tr>\n",
       "  </thead>\n",
       "  <tbody>\n",
       "    <tr>\n",
       "      <th>0</th>\n",
       "      <td>United States</td>\n",
       "      <td>2019</td>\n",
       "      <td>320118791</td>\n",
       "      <td>39490096</td>\n",
       "      <td>263534161</td>\n",
       "      <td>167501734</td>\n",
       "      <td>158758794</td>\n",
       "      <td>7515579</td>\n",
       "    </tr>\n",
       "  </tbody>\n",
       "</table>\n",
       "</div>"
      ],
      "text/plain": [
       "        Location  Year Persons for whom poverty status determined  \\\n",
       "0  United States  2019                                  320118791   \n",
       "\n",
       "  Individuals- income below poverty level Population 16 years and over  \\\n",
       "0                                39490096                    263534161   \n",
       "\n",
       "  In labor force Employed civilians Unemployed civilians  \n",
       "0      167501734          158758794              7515579  "
      ]
     },
     "execution_count": 26,
     "metadata": {},
     "output_type": "execute_result"
    }
   ],
   "source": [
    "us_df_rates = us_df_rates.drop(columns=['us'])\n",
    "us_df_rates"
   ]
  },
  {
   "cell_type": "code",
   "execution_count": 27,
   "id": "a78dc97c",
   "metadata": {},
   "outputs": [
    {
     "data": {
      "text/plain": [
       "Location                                      object\n",
       "Year                                          object\n",
       "Persons for whom poverty status determined    object\n",
       "Individuals- income below poverty level       object\n",
       "Population 16 years and over                  object\n",
       "In labor force                                object\n",
       "Employed civilians                            object\n",
       "Unemployed civilians                          object\n",
       "dtype: object"
      ]
     },
     "execution_count": 27,
     "metadata": {},
     "output_type": "execute_result"
    }
   ],
   "source": [
    "us_df_rates.dtypes"
   ]
  },
  {
   "cell_type": "code",
   "execution_count": 28,
   "id": "59e4f007",
   "metadata": {},
   "outputs": [
    {
     "data": {
      "text/plain": [
       "Location                                      object\n",
       "Year                                          object\n",
       "Persons for whom poverty status determined     int64\n",
       "Individuals- income below poverty level        int64\n",
       "Population 16 years and over                   int64\n",
       "In labor force                                 int64\n",
       "Employed civilians                             int64\n",
       "Unemployed civilians                           int64\n",
       "dtype: object"
      ]
     },
     "execution_count": 28,
     "metadata": {},
     "output_type": "execute_result"
    }
   ],
   "source": [
    "us_df_rates[['Persons for whom poverty status determined','Individuals- income below poverty level','Population 16 years and over',\n",
    "           'In labor force','Employed civilians','Unemployed civilians']] = us_df_rates[['Persons for whom poverty status determined','Individuals- income below poverty level','Population 16 years and over',\n",
    "           'In labor force','Employed civilians','Unemployed civilians']].apply(pd.to_numeric)\n",
    "us_df_rates.dtypes"
   ]
  },
  {
   "cell_type": "code",
   "execution_count": 29,
   "id": "609045ef",
   "metadata": {},
   "outputs": [
    {
     "data": {
      "text/html": [
       "<div>\n",
       "<style scoped>\n",
       "    .dataframe tbody tr th:only-of-type {\n",
       "        vertical-align: middle;\n",
       "    }\n",
       "\n",
       "    .dataframe tbody tr th {\n",
       "        vertical-align: top;\n",
       "    }\n",
       "\n",
       "    .dataframe thead th {\n",
       "        text-align: right;\n",
       "    }\n",
       "</style>\n",
       "<table border=\"1\" class=\"dataframe\">\n",
       "  <thead>\n",
       "    <tr style=\"text-align: right;\">\n",
       "      <th></th>\n",
       "      <th>Location</th>\n",
       "      <th>Year</th>\n",
       "      <th>Persons for whom poverty status determined</th>\n",
       "      <th>Individuals- income below poverty level</th>\n",
       "      <th>Population 16 years and over</th>\n",
       "      <th>In labor force</th>\n",
       "      <th>Employed civilians</th>\n",
       "      <th>Unemployed civilians</th>\n",
       "      <th>Unemployment rate</th>\n",
       "    </tr>\n",
       "  </thead>\n",
       "  <tbody>\n",
       "    <tr>\n",
       "      <th>0</th>\n",
       "      <td>United States</td>\n",
       "      <td>2019</td>\n",
       "      <td>320118791</td>\n",
       "      <td>39490096</td>\n",
       "      <td>263534161</td>\n",
       "      <td>167501734</td>\n",
       "      <td>158758794</td>\n",
       "      <td>7515579</td>\n",
       "      <td>3.0</td>\n",
       "    </tr>\n",
       "  </tbody>\n",
       "</table>\n",
       "</div>"
      ],
      "text/plain": [
       "        Location  Year  Persons for whom poverty status determined  \\\n",
       "0  United States  2019                                   320118791   \n",
       "\n",
       "   Individuals- income below poverty level  Population 16 years and over  \\\n",
       "0                                 39490096                     263534161   \n",
       "\n",
       "   In labor force  Employed civilians  Unemployed civilians  Unemployment rate  \n",
       "0       167501734           158758794               7515579                3.0  "
      ]
     },
     "execution_count": 29,
     "metadata": {},
     "output_type": "execute_result"
    }
   ],
   "source": [
    "# Add a new column for unemployment rate \n",
    "us_df_rates[\"Unemployment rate\"] = (100 * \\\n",
    "    us_df_rates[\"Unemployed civilians\"] / us_df_rates[\"Population 16 years and over\"]).round()\n",
    "us_df_rates.head()"
   ]
  },
  {
   "cell_type": "code",
   "execution_count": 30,
   "id": "e1e3ad8e",
   "metadata": {},
   "outputs": [
    {
     "data": {
      "text/html": [
       "<div>\n",
       "<style scoped>\n",
       "    .dataframe tbody tr th:only-of-type {\n",
       "        vertical-align: middle;\n",
       "    }\n",
       "\n",
       "    .dataframe tbody tr th {\n",
       "        vertical-align: top;\n",
       "    }\n",
       "\n",
       "    .dataframe thead th {\n",
       "        text-align: right;\n",
       "    }\n",
       "</style>\n",
       "<table border=\"1\" class=\"dataframe\">\n",
       "  <thead>\n",
       "    <tr style=\"text-align: right;\">\n",
       "      <th></th>\n",
       "      <th>Location</th>\n",
       "      <th>Year</th>\n",
       "      <th>Persons for whom poverty status determined</th>\n",
       "      <th>Individuals- income below poverty level</th>\n",
       "      <th>Population 16 years and over</th>\n",
       "      <th>In labor force</th>\n",
       "      <th>Employed civilians</th>\n",
       "      <th>Unemployed civilians</th>\n",
       "      <th>Unemployment rate</th>\n",
       "      <th>Labor participation rate</th>\n",
       "    </tr>\n",
       "  </thead>\n",
       "  <tbody>\n",
       "    <tr>\n",
       "      <th>0</th>\n",
       "      <td>United States</td>\n",
       "      <td>2019</td>\n",
       "      <td>320118791</td>\n",
       "      <td>39490096</td>\n",
       "      <td>263534161</td>\n",
       "      <td>167501734</td>\n",
       "      <td>158758794</td>\n",
       "      <td>7515579</td>\n",
       "      <td>3.0</td>\n",
       "      <td>64.0</td>\n",
       "    </tr>\n",
       "  </tbody>\n",
       "</table>\n",
       "</div>"
      ],
      "text/plain": [
       "        Location  Year  Persons for whom poverty status determined  \\\n",
       "0  United States  2019                                   320118791   \n",
       "\n",
       "   Individuals- income below poverty level  Population 16 years and over  \\\n",
       "0                                 39490096                     263534161   \n",
       "\n",
       "   In labor force  Employed civilians  Unemployed civilians  \\\n",
       "0       167501734           158758794               7515579   \n",
       "\n",
       "   Unemployment rate  Labor participation rate  \n",
       "0                3.0                      64.0  "
      ]
     },
     "execution_count": 30,
     "metadata": {},
     "output_type": "execute_result"
    }
   ],
   "source": [
    "# Add a new column for labor participation rate \n",
    "us_df_rates[\"Labor participation rate\"] = (100 * \\\n",
    "    us_df_rates[\"In labor force\"]/ us_df_rates[\"Population 16 years and over\"]).round()\n",
    "\n",
    "us_df_rates.head()"
   ]
  },
  {
   "cell_type": "code",
   "execution_count": null,
   "id": "e86f1088",
   "metadata": {},
   "outputs": [],
   "source": []
  },
  {
   "cell_type": "code",
   "execution_count": 31,
   "id": "70f3f974",
   "metadata": {},
   "outputs": [],
   "source": [
    "#us_df_rates = us_df_rates.loc[:,['Location','Year','Population','Pop. Black','Pop. white','Median household income','Median hh income Black','Median hh income white']]\n",
    "#us_df_rates"
   ]
  },
  {
   "cell_type": "code",
   "execution_count": 32,
   "id": "88cf9645",
   "metadata": {},
   "outputs": [],
   "source": [
    "# Export file as a CSV, without the Pandas index, but with the header\n",
    "us_df_rates.to_csv(\"us_employment_2019.csv\", index = False, header=True)"
   ]
  }
 ],
 "metadata": {
  "kernelspec": {
   "display_name": "Python 3",
   "language": "python",
   "name": "python3"
  },
  "language_info": {
   "codemirror_mode": {
    "name": "ipython",
    "version": 3
   },
   "file_extension": ".py",
   "mimetype": "text/x-python",
   "name": "python",
   "nbconvert_exporter": "python",
   "pygments_lexer": "ipython3",
   "version": "3.7.13"
  }
 },
 "nbformat": 4,
 "nbformat_minor": 5
}
