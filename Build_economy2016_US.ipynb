{
 "cells": [
  {
   "cell_type": "code",
   "execution_count": 1,
   "id": "2a9cbda5",
   "metadata": {},
   "outputs": [],
   "source": [
    "#  *** THIS DATA (FROM API) HAS NOT BEEN CHECKED AGAINST DATA.CENSUS.GOV TABLES***"
   ]
  },
  {
   "cell_type": "code",
   "execution_count": 2,
   "id": "a5bfa3e0",
   "metadata": {},
   "outputs": [],
   "source": [
    "## Build an equitable economy: INCOME\n",
    "### U.S. median income, Black median income, Black-white income gap\n",
    "## 2016"
   ]
  },
  {
   "cell_type": "code",
   "execution_count": 3,
   "id": "c279468a",
   "metadata": {},
   "outputs": [],
   "source": [
    "# see https://jtleider.github.io/censusdata/api.html"
   ]
  },
  {
   "cell_type": "code",
   "execution_count": 4,
   "id": "4b9616b2",
   "metadata": {},
   "outputs": [],
   "source": [
    "# data source: 2016 Census Data (ACS-1 year) for Selected Variables - U.S."
   ]
  },
  {
   "cell_type": "code",
   "execution_count": 5,
   "id": "e3541104",
   "metadata": {},
   "outputs": [],
   "source": [
    "# Dependencies\n",
    "import json\n",
    "import pandas as pd\n",
    "import matplotlib.pyplot as plt\n",
    "import requests\n",
    "from census import Census\n",
    "from config import api_key\n",
    "\n",
    "#c = Census(api_key)"
   ]
  },
  {
   "cell_type": "code",
   "execution_count": 6,
   "id": "d92ff12b",
   "metadata": {},
   "outputs": [],
   "source": [
    "import os"
   ]
  },
  {
   "cell_type": "code",
   "execution_count": 7,
   "id": "6de9b788",
   "metadata": {},
   "outputs": [
    {
     "data": {
      "text/plain": [
       "'C:\\\\Users\\\\Jenkir\\\\Desktop\\\\BDC\\\\Baltimore_Together\\\\measuring-success-metrics\\\\BT-equity-metric-analysis'"
      ]
     },
     "execution_count": 7,
     "metadata": {},
     "output_type": "execute_result"
    }
   ],
   "source": [
    "os.getcwd()"
   ]
  },
  {
   "cell_type": "code",
   "execution_count": 8,
   "id": "70066bb3",
   "metadata": {},
   "outputs": [],
   "source": [
    "# need to change the working directory; be sure that the config file for the census API is also in this folder\n",
    "#os.chdir('C:\\\\Users\\\\Jenkir\\\\Desktop\\\\BDC\\\\Baltimore_Together\\\\measuring-success-metrics\\\\analysis_nbs')"
   ]
  },
  {
   "cell_type": "code",
   "execution_count": 9,
   "id": "a1d86d9b",
   "metadata": {},
   "outputs": [],
   "source": [
    "pd.set_option('display.max_rows', 200)"
   ]
  },
  {
   "cell_type": "code",
   "execution_count": 10,
   "id": "60779a2c",
   "metadata": {},
   "outputs": [],
   "source": [
    "pd.set_option('max_colwidth', 100)"
   ]
  },
  {
   "cell_type": "code",
   "execution_count": null,
   "id": "0bdbe717",
   "metadata": {},
   "outputs": [],
   "source": [
    "# see https://iqss.github.io/datafest-project/optional-u-s-census-data-python.html\n",
    "# see census api example urls     https://api.census.gov/data/2019/acs/acs1/examples.html  \n",
    "url = f\"https://api.census.gov/data/2016/acs/acs1?get=NAME,B19001_001E,B01003_001E,B19013_001E,B02001_002E,B02001_003E,B19013A_001E,B19013B_001E&for=us:1&key={api_key}\"\n",
    "\n",
    "response = requests.get(url)\n",
    "response.status_code"
   ]
  },
  {
   "cell_type": "code",
   "execution_count": null,
   "id": "437d1890",
   "metadata": {},
   "outputs": [],
   "source": [
    "us = response.json()\n",
    "us_df_income = pd.DataFrame(us[1:], columns=us[0])\n",
    "# alternatively   us_df = pd.DataFrame(us[1:], columns=us[0]).rename(columns={'NAME':'country', \n",
    "# B01003_001E\": \"Population\",\"B01002_001E\": \"Median Age\"})\n",
    "us_df_income "
   ]
  },
  {
   "cell_type": "code",
   "execution_count": null,
   "id": "b0b1a917",
   "metadata": {},
   "outputs": [],
   "source": [
    "\n",
    "us_df_income = us_df_income.rename(columns={\"B19001_001E\": \"Total households\",\n",
    "                              \"B01003_001E\": \"Population\",\n",
    "                              \"B19013_001E\": \"Median household income\",\n",
    "                              \"B02001_003E\": \"Pop. Black\",\n",
    "                              \"B02001_002E\": \"Pop. white\",\n",
    "                              \"B19013A_001E\": \"Median HH income White Alone Householder\",\n",
    "                              \"B19013B_001E\": \"Median HH income Black or African American Alone Householder\",  \n",
    "                              \"NAME\": \"Geography\"})\n",
    "us_df_income"
   ]
  },
  {
   "cell_type": "code",
   "execution_count": null,
   "id": "2013a9aa",
   "metadata": {},
   "outputs": [],
   "source": [
    "us_df_income = us_df_income.copy()\n",
    "us_df_income"
   ]
  },
  {
   "cell_type": "code",
   "execution_count": null,
   "id": "baa33982",
   "metadata": {},
   "outputs": [],
   "source": [
    "# Export file as a CSV, without the Pandas index, but with the header\n",
    "#us_df_income.to_csv(\"us_income_2016.csv\", index = False, header=True)"
   ]
  },
  {
   "cell_type": "code",
   "execution_count": null,
   "id": "6be29e32",
   "metadata": {},
   "outputs": [],
   "source": []
  },
  {
   "cell_type": "code",
   "execution_count": null,
   "id": "4a707c01",
   "metadata": {},
   "outputs": [],
   "source": [
    "### DO NOT USE CELLS BELOW "
   ]
  },
  {
   "cell_type": "code",
   "execution_count": null,
   "id": "86efed95",
   "metadata": {},
   "outputs": [],
   "source": [
    "# data to be used to calculate poverty rate, labor participation rate, unemployment rate\n",
    "url_rate = f\"https://api.census.gov/data/2016/acs/acs1?get=NAME,B17001_001E,B17001_002E,B23025_001E,B23025_002E,B23025_004E,B23025_005E&for=us:1&key={api_key}\"\n",
    "\n",
    "response = requests.get(url_rate)\n",
    "response.status_code"
   ]
  },
  {
   "cell_type": "code",
   "execution_count": null,
   "id": "4878305e",
   "metadata": {},
   "outputs": [],
   "source": [
    "us_rates = response.json()\n",
    "us_df_rates = pd.DataFrame(us_rates[1:], columns=us_rates[0])\n",
    "# alternatively   us_df = pd.DataFrame(us[1:], columns=us[0]).rename(columns={'NAME':'country', \n",
    "# B01003_001E\": \"Population\",\"B01002_001E\": \"Median Age\"})\n",
    "us_df_rates  "
   ]
  },
  {
   "cell_type": "code",
   "execution_count": null,
   "id": "d098cd4e",
   "metadata": {},
   "outputs": [],
   "source": [
    "us_df_rates = us_df_rates.rename(columns={\n",
    "                                      \"B17001_001E\": \"Persons for whom poverty status determined\",    \n",
    "                                      \"B17001_002E\": \"Individuals- income below poverty level\",# universe: persons for whom poverty status is determined\n",
    "                                      \"B23025_001E\":  \"Population 16 years and over\",\n",
    "                                      \"B23025_002E\": \"In labor force\", # universe: Population 16 years and over\n",
    "                                      \"B23025_004E\": \"Employed civilians\", # universe: Population 16 years and over\n",
    "                                      \"B23025_005E\": \"Unemployed civilians\", # universe: Population 16 years and over\n",
    "                                      \"NAME\": \"Geography\"\n",
    "                                      })\n",
    "us_df_rates.head()"
   ]
  },
  {
   "cell_type": "code",
   "execution_count": null,
   "id": "609045ef",
   "metadata": {},
   "outputs": [],
   "source": [
    "# Add a new column for unemployment rate \n",
    "us_df_rates[\"Unemployment rate\"] = (100 * \\\n",
    "    us_df_rates[\"Unemployed civilians\"].astype(\n",
    "        int) / us_df_rates[\"Population 16 years and over\"].astype(int)).round()\n",
    "us_df_rates.head()"
   ]
  },
  {
   "cell_type": "code",
   "execution_count": null,
   "id": "e1e3ad8e",
   "metadata": {},
   "outputs": [],
   "source": [
    "# Add a new column for labor participation rate \n",
    "us_df_rates[\"Labor participation rate\"] = (100 * \\\n",
    "    us_df_rates[\"In labor force\"].astype(\n",
    "        int) / us_df_rates[\"Population 16 years and over\"].astype(int)).round(1)\n",
    "us_df_rates.head()"
   ]
  },
  {
   "cell_type": "code",
   "execution_count": null,
   "id": "88cf9645",
   "metadata": {},
   "outputs": [],
   "source": [
    "# Export file as a CSV, without the Pandas index, but with the header\n",
    "#rates2016.to_csv(\"us_employment_2016.csv\", index = False, header=True)"
   ]
  }
 ],
 "metadata": {
  "kernelspec": {
   "display_name": "Python 3",
   "language": "python",
   "name": "python3"
  },
  "language_info": {
   "codemirror_mode": {
    "name": "ipython",
    "version": 3
   },
   "file_extension": ".py",
   "mimetype": "text/x-python",
   "name": "python",
   "nbconvert_exporter": "python",
   "pygments_lexer": "ipython3",
   "version": "3.7.13"
  }
 },
 "nbformat": 4,
 "nbformat_minor": 5
}
