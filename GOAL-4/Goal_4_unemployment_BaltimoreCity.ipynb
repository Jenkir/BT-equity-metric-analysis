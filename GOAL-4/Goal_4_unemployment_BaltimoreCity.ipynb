{
 "cells": [
  {
   "cell_type": "code",
   "execution_count": 1,
   "id": "e1145aa7",
   "metadata": {},
   "outputs": [],
   "source": [
    "## Employment rates in Baltimore NIIF areas - 2021"
   ]
  },
  {
   "cell_type": "code",
   "execution_count": null,
   "id": "c8f119e6",
   "metadata": {},
   "outputs": [],
   "source": [
    "# From https://www.census.gov/data/developers/data-sets/acs-5year.html\n",
    "# ACS has non-overlapping datasets that allow comparisons of current ACS data to past ACS data.  \n",
    "# The 2017-2021 ACS 5-Year estimates can be compared with 2012-2016 ACS 5-Year estimates. "
   ]
  },
  {
   "cell_type": "code",
   "execution_count": 2,
   "id": "bf508737",
   "metadata": {},
   "outputs": [],
   "source": [
    "### Census Data (2021:ACS-5 year) \n",
    "# NIIF census tract crosswalk file provided by Patrick/ GIS Analyst\n"
   ]
  },
  {
   "cell_type": "code",
   "execution_count": 3,
   "id": "989f74aa",
   "metadata": {},
   "outputs": [],
   "source": [
    "# From https://www.census.gov/programs-surveys/acs/guidance/comparing-acs-data.html:\n",
    "# \"Due to the impact of the COVID-19 pandemic, the Census Bureau changed the 2020 ACS release. \n",
    "# Instead of providing the standard 1-year data products, the Census Bureau released experimental estimates from the 1-year data. \n",
    "# Data users should not compare 2020 ACS 1-year experimental estimates with any other data.\"\""
   ]
  },
  {
   "cell_type": "code",
   "execution_count": 4,
   "id": "e3541104",
   "metadata": {},
   "outputs": [],
   "source": [
    "# Dependencies\n",
    "import numpy as np\n",
    "import pandas as pd\n",
    "import matplotlib.pyplot as plt\n",
    "import requests\n",
    "from census import Census\n",
    "\n",
    "# Census & gmaps API Keys\n",
    "\n",
    "from config import (api_key)\n",
    "c = Census(api_key, year=2021)\n",
    "\n",
    "# Configure gmaps\n",
    "#gmaps.configure(api_key=gkey)"
   ]
  },
  {
   "cell_type": "code",
   "execution_count": 5,
   "id": "d92ff12b",
   "metadata": {},
   "outputs": [],
   "source": [
    "import os"
   ]
  },
  {
   "cell_type": "code",
   "execution_count": 6,
   "id": "6de9b788",
   "metadata": {},
   "outputs": [
    {
     "data": {
      "text/plain": [
       "'C:\\\\Users\\\\Jenkir\\\\Desktop\\\\BDC\\\\Baltimore_Together\\\\measuring-success-metrics\\\\BT-equity-metric-analysis'"
      ]
     },
     "execution_count": 6,
     "metadata": {},
     "output_type": "execute_result"
    }
   ],
   "source": [
    "os.getcwd()"
   ]
  },
  {
   "cell_type": "code",
   "execution_count": 7,
   "id": "9e09850a",
   "metadata": {},
   "outputs": [],
   "source": [
    "# need to change the working directory; be sure that the config file for the census API is also in this folder\n",
    "os.chdir('C:\\\\Users\\\\Jenkir\\\\Desktop\\\\BDC\\\\Baltimore_Together\\\\measuring-success-metrics\\\\BT-equity-metric-analysis')\n"
   ]
  },
  {
   "cell_type": "code",
   "execution_count": 8,
   "id": "31949bb1",
   "metadata": {},
   "outputs": [
    {
     "data": {
      "text/plain": [
       "'C:\\\\Users\\\\Jenkir\\\\Desktop\\\\BDC\\\\Baltimore_Together\\\\measuring-success-metrics\\\\BT-equity-metric-analysis'"
      ]
     },
     "execution_count": 8,
     "metadata": {},
     "output_type": "execute_result"
    }
   ],
   "source": [
    "os.getcwd()"
   ]
  },
  {
   "cell_type": "code",
   "execution_count": 9,
   "id": "a1d86d9b",
   "metadata": {},
   "outputs": [],
   "source": [
    "pd.set_option('display.max_rows', 200)"
   ]
  },
  {
   "cell_type": "code",
   "execution_count": 10,
   "id": "60779a2c",
   "metadata": {},
   "outputs": [],
   "source": [
    "pd.set_option('max_colwidth', 100)"
   ]
  },
  {
   "cell_type": "code",
   "execution_count": 11,
   "id": "74e1b4ab",
   "metadata": {},
   "outputs": [],
   "source": [
    "# ACS Table codes to use in cell below;  Universe: Population 16 years and over \n",
    "# B23025_002E\tEstimate!!Total:!!In labor force:\tB23025_002EA,B23025_002M,B23025_002MA\n",
    "# B23025_003E\tEstimate!!Total:!!In labor force:!!Civilian labor force\n",
    "# B23025_004E\tEstimate!!Total:!!In labor force:!!Civilian labor force:!!Employed\tB23025_004EA,B23025_004M,B23025_004MA\n",
    "# B23025_005E\tEstimate!!Total:!!In labor force:!!Civilian labor force:!!Unemployed\tB23025_005EA,B23025_005M,B23025_005MA\n"
   ]
  },
  {
   "cell_type": "code",
   "execution_count": 12,
   "id": "45c522fc",
   "metadata": {},
   "outputs": [
    {
     "ename": "UnsupportedYearException",
     "evalue": "Geography is not available in 2021. Available years include (2019, 2018, 2017, 2016, 2015, 2014, 2013, 2012, 2011, 2010, 2009)",
     "output_type": "error",
     "traceback": [
      "\u001b[1;31m---------------------------------------------------------------------------\u001b[0m",
      "\u001b[1;31mUnsupportedYearException\u001b[0m                  Traceback (most recent call last)",
      "\u001b[1;32m~\\AppData\\Local\\Temp\\ipykernel_7300\\2053057700.py\u001b[0m in \u001b[0;36m<module>\u001b[1;34m\u001b[0m\n\u001b[0;32m     13\u001b[0m                           \"B23025_005E\"), \n\u001b[0;32m     14\u001b[0m                           \u001b[0mstate_fips\u001b[0m \u001b[1;33m=\u001b[0m \u001b[1;34m'24'\u001b[0m\u001b[1;33m,\u001b[0m\u001b[1;33m\u001b[0m\u001b[1;33m\u001b[0m\u001b[0m\n\u001b[1;32m---> 15\u001b[1;33m                           \u001b[0mcounty_fips\u001b[0m \u001b[1;33m=\u001b[0m \u001b[1;34m'510'\u001b[0m\u001b[1;33m\u001b[0m\u001b[1;33m\u001b[0m\u001b[0m\n\u001b[0m\u001b[0;32m     16\u001b[0m                           )                  \n\u001b[0;32m     17\u001b[0m \u001b[1;33m\u001b[0m\u001b[0m\n",
      "\u001b[1;32m~\\anaconda3\\envs\\PythonData\\lib\\site-packages\\census\\core.py\u001b[0m in \u001b[0;36mwrapper\u001b[1;34m(self, *args, **kwargs)\u001b[0m\n\u001b[0;32m     47\u001b[0m             \u001b[1;32mif\u001b[0m \u001b[0mint\u001b[0m\u001b[1;33m(\u001b[0m\u001b[0myear\u001b[0m\u001b[1;33m)\u001b[0m \u001b[1;32mnot\u001b[0m \u001b[1;32min\u001b[0m \u001b[0m_years\u001b[0m\u001b[1;33m:\u001b[0m\u001b[1;33m\u001b[0m\u001b[1;33m\u001b[0m\u001b[0m\n\u001b[0;32m     48\u001b[0m                 raise UnsupportedYearException(\n\u001b[1;32m---> 49\u001b[1;33m                     'Geography is not available in {}. Available years include {}'.format(year, _years))\n\u001b[0m\u001b[0;32m     50\u001b[0m             \u001b[1;32mreturn\u001b[0m \u001b[0mfunc\u001b[0m\u001b[1;33m(\u001b[0m\u001b[0mself\u001b[0m\u001b[1;33m,\u001b[0m \u001b[1;33m*\u001b[0m\u001b[0margs\u001b[0m\u001b[1;33m,\u001b[0m \u001b[1;33m**\u001b[0m\u001b[0mkwargs\u001b[0m\u001b[1;33m)\u001b[0m\u001b[1;33m\u001b[0m\u001b[1;33m\u001b[0m\u001b[0m\n\u001b[0;32m     51\u001b[0m         \u001b[1;32mreturn\u001b[0m \u001b[0mwrapper\u001b[0m\u001b[1;33m\u001b[0m\u001b[1;33m\u001b[0m\u001b[0m\n",
      "\u001b[1;31mUnsupportedYearException\u001b[0m: Geography is not available in 2021. Available years include (2019, 2018, 2017, 2016, 2015, 2014, 2013, 2012, 2011, 2010, 2009)"
     ]
    }
   ],
   "source": [
    "# Run Census Search to retrieve data on all tracts \n",
    "# See: https://github.com/CommerceDataService/census-wrapper for library documentation\n",
    "# See: https://gist.github.com/afhaque/60558290d6efd892351c4b64e5c01e9b for labels\n",
    "\n",
    "census_data = c.acs5.state_county((\"NAME\", \"B19013_001E\", \"B01003_001E\",\n",
    "                          \"B02001_003E\",\n",
    "                          \"B02001_002E\",\n",
    "                          \"B19001_001E\",               \n",
    "                          \"B17001_002E\",\n",
    "                          \"B23025_001E\",\n",
    "                          \"B23025_002E\",\n",
    "                          \"B23025_004E\",\n",
    "                          \"B23025_005E\"), \n",
    "                          state_fips = '24',\n",
    "                          county_fips = '510'\n",
    "                          )                  \n",
    "                                          \n",
    "# Convert to DataFrame\n",
    "census_pd = pd.DataFrame(census_data)\n",
    "\n",
    "# Column Reordering\n",
    "census_pd = census_pd.rename(columns={\"B01003_001E\": \"Population\",\n",
    "                                      \"B02001_002E\": \"Pop. white\",\n",
    "                                      \"B02001_003E\": \"Pop. Black\",\n",
    "                                      \"B19001_001E\": \"Total households\",\n",
    "                                      \"B23025_004E\": \"# employed, age 16 and over\",\n",
    "                                      \"B19013_001E\": \"Median hh Income\",\n",
    "                                      \"B23025_001E\": \"Population age 16 and over\",\n",
    "                                      \"B23025_002E\": \"In labor force\",\n",
    "                                      \"B23025_005E\": \"# unemployed age 16 and over\",\n",
    "                                      \"B17001_002E\": \"Poverty Count\",\n",
    "                                      \"NAME\": \"Name\"})\n",
    "census_pd.head()"
   ]
  },
  {
   "cell_type": "code",
   "execution_count": null,
   "id": "cba7e41e",
   "metadata": {},
   "outputs": [],
   "source": [
    "census2 = census_pd.copy()\n",
    "census2.head()"
   ]
  },
  {
   "cell_type": "code",
   "execution_count": null,
   "id": "853fa881",
   "metadata": {},
   "outputs": [],
   "source": [
    "# Add in Poverty Rate (Poverty Count / Population)\n",
    "census2[\"Poverty Rate\"] = 100 * \\\n",
    "    census2[\"Poverty Count\"].astype(\n",
    "        int) / census2[\"Population\"].astype(int)\n",
    "census2"
   ]
  },
  {
   "cell_type": "code",
   "execution_count": null,
   "id": "40e15341",
   "metadata": {},
   "outputs": [],
   "source": [
    "# Add in employment rate (# employed, age 16 and over / Population age 16 and over)\n",
    "census2[\"Employment Rate\"] = 100 * \\\n",
    "    census2[\"# employed, age 16 and over\"].astype(\n",
    "        int) / census2[\"Population age 16 and over\"].astype(int)\n",
    "census2"
   ]
  },
  {
   "cell_type": "code",
   "execution_count": null,
   "id": "c09db786",
   "metadata": {},
   "outputs": [],
   "source": [
    "# Create Geographic Identifier (\"GEOID\") for each census tract by adding state fips code + county fips code + census tract code\n",
    "# see https://www.census.gov/programs-surveys/geography/guidance/geo-identifiers.html#:~:text=The%20full%20GEOID%20for%20many,codes%2C%20in%20which%20they%20nest.\n",
    "census2[\"GEOID\"] = census2['state'] + census2['county'] + census2['tract']\n",
    "census2"
   ]
  },
  {
   "cell_type": "code",
   "execution_count": null,
   "id": "362b662d",
   "metadata": {},
   "outputs": [],
   "source": [
    "# GIS Analyst, Patrick, provided a csv (created from ARcGIS) that contains a key to match Baltimore's NIIF areas with census tracts\n",
    "\n",
    "# Store filepath in a variable\n",
    "NIIFs = \"./raw_data/NIIF_Tracts.csv\"\n",
    "\n",
    "# Read the file with the pandas library\n",
    "NIIFs_df = pd.read_csv(NIIFs)\n",
    "NIIFs_df.dtypes"
   ]
  },
  {
   "cell_type": "code",
   "execution_count": null,
   "id": "a65ea86e",
   "metadata": {},
   "outputs": [],
   "source": [
    "# Change data type of the \"GEOID\" column so that it's a string/ text and not an integer\n",
    "NIIFs_df[\"GEOID\"] = NIIFs_df[\"GEOID\"].astype('str')\n",
    "NIIFs_df.dtypes"
   ]
  },
  {
   "cell_type": "code",
   "execution_count": null,
   "id": "5a353e89",
   "metadata": {},
   "outputs": [],
   "source": [
    "# merge the census2 dataframe with the NIIFs_df dataframe on the common column \"GEOID\"\n",
    "\n",
    "NIFF_df = pd.merge(\n",
    "    census2, NIIFs_df, on=\"GEOID\")\n",
    "\n",
    "# remove any columns with NaN (\"Not a Number\") - used for missing values, by using .dropna()\n",
    "#NIFF_df = NIFF_df.dropna()\n",
    "NIFF_df"
   ]
  },
  {
   "cell_type": "code",
   "execution_count": null,
   "id": "d177af1e",
   "metadata": {},
   "outputs": [],
   "source": [
    "# Remove extraneous columns\n",
    "NIFF_df = NIFF_df.drop([\"Name\",\"NAMELSAD\", \"state\", \"county\"], axis=1)\n",
    "NIFF_df"
   ]
  },
  {
   "cell_type": "code",
   "execution_count": null,
   "id": "52a12a71",
   "metadata": {},
   "outputs": [],
   "source": [
    "NIFF_df.dtypes"
   ]
  },
  {
   "cell_type": "code",
   "execution_count": null,
   "id": "fe50f197",
   "metadata": {},
   "outputs": [],
   "source": [
    "NIFF_employment = NIFF_df.copy()\n"
   ]
  },
  {
   "cell_type": "code",
   "execution_count": null,
   "id": "cfd23d6e",
   "metadata": {},
   "outputs": [],
   "source": [
    "NIFF_employment = NIFF_employment[['Population age 16 and over', '# employed, age 16 and over']]\n",
    "NIFF_employment"
   ]
  },
  {
   "cell_type": "code",
   "execution_count": null,
   "id": "dc2371e7",
   "metadata": {},
   "outputs": [],
   "source": [
    "#  sum the population age 16 and over and # employed , age 16 and over for all of the census tracts that are in NIIF boundary\n",
    "# see https://sparkbyexamples.com/pandas/pandas-sum-dataframe-columns/#:~:text=To%20sum%20given%20or%20list,to%20get%20the%20total%20sum.\n",
    "df = NIFF_employment.sum(axis=0)\n",
    "df2 = pd.DataFrame(df)\n",
    "df2"
   ]
  },
  {
   "cell_type": "code",
   "execution_count": null,
   "id": "d5523b75",
   "metadata": {},
   "outputs": [],
   "source": [
    "NIIF_employment = df2.transpose()\n",
    "NIIF_employment"
   ]
  },
  {
   "cell_type": "code",
   "execution_count": null,
   "id": "ce7e4ecc",
   "metadata": {},
   "outputs": [],
   "source": [
    "\n",
    "NIIF_employment[\"employment rate\"] = 100 * \\\n",
    "    NIIF_employment[\"# employed, age 16 and over\"].astype(\n",
    "        int) / NIIF_employment[\"Population age 16 and over\"].astype(\n",
    "        int) \n",
    "\n",
    "NIIF_employment"
   ]
  },
  {
   "cell_type": "code",
   "execution_count": null,
   "id": "d2317457",
   "metadata": {},
   "outputs": [],
   "source": [
    "# Round rate to one decimal point\n",
    "NIIF_employment[\"employment rate\"] = NIIF_employment[\"employment rate\"].astype(float).round(1)\n",
    "NIIF_employment"
   ]
  },
  {
   "cell_type": "code",
   "execution_count": null,
   "id": "30f77653",
   "metadata": {},
   "outputs": [],
   "source": [
    "# Export file as a CSV, without the Pandas index, but with the header\n",
    "# Do not run this last code block until you have all previous code blocks in their final form:\n",
    "\n",
    "# NIIF_employment.to_csv(\"NIIF_employment.csv\", index = False, header=True)"
   ]
  }
 ],
 "metadata": {
  "kernelspec": {
   "display_name": "Python 3",
   "language": "python",
   "name": "python3"
  },
  "language_info": {
   "codemirror_mode": {
    "name": "ipython",
    "version": 3
   },
   "file_extension": ".py",
   "mimetype": "text/x-python",
   "name": "python",
   "nbconvert_exporter": "python",
   "pygments_lexer": "ipython3",
   "version": "3.7.13"
  }
 },
 "nbformat": 4,
 "nbformat_minor": 5
}
