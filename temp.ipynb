{
 "cells": [
  {
   "cell_type": "code",
   "execution_count": 1,
   "id": "2a9cbda5",
   "metadata": {},
   "outputs": [],
   "source": [
    "#  *** THIS DATA (FROM API) HAS BEEN CHECKED AGAINST DATA.CENSUS.GOV TABLES***"
   ]
  },
  {
   "cell_type": "code",
   "execution_count": 2,
   "id": "a5bfa3e0",
   "metadata": {},
   "outputs": [],
   "source": [
    "## Build an equitable economy: INCOME\n",
    "### U.S. median income, Black median income, Black-white income gap\n",
    "## 2014"
   ]
  },
  {
   "cell_type": "code",
   "execution_count": 3,
   "id": "bec44c6d",
   "metadata": {},
   "outputs": [],
   "source": [
    "# see https://jtleider.github.io/censusdata/api.html"
   ]
  },
  {
   "cell_type": "code",
   "execution_count": 4,
   "id": "4b9616b2",
   "metadata": {},
   "outputs": [],
   "source": [
    "# data source: 2014 Census Data (ACS-1 year) for Selected Variables - U.S.\n"
   ]
  },
  {
   "cell_type": "code",
   "execution_count": 5,
   "id": "e3541104",
   "metadata": {},
   "outputs": [],
   "source": [
    "# Dependencies\n",
    "import json\n",
    "import pandas as pd\n",
    "import matplotlib.pyplot as plt\n",
    "import requests\n",
    "from census import Census\n",
    "from config import api_key\n",
    "\n",
    "#c = Census(api_key)"
   ]
  },
  {
   "cell_type": "code",
   "execution_count": 6,
   "id": "d92ff12b",
   "metadata": {},
   "outputs": [],
   "source": [
    "import os"
   ]
  },
  {
   "cell_type": "code",
   "execution_count": 7,
   "id": "6de9b788",
   "metadata": {},
   "outputs": [
    {
     "data": {
      "text/plain": [
       "'C:\\\\Users\\\\Jenkir\\\\Desktop\\\\BDC\\\\Baltimore_Together\\\\measuring-success-metrics\\\\BT-equity-metric-analysis'"
      ]
     },
     "execution_count": 7,
     "metadata": {},
     "output_type": "execute_result"
    }
   ],
   "source": [
    "os.getcwd()"
   ]
  },
  {
   "cell_type": "code",
   "execution_count": 8,
   "id": "70066bb3",
   "metadata": {},
   "outputs": [],
   "source": [
    "# need to change the working directory; be sure that the config file for the census API is also in this folder\n",
    "#os.chdir('C:\\\\Users\\\\Jenkir\\\\Desktop\\\\BDC\\\\Baltimore_Together\\\\measuring-success-metrics\\\\analysis_nbs')"
   ]
  },
  {
   "cell_type": "code",
   "execution_count": 9,
   "id": "a1d86d9b",
   "metadata": {},
   "outputs": [],
   "source": [
    "pd.set_option('display.max_rows', 200)"
   ]
  },
  {
   "cell_type": "code",
   "execution_count": 10,
   "id": "60779a2c",
   "metadata": {},
   "outputs": [],
   "source": [
    "pd.set_option('max_colwidth', 100)"
   ]
  },
  {
   "cell_type": "code",
   "execution_count": 11,
   "id": "2e9ed732",
   "metadata": {},
   "outputs": [
    {
     "data": {
      "text/plain": [
       "200"
      ]
     },
     "execution_count": 11,
     "metadata": {},
     "output_type": "execute_result"
    }
   ],
   "source": [
    "# see https://iqss.github.io/datafest-project/optional-u-s-census-data-python.html\n",
    "# see census api example urls     https://api.census.gov/data/2019/acs/acs1/examples.html  \n",
    "url = f\"https://api.census.gov/data/2014/acs/acs1?get=NAME,B19001_001E,B01003_001E,B19013_001E,B02001_002E,B02001_003E,B19013A_001E,B19013B_001E&for=us:1&key={api_key}\"\n",
    "\n",
    "response = requests.get(url)\n",
    "response.status_code"
   ]
  },
  {
   "cell_type": "code",
   "execution_count": 12,
   "id": "20523edd",
   "metadata": {},
   "outputs": [
    {
     "data": {
      "text/html": [
       "<div>\n",
       "<style scoped>\n",
       "    .dataframe tbody tr th:only-of-type {\n",
       "        vertical-align: middle;\n",
       "    }\n",
       "\n",
       "    .dataframe tbody tr th {\n",
       "        vertical-align: top;\n",
       "    }\n",
       "\n",
       "    .dataframe thead th {\n",
       "        text-align: right;\n",
       "    }\n",
       "</style>\n",
       "<table border=\"1\" class=\"dataframe\">\n",
       "  <thead>\n",
       "    <tr style=\"text-align: right;\">\n",
       "      <th></th>\n",
       "      <th>NAME</th>\n",
       "      <th>B19001_001E</th>\n",
       "      <th>B01003_001E</th>\n",
       "      <th>B19013_001E</th>\n",
       "      <th>B02001_002E</th>\n",
       "      <th>B02001_003E</th>\n",
       "      <th>B19013A_001E</th>\n",
       "      <th>B19013B_001E</th>\n",
       "      <th>us</th>\n",
       "    </tr>\n",
       "  </thead>\n",
       "  <tbody>\n",
       "    <tr>\n",
       "      <th>0</th>\n",
       "      <td>United States</td>\n",
       "      <td>117259427</td>\n",
       "      <td>318857056</td>\n",
       "      <td>53657</td>\n",
       "      <td>233963128</td>\n",
       "      <td>40379066</td>\n",
       "      <td>57355</td>\n",
       "      <td>35481</td>\n",
       "      <td>1</td>\n",
       "    </tr>\n",
       "  </tbody>\n",
       "</table>\n",
       "</div>"
      ],
      "text/plain": [
       "            NAME B19001_001E B01003_001E B19013_001E B02001_002E B02001_003E  \\\n",
       "0  United States   117259427   318857056       53657   233963128    40379066   \n",
       "\n",
       "  B19013A_001E B19013B_001E us  \n",
       "0        57355        35481  1  "
      ]
     },
     "execution_count": 12,
     "metadata": {},
     "output_type": "execute_result"
    }
   ],
   "source": [
    "us = response.json()\n",
    "us_df_income = pd.DataFrame(us[1:], columns=us[0])\n",
    "# alternatively   us_df = pd.DataFrame(us[1:], columns=us[0]).rename(columns={'NAME':'country', \n",
    "# B01003_001E\": \"Population\",\"B01002_001E\": \"Median Age\"})\n",
    "us_df_income "
   ]
  },
  {
   "cell_type": "code",
   "execution_count": 13,
   "id": "6d04a96f",
   "metadata": {},
   "outputs": [
    {
     "data": {
      "text/html": [
       "<div>\n",
       "<style scoped>\n",
       "    .dataframe tbody tr th:only-of-type {\n",
       "        vertical-align: middle;\n",
       "    }\n",
       "\n",
       "    .dataframe tbody tr th {\n",
       "        vertical-align: top;\n",
       "    }\n",
       "\n",
       "    .dataframe thead th {\n",
       "        text-align: right;\n",
       "    }\n",
       "</style>\n",
       "<table border=\"1\" class=\"dataframe\">\n",
       "  <thead>\n",
       "    <tr style=\"text-align: right;\">\n",
       "      <th></th>\n",
       "      <th>Geography</th>\n",
       "      <th>Total households</th>\n",
       "      <th>Population</th>\n",
       "      <th>Median household income</th>\n",
       "      <th>Pop. white</th>\n",
       "      <th>Pop. Black</th>\n",
       "      <th>Median HH income White Alone Householder</th>\n",
       "      <th>Median HH income Black or African American Alone Householder</th>\n",
       "      <th>us</th>\n",
       "    </tr>\n",
       "  </thead>\n",
       "  <tbody>\n",
       "    <tr>\n",
       "      <th>0</th>\n",
       "      <td>United States</td>\n",
       "      <td>117259427</td>\n",
       "      <td>318857056</td>\n",
       "      <td>53657</td>\n",
       "      <td>233963128</td>\n",
       "      <td>40379066</td>\n",
       "      <td>57355</td>\n",
       "      <td>35481</td>\n",
       "      <td>1</td>\n",
       "    </tr>\n",
       "  </tbody>\n",
       "</table>\n",
       "</div>"
      ],
      "text/plain": [
       "       Geography Total households Population Median household income  \\\n",
       "0  United States        117259427  318857056                   53657   \n",
       "\n",
       "  Pop. white Pop. Black Median HH income White Alone Householder  \\\n",
       "0  233963128   40379066                                    57355   \n",
       "\n",
       "  Median HH income Black or African American Alone Householder us  \n",
       "0                                                        35481  1  "
      ]
     },
     "execution_count": 13,
     "metadata": {},
     "output_type": "execute_result"
    }
   ],
   "source": [
    "\n",
    "us_df_income = us_df_income.rename(columns={\"B19001_001E\": \"Total households\",\n",
    "                              \"B01003_001E\": \"Population\",\n",
    "                              \"B19013_001E\": \"Median household income\",\n",
    "                              \"B02001_003E\": \"Pop. Black\",\n",
    "                              \"B02001_002E\": \"Pop. white\",\n",
    "                              \"B19013A_001E\": \"Median HH income White Alone Householder\",\n",
    "                              \"B19013B_001E\": \"Median HH income Black or African American Alone Householder\",  \n",
    "                              \"NAME\": \"Geography\"})\n",
    "us_df_income"
   ]
  },
  {
   "cell_type": "code",
   "execution_count": 14,
   "id": "2013a9aa",
   "metadata": {},
   "outputs": [
    {
     "data": {
      "text/html": [
       "<div>\n",
       "<style scoped>\n",
       "    .dataframe tbody tr th:only-of-type {\n",
       "        vertical-align: middle;\n",
       "    }\n",
       "\n",
       "    .dataframe tbody tr th {\n",
       "        vertical-align: top;\n",
       "    }\n",
       "\n",
       "    .dataframe thead th {\n",
       "        text-align: right;\n",
       "    }\n",
       "</style>\n",
       "<table border=\"1\" class=\"dataframe\">\n",
       "  <thead>\n",
       "    <tr style=\"text-align: right;\">\n",
       "      <th></th>\n",
       "      <th>Geography</th>\n",
       "      <th>Total households</th>\n",
       "      <th>Population</th>\n",
       "      <th>Median household income</th>\n",
       "      <th>Pop. white</th>\n",
       "      <th>Pop. Black</th>\n",
       "      <th>Median HH income White Alone Householder</th>\n",
       "      <th>Median HH income Black or African American Alone Householder</th>\n",
       "      <th>us</th>\n",
       "    </tr>\n",
       "  </thead>\n",
       "  <tbody>\n",
       "    <tr>\n",
       "      <th>0</th>\n",
       "      <td>United States</td>\n",
       "      <td>117259427</td>\n",
       "      <td>318857056</td>\n",
       "      <td>53657</td>\n",
       "      <td>233963128</td>\n",
       "      <td>40379066</td>\n",
       "      <td>57355</td>\n",
       "      <td>35481</td>\n",
       "      <td>1</td>\n",
       "    </tr>\n",
       "  </tbody>\n",
       "</table>\n",
       "</div>"
      ],
      "text/plain": [
       "       Geography Total households Population Median household income  \\\n",
       "0  United States        117259427  318857056                   53657   \n",
       "\n",
       "  Pop. white Pop. Black Median HH income White Alone Householder  \\\n",
       "0  233963128   40379066                                    57355   \n",
       "\n",
       "  Median HH income Black or African American Alone Householder us  \n",
       "0                                                        35481  1  "
      ]
     },
     "execution_count": 14,
     "metadata": {},
     "output_type": "execute_result"
    }
   ],
   "source": [
    "us_df_income = us_df_income.copy()\n",
    "us_df_income"
   ]
  },
  {
   "cell_type": "code",
   "execution_count": 15,
   "id": "baa33982",
   "metadata": {},
   "outputs": [],
   "source": [
    "# Export file as a CSV, without the Pandas index, but with the header\n",
    "#us_df_income.to_csv(\"us_income_2014.csv\", index = False, header=True)"
   ]
  },
  {
   "cell_type": "code",
   "execution_count": null,
   "id": "816daccf",
   "metadata": {},
   "outputs": [],
   "source": []
  },
  {
   "cell_type": "code",
   "execution_count": null,
   "id": "6be29e32",
   "metadata": {},
   "outputs": [],
   "source": []
  },
  {
   "cell_type": "code",
   "execution_count": null,
   "id": "4a707c01",
   "metadata": {},
   "outputs": [],
   "source": []
  },
  {
   "cell_type": "code",
   "execution_count": 16,
   "id": "86efed95",
   "metadata": {},
   "outputs": [
    {
     "ename": "SyntaxError",
     "evalue": "invalid syntax (353371283.py, line 8)",
     "output_type": "error",
     "traceback": [
      "\u001b[1;36m  File \u001b[1;32m\"C:\\Users\\Jenkir\\AppData\\Local\\Temp\\ipykernel_14528\\353371283.py\"\u001b[1;36m, line \u001b[1;32m8\u001b[0m\n\u001b[1;33m    rates_2014 = pd.DataFrame(data_rates)\u001b[0m\n\u001b[1;37m             ^\u001b[0m\n\u001b[1;31mSyntaxError\u001b[0m\u001b[1;31m:\u001b[0m invalid syntax\n"
     ]
    }
   ],
   "source": [
    "# American Community Survey 1-Year Data \n",
    "\n",
    "data_rates = censusdata.download('acs1', 2014,\n",
    "                          censusdata.censusgeo\n",
    "                                 ([\"B17001_001E\",\"B17001_002E\",\"B23025_001E\",\"B23025_002E\",\n",
    "                                   \"B23025_004E\",\"B23025_005E\"\n",
    "                                 ])\n",
    "rates_2014 = pd.DataFrame(data_rates)\n",
    "rates_2014"
   ]
  },
  {
   "cell_type": "code",
   "execution_count": null,
   "id": "d098cd4e",
   "metadata": {},
   "outputs": [],
   "source": [
    "rates_2014 = rates_2014.rename(columns={\n",
    "                                      \"B17001_001E\": \"Persons for whom poverty status determined\",    \n",
    "                                      \"B17001_002E\": \"Individuals- income below poverty level\",# universe: persons for whom poverty status is determined\n",
    "                                      \"B23025_001E\":  \"Population 16 years and over\",\n",
    "                                      \"B23025_002E\": \"In labor force\", # universe: Population 16 years and over\n",
    "                                      \"B23025_004E\": \"Employed civilians\", # universe: Population 16 years and over\n",
    "                                      \"B23025_005E\": \"Unemployed civilians\", # universe: Population 16 years and over\n",
    "                                      })\n",
    "rates_2014.head()"
   ]
  },
  {
   "cell_type": "code",
   "execution_count": null,
   "id": "ccae31f1",
   "metadata": {},
   "outputs": [],
   "source": [
    "rates2014 = rates_2014.copy()"
   ]
  },
  {
   "cell_type": "code",
   "execution_count": null,
   "id": "6254f1ab",
   "metadata": {},
   "outputs": [],
   "source": [
    "rates2014.index = ['U.S., 2014']\n",
    "rates2014"
   ]
  },
  {
   "cell_type": "code",
   "execution_count": null,
   "id": "c445803a",
   "metadata": {},
   "outputs": [],
   "source": [
    "rates2014 = rates2014.reset_index()\n",
    "rates2014"
   ]
  },
  {
   "cell_type": "code",
   "execution_count": null,
   "id": "c3f063b7",
   "metadata": {},
   "outputs": [],
   "source": [
    "rates2014 = rates2014.rename(columns={\"index\": \"Year\"})                                           \n",
    "rates2014 "
   ]
  },
  {
   "cell_type": "code",
   "execution_count": null,
   "id": "ea4fb5b4",
   "metadata": {},
   "outputs": [],
   "source": [
    "rates2014 [[\"Location\", \"Year\"]] = rates2014 .Year.str.split(\",\", expand=True)\n",
    "rates2014 "
   ]
  },
  {
   "cell_type": "code",
   "execution_count": null,
   "id": "609045ef",
   "metadata": {},
   "outputs": [],
   "source": [
    "# Add a new column for poverty rate \n",
    "rates2014[\"Poverty rate\"] = (100 * \\\n",
    "    rates2014[\"Individuals- income below poverty level\"].astype(\n",
    "        int) / rates2014[\"Persons for whom poverty status determined\"].astype(int)).round()\n",
    "\n",
    "\n",
    "# Add a new column for unemployment rate \n",
    "rates2014[\"Unemployment rate\"] = (100 * \\\n",
    "    rates2014[\"Unemployed civilians\"].astype(\n",
    "        int) / rates2014[\"Population 16 years and over\"].astype(int)).round()\n",
    "rates2014.head()"
   ]
  },
  {
   "cell_type": "code",
   "execution_count": null,
   "id": "fee17794",
   "metadata": {},
   "outputs": [],
   "source": [
    "#rates2014[\"Poverty rate\"] = rates2014[\"Poverty rate\"].astype(float).round(1)\n",
    "#rates2014[\"Unemployment rate\"] = rates2014[\"Unemployment rate\"].astype(float).round(1)\n"
   ]
  },
  {
   "cell_type": "code",
   "execution_count": null,
   "id": "e1e3ad8e",
   "metadata": {},
   "outputs": [],
   "source": [
    "# Add a new column for labor participation rate \n",
    "rates2014[\"Labor participation rate\"] = (100 * \\\n",
    "    rates2014[\"In labor force\"].astype(\n",
    "        int) / rates2014[\"Population 16 years and over\"].astype(int)).round(1)\n",
    "rates2014.head()"
   ]
  },
  {
   "cell_type": "code",
   "execution_count": null,
   "id": "88cf9645",
   "metadata": {},
   "outputs": [],
   "source": [
    "# Export file as a CSV, without the Pandas index, but with the header\n",
    "#rates2014.to_csv(\"us_employment_2014.csv\", index = False, header=True)"
   ]
  }
 ],
 "metadata": {
  "kernelspec": {
   "display_name": "Python 3",
   "language": "python",
   "name": "python3"
  },
  "language_info": {
   "codemirror_mode": {
    "name": "ipython",
    "version": 3
   },
   "file_extension": ".py",
   "mimetype": "text/x-python",
   "name": "python",
   "nbconvert_exporter": "python",
   "pygments_lexer": "ipython3",
   "version": "3.7.13"
  }
 },
 "nbformat": 4,
 "nbformat_minor": 5
}
