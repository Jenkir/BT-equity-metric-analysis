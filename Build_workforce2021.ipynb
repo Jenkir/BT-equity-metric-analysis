{
 "cells": [
  {
   "cell_type": "code",
   "execution_count": 1,
   "id": "a5bfa3e0",
   "metadata": {},
   "outputs": [],
   "source": [
    "## Build a stronger workforce:\n",
    "### Baltimore City Black vs. white employment, residents with Associate's degree and higher\n",
    "## 2021"
   ]
  },
  {
   "cell_type": "code",
   "execution_count": 2,
   "id": "4b9616b2",
   "metadata": {},
   "outputs": [],
   "source": [
    "# data source: \n"
   ]
  },
  {
   "cell_type": "code",
   "execution_count": 3,
   "id": "73176156",
   "metadata": {},
   "outputs": [],
   "source": [
    "#pip install prettytable"
   ]
  },
  {
   "cell_type": "code",
   "execution_count": 4,
   "id": "e3541104",
   "metadata": {},
   "outputs": [],
   "source": [
    "# Dependencies\n",
    "import numpy as np\n",
    "import pandas as pd\n",
    "import matplotlib.pyplot as plt\n",
    "import requests\n",
    "import json\n",
    "import censusdata\n",
    "%matplotlib inline\n",
    "\n"
   ]
  },
  {
   "cell_type": "code",
   "execution_count": 5,
   "id": "d92ff12b",
   "metadata": {},
   "outputs": [],
   "source": [
    "#import os"
   ]
  },
  {
   "cell_type": "code",
   "execution_count": 6,
   "id": "6de9b788",
   "metadata": {},
   "outputs": [],
   "source": [
    "#os.getcwd()"
   ]
  },
  {
   "cell_type": "code",
   "execution_count": 7,
   "id": "a1d86d9b",
   "metadata": {},
   "outputs": [],
   "source": [
    "pd.set_option('display.max_rows', 200)"
   ]
  },
  {
   "cell_type": "code",
   "execution_count": 8,
   "id": "60779a2c",
   "metadata": {},
   "outputs": [],
   "source": [
    "pd.set_option('max_colwidth', 100)"
   ]
  },
  {
   "cell_type": "code",
   "execution_count": 9,
   "id": "d7ad9d17",
   "metadata": {},
   "outputs": [],
   "source": [
    "# see https://www.bls.gov/opub/reports/race-and-ethnicity/2016/#table-1\n",
    "# Civilian labor force. This group comprises all people classified as employed or unemployed in accordance with the criteria described above.\n",
    "\n",
    "# Unemployment rate. This rate is the number unemployed as a percentage of the civilian labor force.\n",
    "\n",
    "# Labor force participation rate. This rate is the labor force as a percentage of the population.\n",
    "\n",
    "# Employment–population ratio. This ratio is the number of employed as a percentage of the population."
   ]
  },
  {
   "cell_type": "code",
   "execution_count": 10,
   "id": "4eac6508",
   "metadata": {},
   "outputs": [
    {
     "data": {
      "text/html": [
       "<div>\n",
       "<style scoped>\n",
       "    .dataframe tbody tr th:only-of-type {\n",
       "        vertical-align: middle;\n",
       "    }\n",
       "\n",
       "    .dataframe tbody tr th {\n",
       "        vertical-align: top;\n",
       "    }\n",
       "\n",
       "    .dataframe thead th {\n",
       "        text-align: right;\n",
       "    }\n",
       "</style>\n",
       "<table border=\"1\" class=\"dataframe\">\n",
       "  <thead>\n",
       "    <tr style=\"text-align: right;\">\n",
       "      <th></th>\n",
       "      <th>B01003_001E</th>\n",
       "      <th>B02001_003E</th>\n",
       "      <th>B02001_002E</th>\n",
       "      <th>B23025_002E</th>\n",
       "      <th>B08301_001E</th>\n",
       "      <th>B15002_001E</th>\n",
       "      <th>B15003_016E</th>\n",
       "      <th>B15003_017E</th>\n",
       "      <th>B15003_021E</th>\n",
       "      <th>B15003_022E</th>\n",
       "    </tr>\n",
       "  </thead>\n",
       "  <tbody>\n",
       "    <tr>\n",
       "      <th>Baltimore city, Maryland: Summary level: 050, state:24&gt; county:510</th>\n",
       "      <td>576498</td>\n",
       "      <td>344531</td>\n",
       "      <td>159246</td>\n",
       "      <td>294220</td>\n",
       "      <td>263878</td>\n",
       "      <td>405797</td>\n",
       "      <td>9501</td>\n",
       "      <td>89251</td>\n",
       "      <td>24219</td>\n",
       "      <td>78197</td>\n",
       "    </tr>\n",
       "  </tbody>\n",
       "</table>\n",
       "</div>"
      ],
      "text/plain": [
       "                                                                    B01003_001E  \\\n",
       "Baltimore city, Maryland: Summary level: 050, state:24> county:510       576498   \n",
       "\n",
       "                                                                    B02001_003E  \\\n",
       "Baltimore city, Maryland: Summary level: 050, state:24> county:510       344531   \n",
       "\n",
       "                                                                    B02001_002E  \\\n",
       "Baltimore city, Maryland: Summary level: 050, state:24> county:510       159246   \n",
       "\n",
       "                                                                    B23025_002E  \\\n",
       "Baltimore city, Maryland: Summary level: 050, state:24> county:510       294220   \n",
       "\n",
       "                                                                    B08301_001E  \\\n",
       "Baltimore city, Maryland: Summary level: 050, state:24> county:510       263878   \n",
       "\n",
       "                                                                    B15002_001E  \\\n",
       "Baltimore city, Maryland: Summary level: 050, state:24> county:510       405797   \n",
       "\n",
       "                                                                    B15003_016E  \\\n",
       "Baltimore city, Maryland: Summary level: 050, state:24> county:510         9501   \n",
       "\n",
       "                                                                    B15003_017E  \\\n",
       "Baltimore city, Maryland: Summary level: 050, state:24> county:510        89251   \n",
       "\n",
       "                                                                    B15003_021E  \\\n",
       "Baltimore city, Maryland: Summary level: 050, state:24> county:510        24219   \n",
       "\n",
       "                                                                    B15003_022E  \n",
       "Baltimore city, Maryland: Summary level: 050, state:24> county:510        78197  "
      ]
     },
     "execution_count": 10,
     "metadata": {},
     "output_type": "execute_result"
    }
   ],
   "source": [
    "# American Community Survey 1-Year Data DETAILED Tables \n",
    "\n",
    "data = censusdata.download('acs1', 2021,\n",
    "                          censusdata.censusgeo([('state', '24'),\n",
    "                                         ('county', '510')]),\n",
    "                                        [\"B01003_001E\",\n",
    "                                         \"B02001_003E\",\n",
    "                                         \"B02001_002E\",\n",
    "                                         \"B23025_002E\",\n",
    "                                         \"B08301_001E\",\n",
    "                                         \"B15002_001E\",\n",
    "                                         \"B15003_016E\",\n",
    "                                         \"B15003_017E\",\n",
    "                                         \"B15003_021E\",\n",
    "                                         \"B15003_022E\",])\n",
    "# create dataframe                          \n",
    "census_2021 = pd.DataFrame(data)\n",
    "census_2021"
   ]
  },
  {
   "cell_type": "code",
   "execution_count": 11,
   "id": "43db78e3",
   "metadata": {},
   "outputs": [
    {
     "data": {
      "text/html": [
       "<div>\n",
       "<style scoped>\n",
       "    .dataframe tbody tr th:only-of-type {\n",
       "        vertical-align: middle;\n",
       "    }\n",
       "\n",
       "    .dataframe tbody tr th {\n",
       "        vertical-align: top;\n",
       "    }\n",
       "\n",
       "    .dataframe thead th {\n",
       "        text-align: right;\n",
       "    }\n",
       "</style>\n",
       "<table border=\"1\" class=\"dataframe\">\n",
       "  <thead>\n",
       "    <tr style=\"text-align: right;\">\n",
       "      <th></th>\n",
       "      <th>Population</th>\n",
       "      <th>Pop. Black</th>\n",
       "      <th>Pop. white</th>\n",
       "      <th>Pop_in_labor_force</th>\n",
       "      <th>Workers_16_yrs_and_over</th>\n",
       "      <th>Population_25yrs_and_over</th>\n",
       "      <th># persons 12th grade, no diploma</th>\n",
       "      <th># persons age 25+ graduated high school</th>\n",
       "      <th># persons Associate's degree</th>\n",
       "      <th># persons Bachelor's degree</th>\n",
       "    </tr>\n",
       "  </thead>\n",
       "  <tbody>\n",
       "    <tr>\n",
       "      <th>Baltimore city, Maryland: Summary level: 050, state:24&gt; county:510</th>\n",
       "      <td>576498</td>\n",
       "      <td>344531</td>\n",
       "      <td>159246</td>\n",
       "      <td>294220</td>\n",
       "      <td>263878</td>\n",
       "      <td>405797</td>\n",
       "      <td>9501</td>\n",
       "      <td>89251</td>\n",
       "      <td>24219</td>\n",
       "      <td>78197</td>\n",
       "    </tr>\n",
       "  </tbody>\n",
       "</table>\n",
       "</div>"
      ],
      "text/plain": [
       "                                                                    Population  \\\n",
       "Baltimore city, Maryland: Summary level: 050, state:24> county:510      576498   \n",
       "\n",
       "                                                                    Pop. Black  \\\n",
       "Baltimore city, Maryland: Summary level: 050, state:24> county:510      344531   \n",
       "\n",
       "                                                                    Pop. white  \\\n",
       "Baltimore city, Maryland: Summary level: 050, state:24> county:510      159246   \n",
       "\n",
       "                                                                    Pop_in_labor_force  \\\n",
       "Baltimore city, Maryland: Summary level: 050, state:24> county:510              294220   \n",
       "\n",
       "                                                                    Workers_16_yrs_and_over  \\\n",
       "Baltimore city, Maryland: Summary level: 050, state:24> county:510                   263878   \n",
       "\n",
       "                                                                    Population_25yrs_and_over  \\\n",
       "Baltimore city, Maryland: Summary level: 050, state:24> county:510                     405797   \n",
       "\n",
       "                                                                    # persons 12th grade, no diploma  \\\n",
       "Baltimore city, Maryland: Summary level: 050, state:24> county:510                              9501   \n",
       "\n",
       "                                                                    # persons age 25+ graduated high school  \\\n",
       "Baltimore city, Maryland: Summary level: 050, state:24> county:510                                    89251   \n",
       "\n",
       "                                                                    # persons Associate's degree  \\\n",
       "Baltimore city, Maryland: Summary level: 050, state:24> county:510                         24219   \n",
       "\n",
       "                                                                    # persons Bachelor's degree  \n",
       "Baltimore city, Maryland: Summary level: 050, state:24> county:510                        78197  "
      ]
     },
     "execution_count": 11,
     "metadata": {},
     "output_type": "execute_result"
    }
   ],
   "source": [
    "# Replace variable codes in the dataframe with text so it's understandable\n",
    "df_2021 = census_2021.rename(columns={\"B01003_001E\": \"Population\",\n",
    "                                      \"B02001_003E\": \"Pop. Black\",\n",
    "                                      \"B02001_002E\": \"Pop. white\",\n",
    "                                      \"B23025_002E\": \"Pop_in_labor_force\",\n",
    "                                      \"B15002_001E\": \"Population_25yrs_and_over\",\n",
    "                                      \"B08301_001E\": \"Workers_16_yrs_and_over\",\n",
    "                                      \"B15003_016E\": \"# persons 12th grade, no diploma\",\n",
    "                                      \"B15003_017E\": \"# persons age 25+ graduated high school\",\n",
    "                                      \"B15003_021E\": \"# persons Associate's degree\",\n",
    "                                      \"B15003_022E\": \"# persons Bachelor's degree\",\n",
    "                                          \n",
    "                                    })\n",
    "df_2021.head()"
   ]
  },
  {
   "cell_type": "code",
   "execution_count": 12,
   "id": "c487082e",
   "metadata": {},
   "outputs": [],
   "source": [
    "df_2021[\"Percent graduated high school\"] = 100 * \\\n",
    "    df_2021[\"# persons age 25+ graduated high school\"].astype(\n",
    "        int) / df_2021[\"Population_25yrs_and_over\"].astype(\n",
    "        int) \n",
    "df_2021[\"Percent graduated high school\"] = df_2021[\"Percent graduated high school\"].astype(float).round(1)"
   ]
  },
  {
   "cell_type": "code",
   "execution_count": 13,
   "id": "b23ebf24",
   "metadata": {},
   "outputs": [],
   "source": [
    "df_2021[\"Percent earned Associate's degree\"] = 100 * \\\n",
    "    df_2021[\"# persons Associate's degree\"].astype(\n",
    "        int) / df_2021[\"Population_25yrs_and_over\"].astype(\n",
    "        int) \n",
    "df_2021[\"Percent earned Associate's degree\"] = df_2021[\"Percent earned Associate's degree\"].astype(float).round(1)\n"
   ]
  },
  {
   "cell_type": "code",
   "execution_count": 14,
   "id": "0a67476b",
   "metadata": {},
   "outputs": [
    {
     "data": {
      "text/html": [
       "<div>\n",
       "<style scoped>\n",
       "    .dataframe tbody tr th:only-of-type {\n",
       "        vertical-align: middle;\n",
       "    }\n",
       "\n",
       "    .dataframe tbody tr th {\n",
       "        vertical-align: top;\n",
       "    }\n",
       "\n",
       "    .dataframe thead th {\n",
       "        text-align: right;\n",
       "    }\n",
       "</style>\n",
       "<table border=\"1\" class=\"dataframe\">\n",
       "  <thead>\n",
       "    <tr style=\"text-align: right;\">\n",
       "      <th></th>\n",
       "      <th>Population</th>\n",
       "      <th>Pop. Black</th>\n",
       "      <th>Pop. white</th>\n",
       "      <th>Pop_in_labor_force</th>\n",
       "      <th>Workers_16_yrs_and_over</th>\n",
       "      <th>Population_25yrs_and_over</th>\n",
       "      <th># persons 12th grade, no diploma</th>\n",
       "      <th># persons age 25+ graduated high school</th>\n",
       "      <th># persons Associate's degree</th>\n",
       "      <th># persons Bachelor's degree</th>\n",
       "      <th>Percent graduated high school</th>\n",
       "      <th>Percent earned Associate's degree</th>\n",
       "      <th>Percent earned Bachelor's degree</th>\n",
       "    </tr>\n",
       "  </thead>\n",
       "  <tbody>\n",
       "    <tr>\n",
       "      <th>Baltimore city, Maryland: Summary level: 050, state:24&gt; county:510</th>\n",
       "      <td>576498</td>\n",
       "      <td>344531</td>\n",
       "      <td>159246</td>\n",
       "      <td>294220</td>\n",
       "      <td>263878</td>\n",
       "      <td>405797</td>\n",
       "      <td>9501</td>\n",
       "      <td>89251</td>\n",
       "      <td>24219</td>\n",
       "      <td>78197</td>\n",
       "      <td>22.0</td>\n",
       "      <td>6.0</td>\n",
       "      <td>19.3</td>\n",
       "    </tr>\n",
       "  </tbody>\n",
       "</table>\n",
       "</div>"
      ],
      "text/plain": [
       "                                                                    Population  \\\n",
       "Baltimore city, Maryland: Summary level: 050, state:24> county:510      576498   \n",
       "\n",
       "                                                                    Pop. Black  \\\n",
       "Baltimore city, Maryland: Summary level: 050, state:24> county:510      344531   \n",
       "\n",
       "                                                                    Pop. white  \\\n",
       "Baltimore city, Maryland: Summary level: 050, state:24> county:510      159246   \n",
       "\n",
       "                                                                    Pop_in_labor_force  \\\n",
       "Baltimore city, Maryland: Summary level: 050, state:24> county:510              294220   \n",
       "\n",
       "                                                                    Workers_16_yrs_and_over  \\\n",
       "Baltimore city, Maryland: Summary level: 050, state:24> county:510                   263878   \n",
       "\n",
       "                                                                    Population_25yrs_and_over  \\\n",
       "Baltimore city, Maryland: Summary level: 050, state:24> county:510                     405797   \n",
       "\n",
       "                                                                    # persons 12th grade, no diploma  \\\n",
       "Baltimore city, Maryland: Summary level: 050, state:24> county:510                              9501   \n",
       "\n",
       "                                                                    # persons age 25+ graduated high school  \\\n",
       "Baltimore city, Maryland: Summary level: 050, state:24> county:510                                    89251   \n",
       "\n",
       "                                                                    # persons Associate's degree  \\\n",
       "Baltimore city, Maryland: Summary level: 050, state:24> county:510                         24219   \n",
       "\n",
       "                                                                    # persons Bachelor's degree  \\\n",
       "Baltimore city, Maryland: Summary level: 050, state:24> county:510                        78197   \n",
       "\n",
       "                                                                    Percent graduated high school  \\\n",
       "Baltimore city, Maryland: Summary level: 050, state:24> county:510                           22.0   \n",
       "\n",
       "                                                                    Percent earned Associate's degree  \\\n",
       "Baltimore city, Maryland: Summary level: 050, state:24> county:510                                6.0   \n",
       "\n",
       "                                                                    Percent earned Bachelor's degree  \n",
       "Baltimore city, Maryland: Summary level: 050, state:24> county:510                              19.3  "
      ]
     },
     "execution_count": 14,
     "metadata": {},
     "output_type": "execute_result"
    }
   ],
   "source": [
    "df_2021[\"Percent earned Bachelor's degree\"] = 100 * \\\n",
    "    df_2021[\"# persons Bachelor's degree\"].astype(\n",
    "        int) / df_2021[\"Population_25yrs_and_over\"].astype(\n",
    "        int) \n",
    "df_2021[\"Percent earned Bachelor's degree\"] = df_2021[\"Percent earned Bachelor's degree\"].astype(float).round(1)\n",
    "df_2021"
   ]
  },
  {
   "cell_type": "code",
   "execution_count": 15,
   "id": "b07ca64c",
   "metadata": {},
   "outputs": [],
   "source": [
    "workforce_2021 = df_2021.copy()"
   ]
  },
  {
   "cell_type": "code",
   "execution_count": 16,
   "id": "72e56e9f",
   "metadata": {},
   "outputs": [],
   "source": [
    "workforce_2021.index = ['Baltimore, 2021']"
   ]
  },
  {
   "cell_type": "code",
   "execution_count": 17,
   "id": "80ab7744",
   "metadata": {},
   "outputs": [],
   "source": [
    "workforce_2021 = workforce_2021.reset_index()"
   ]
  },
  {
   "cell_type": "code",
   "execution_count": 18,
   "id": "0738dfc3",
   "metadata": {},
   "outputs": [
    {
     "data": {
      "text/html": [
       "<div>\n",
       "<style scoped>\n",
       "    .dataframe tbody tr th:only-of-type {\n",
       "        vertical-align: middle;\n",
       "    }\n",
       "\n",
       "    .dataframe tbody tr th {\n",
       "        vertical-align: top;\n",
       "    }\n",
       "\n",
       "    .dataframe thead th {\n",
       "        text-align: right;\n",
       "    }\n",
       "</style>\n",
       "<table border=\"1\" class=\"dataframe\">\n",
       "  <thead>\n",
       "    <tr style=\"text-align: right;\">\n",
       "      <th></th>\n",
       "      <th>Year</th>\n",
       "      <th>Population</th>\n",
       "      <th>Pop. Black</th>\n",
       "      <th>Pop. white</th>\n",
       "      <th>Pop_in_labor_force</th>\n",
       "      <th>Workers_16_yrs_and_over</th>\n",
       "      <th>Population_25yrs_and_over</th>\n",
       "      <th># persons 12th grade, no diploma</th>\n",
       "      <th># persons age 25+ graduated high school</th>\n",
       "      <th># persons Associate's degree</th>\n",
       "      <th># persons Bachelor's degree</th>\n",
       "      <th>Percent graduated high school</th>\n",
       "      <th>Percent earned Associate's degree</th>\n",
       "      <th>Percent earned Bachelor's degree</th>\n",
       "    </tr>\n",
       "  </thead>\n",
       "  <tbody>\n",
       "    <tr>\n",
       "      <th>0</th>\n",
       "      <td>Baltimore, 2021</td>\n",
       "      <td>576498</td>\n",
       "      <td>344531</td>\n",
       "      <td>159246</td>\n",
       "      <td>294220</td>\n",
       "      <td>263878</td>\n",
       "      <td>405797</td>\n",
       "      <td>9501</td>\n",
       "      <td>89251</td>\n",
       "      <td>24219</td>\n",
       "      <td>78197</td>\n",
       "      <td>22.0</td>\n",
       "      <td>6.0</td>\n",
       "      <td>19.3</td>\n",
       "    </tr>\n",
       "  </tbody>\n",
       "</table>\n",
       "</div>"
      ],
      "text/plain": [
       "              Year  Population  Pop. Black  Pop. white  Pop_in_labor_force  \\\n",
       "0  Baltimore, 2021      576498      344531      159246              294220   \n",
       "\n",
       "   Workers_16_yrs_and_over  Population_25yrs_and_over  \\\n",
       "0                   263878                     405797   \n",
       "\n",
       "   # persons 12th grade, no diploma  # persons age 25+ graduated high school  \\\n",
       "0                              9501                                    89251   \n",
       "\n",
       "   # persons Associate's degree  # persons Bachelor's degree  \\\n",
       "0                         24219                        78197   \n",
       "\n",
       "   Percent graduated high school  Percent earned Associate's degree  \\\n",
       "0                           22.0                                6.0   \n",
       "\n",
       "   Percent earned Bachelor's degree  \n",
       "0                              19.3  "
      ]
     },
     "execution_count": 18,
     "metadata": {},
     "output_type": "execute_result"
    }
   ],
   "source": [
    "workforce_2021 = workforce_2021.rename(columns={\"index\":\"Year\"})\n",
    "workforce_2021"
   ]
  },
  {
   "cell_type": "code",
   "execution_count": 19,
   "id": "baa33982",
   "metadata": {},
   "outputs": [],
   "source": [
    "# Export file as a CSV, without the Pandas index, but with the header\n",
    "workforce_2021.to_csv(\"workforce_2021.csv\", index = False, header=True)"
   ]
  },
  {
   "cell_type": "code",
   "execution_count": null,
   "id": "816daccf",
   "metadata": {},
   "outputs": [],
   "source": []
  }
 ],
 "metadata": {
  "kernelspec": {
   "display_name": "Python 3",
   "language": "python",
   "name": "python3"
  },
  "language_info": {
   "codemirror_mode": {
    "name": "ipython",
    "version": 3
   },
   "file_extension": ".py",
   "mimetype": "text/x-python",
   "name": "python",
   "nbconvert_exporter": "python",
   "pygments_lexer": "ipython3",
   "version": "3.7.13"
  }
 },
 "nbformat": 4,
 "nbformat_minor": 5
}
