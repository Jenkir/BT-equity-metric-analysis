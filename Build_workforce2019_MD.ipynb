{
 "cells": [
  {
   "cell_type": "code",
   "execution_count": 1,
   "id": "a5bfa3e0",
   "metadata": {},
   "outputs": [],
   "source": [
    "## Build a stronger workforce:\n",
    "# Maryand\n",
    "# Black vs. white employment, residents with Associate's degree and higher\n",
    "## 2019"
   ]
  },
  {
   "cell_type": "code",
   "execution_count": 2,
   "id": "4b9616b2",
   "metadata": {},
   "outputs": [],
   "source": [
    "# data source: \n"
   ]
  },
  {
   "cell_type": "code",
   "execution_count": 3,
   "id": "73176156",
   "metadata": {},
   "outputs": [],
   "source": [
    "#pip install prettytable"
   ]
  },
  {
   "cell_type": "code",
   "execution_count": 4,
   "id": "e3541104",
   "metadata": {},
   "outputs": [],
   "source": [
    "# Dependencies\n",
    "import numpy as np\n",
    "import pandas as pd\n",
    "import matplotlib.pyplot as plt\n",
    "import requests\n",
    "import json\n",
    "import censusdata\n",
    "%matplotlib inline\n",
    "\n"
   ]
  },
  {
   "cell_type": "code",
   "execution_count": 5,
   "id": "d92ff12b",
   "metadata": {},
   "outputs": [],
   "source": [
    "#import os"
   ]
  },
  {
   "cell_type": "code",
   "execution_count": 6,
   "id": "6de9b788",
   "metadata": {},
   "outputs": [],
   "source": [
    "#os.getcwd()"
   ]
  },
  {
   "cell_type": "code",
   "execution_count": 7,
   "id": "a1d86d9b",
   "metadata": {},
   "outputs": [],
   "source": [
    "pd.set_option('display.max_rows', 200)"
   ]
  },
  {
   "cell_type": "code",
   "execution_count": 8,
   "id": "60779a2c",
   "metadata": {},
   "outputs": [],
   "source": [
    "pd.set_option('max_colwidth', 100)"
   ]
  },
  {
   "cell_type": "code",
   "execution_count": 9,
   "id": "d7ad9d17",
   "metadata": {},
   "outputs": [],
   "source": [
    "# see https://www.bls.gov/opub/reports/race-and-ethnicity/2016/#table-1\n",
    "# Civilian labor force. This group comprises all people classified as employed or unemployed in accordance with the criteria described above.\n",
    "\n",
    "# Unemployment rate. This rate is the number unemployed as a percentage of the civilian labor force.\n",
    "\n",
    "# Labor force participation rate. This rate is the labor force as a percentage of the population.\n",
    "\n",
    "# Employment–population ratio. This ratio is the number of employed as a percentage of the population."
   ]
  },
  {
   "cell_type": "code",
   "execution_count": 10,
   "id": "4eac6508",
   "metadata": {},
   "outputs": [
    {
     "data": {
      "text/html": [
       "<div>\n",
       "<style scoped>\n",
       "    .dataframe tbody tr th:only-of-type {\n",
       "        vertical-align: middle;\n",
       "    }\n",
       "\n",
       "    .dataframe tbody tr th {\n",
       "        vertical-align: top;\n",
       "    }\n",
       "\n",
       "    .dataframe thead th {\n",
       "        text-align: right;\n",
       "    }\n",
       "</style>\n",
       "<table border=\"1\" class=\"dataframe\">\n",
       "  <thead>\n",
       "    <tr style=\"text-align: right;\">\n",
       "      <th></th>\n",
       "      <th>B01003_001E</th>\n",
       "      <th>B02001_003E</th>\n",
       "      <th>B02001_002E</th>\n",
       "      <th>B23025_002E</th>\n",
       "      <th>B08301_001E</th>\n",
       "      <th>B15002_001E</th>\n",
       "      <th>B15003_016E</th>\n",
       "      <th>B15003_017E</th>\n",
       "      <th>B15003_021E</th>\n",
       "      <th>B15003_022E</th>\n",
       "    </tr>\n",
       "  </thead>\n",
       "  <tbody>\n",
       "    <tr>\n",
       "      <th>Maryland: Summary level: 040, state:24</th>\n",
       "      <td>6045680</td>\n",
       "      <td>1830059</td>\n",
       "      <td>3296909</td>\n",
       "      <td>3279799</td>\n",
       "      <td>3074208</td>\n",
       "      <td>4183858</td>\n",
       "      <td>64959</td>\n",
       "      <td>903664</td>\n",
       "      <td>287293</td>\n",
       "      <td>911781</td>\n",
       "    </tr>\n",
       "  </tbody>\n",
       "</table>\n",
       "</div>"
      ],
      "text/plain": [
       "                                        B01003_001E  B02001_003E  B02001_002E  \\\n",
       "Maryland: Summary level: 040, state:24      6045680      1830059      3296909   \n",
       "\n",
       "                                        B23025_002E  B08301_001E  B15002_001E  \\\n",
       "Maryland: Summary level: 040, state:24      3279799      3074208      4183858   \n",
       "\n",
       "                                        B15003_016E  B15003_017E  B15003_021E  \\\n",
       "Maryland: Summary level: 040, state:24        64959       903664       287293   \n",
       "\n",
       "                                        B15003_022E  \n",
       "Maryland: Summary level: 040, state:24       911781  "
      ]
     },
     "execution_count": 10,
     "metadata": {},
     "output_type": "execute_result"
    }
   ],
   "source": [
    "# American Community Survey 1-Year Data DETAILED Tables \n",
    "\n",
    "data = censusdata.download('acs1', 2019,\n",
    "                          censusdata.censusgeo([('state', '24'),\n",
    "                                                ]),\n",
    "                                        [\"B01003_001E\",\n",
    "                                         \"B02001_003E\",\n",
    "                                         \"B02001_002E\",\n",
    "                                         \"B23025_002E\",\n",
    "                                         \"B08301_001E\",\n",
    "                                         \"B15002_001E\",\n",
    "                                         \"B15003_016E\",\n",
    "                                         \"B15003_017E\",\n",
    "                                         \"B15003_021E\",\n",
    "                                         \"B15003_022E\",])\n",
    "# create dataframe                          \n",
    "census_2019 = pd.DataFrame(data)\n",
    "census_2019"
   ]
  },
  {
   "cell_type": "code",
   "execution_count": 11,
   "id": "43db78e3",
   "metadata": {},
   "outputs": [
    {
     "data": {
      "text/html": [
       "<div>\n",
       "<style scoped>\n",
       "    .dataframe tbody tr th:only-of-type {\n",
       "        vertical-align: middle;\n",
       "    }\n",
       "\n",
       "    .dataframe tbody tr th {\n",
       "        vertical-align: top;\n",
       "    }\n",
       "\n",
       "    .dataframe thead th {\n",
       "        text-align: right;\n",
       "    }\n",
       "</style>\n",
       "<table border=\"1\" class=\"dataframe\">\n",
       "  <thead>\n",
       "    <tr style=\"text-align: right;\">\n",
       "      <th></th>\n",
       "      <th>Population</th>\n",
       "      <th>Pop. Black</th>\n",
       "      <th>Pop. white</th>\n",
       "      <th>Pop_in_labor_force</th>\n",
       "      <th>Workers_16_yrs_and_over</th>\n",
       "      <th>Population_25yrs_and_over</th>\n",
       "      <th># persons 12th grade, no diploma</th>\n",
       "      <th># persons age 25+ graduated high school</th>\n",
       "      <th># persons Associate's degree</th>\n",
       "      <th># persons Bachelor's degree</th>\n",
       "    </tr>\n",
       "  </thead>\n",
       "  <tbody>\n",
       "    <tr>\n",
       "      <th>Maryland: Summary level: 040, state:24</th>\n",
       "      <td>6045680</td>\n",
       "      <td>1830059</td>\n",
       "      <td>3296909</td>\n",
       "      <td>3279799</td>\n",
       "      <td>3074208</td>\n",
       "      <td>4183858</td>\n",
       "      <td>64959</td>\n",
       "      <td>903664</td>\n",
       "      <td>287293</td>\n",
       "      <td>911781</td>\n",
       "    </tr>\n",
       "  </tbody>\n",
       "</table>\n",
       "</div>"
      ],
      "text/plain": [
       "                                        Population  Pop. Black  Pop. white  \\\n",
       "Maryland: Summary level: 040, state:24     6045680     1830059     3296909   \n",
       "\n",
       "                                        Pop_in_labor_force  \\\n",
       "Maryland: Summary level: 040, state:24             3279799   \n",
       "\n",
       "                                        Workers_16_yrs_and_over  \\\n",
       "Maryland: Summary level: 040, state:24                  3074208   \n",
       "\n",
       "                                        Population_25yrs_and_over  \\\n",
       "Maryland: Summary level: 040, state:24                    4183858   \n",
       "\n",
       "                                        # persons 12th grade, no diploma  \\\n",
       "Maryland: Summary level: 040, state:24                             64959   \n",
       "\n",
       "                                        # persons age 25+ graduated high school  \\\n",
       "Maryland: Summary level: 040, state:24                                   903664   \n",
       "\n",
       "                                        # persons Associate's degree  \\\n",
       "Maryland: Summary level: 040, state:24                        287293   \n",
       "\n",
       "                                        # persons Bachelor's degree  \n",
       "Maryland: Summary level: 040, state:24                       911781  "
      ]
     },
     "execution_count": 11,
     "metadata": {},
     "output_type": "execute_result"
    }
   ],
   "source": [
    "# Replace variable codes in the dataframe with text so it's understandable\n",
    "df_2019 = census_2019.rename(columns={\"B01003_001E\": \"Population\",\n",
    "                                      \"B02001_003E\": \"Pop. Black\",\n",
    "                                      \"B02001_002E\": \"Pop. white\",\n",
    "                                      \"B23025_002E\": \"Pop_in_labor_force\",\n",
    "                                      \"B15002_001E\": \"Population_25yrs_and_over\",\n",
    "                                      \"B08301_001E\": \"Workers_16_yrs_and_over\",\n",
    "                                      \"B15003_016E\": \"# persons 12th grade, no diploma\",\n",
    "                                      \"B15003_017E\": \"# persons age 25+ graduated high school\",\n",
    "                                      \"B15003_021E\": \"# persons Associate's degree\",\n",
    "                                      \"B15003_022E\": \"# persons Bachelor's degree\",\n",
    "                                          \n",
    "                                    })\n",
    "df_2019.head()"
   ]
  },
  {
   "cell_type": "code",
   "execution_count": 12,
   "id": "18385d56",
   "metadata": {},
   "outputs": [],
   "source": [
    "df_2019[\"Percent graduated high school\"] = 100 * \\\n",
    "    df_2019[\"# persons age 25+ graduated high school\"].astype(\n",
    "        int) / df_2019[\"Population_25yrs_and_over\"].astype(\n",
    "        int) \n",
    "df_2019[\"Percent graduated high school\"] = df_2019[\"Percent graduated high school\"].astype(float).round(1)"
   ]
  },
  {
   "cell_type": "code",
   "execution_count": 13,
   "id": "3cd673d6",
   "metadata": {},
   "outputs": [],
   "source": [
    "df_2019[\"Percent earned Associate's degree\"] = 100 * \\\n",
    "    df_2019[\"# persons Associate's degree\"].astype(\n",
    "        int) / df_2019[\"Population_25yrs_and_over\"].astype(\n",
    "        int) \n",
    "df_2019[\"Percent earned Associate's degree\"] = df_2019[\"Percent earned Associate's degree\"].astype(float).round(1)\n"
   ]
  },
  {
   "cell_type": "code",
   "execution_count": 14,
   "id": "8c44ebbf",
   "metadata": {},
   "outputs": [
    {
     "data": {
      "text/html": [
       "<div>\n",
       "<style scoped>\n",
       "    .dataframe tbody tr th:only-of-type {\n",
       "        vertical-align: middle;\n",
       "    }\n",
       "\n",
       "    .dataframe tbody tr th {\n",
       "        vertical-align: top;\n",
       "    }\n",
       "\n",
       "    .dataframe thead th {\n",
       "        text-align: right;\n",
       "    }\n",
       "</style>\n",
       "<table border=\"1\" class=\"dataframe\">\n",
       "  <thead>\n",
       "    <tr style=\"text-align: right;\">\n",
       "      <th></th>\n",
       "      <th>Population</th>\n",
       "      <th>Pop. Black</th>\n",
       "      <th>Pop. white</th>\n",
       "      <th>Pop_in_labor_force</th>\n",
       "      <th>Workers_16_yrs_and_over</th>\n",
       "      <th>Population_25yrs_and_over</th>\n",
       "      <th># persons 12th grade, no diploma</th>\n",
       "      <th># persons age 25+ graduated high school</th>\n",
       "      <th># persons Associate's degree</th>\n",
       "      <th># persons Bachelor's degree</th>\n",
       "      <th>Percent graduated high school</th>\n",
       "      <th>Percent earned Associate's degree</th>\n",
       "      <th>Percent earned Bachelor's degree</th>\n",
       "    </tr>\n",
       "  </thead>\n",
       "  <tbody>\n",
       "    <tr>\n",
       "      <th>Maryland: Summary level: 040, state:24</th>\n",
       "      <td>6045680</td>\n",
       "      <td>1830059</td>\n",
       "      <td>3296909</td>\n",
       "      <td>3279799</td>\n",
       "      <td>3074208</td>\n",
       "      <td>4183858</td>\n",
       "      <td>64959</td>\n",
       "      <td>903664</td>\n",
       "      <td>287293</td>\n",
       "      <td>911781</td>\n",
       "      <td>21.6</td>\n",
       "      <td>6.9</td>\n",
       "      <td>21.8</td>\n",
       "    </tr>\n",
       "  </tbody>\n",
       "</table>\n",
       "</div>"
      ],
      "text/plain": [
       "                                        Population  Pop. Black  Pop. white  \\\n",
       "Maryland: Summary level: 040, state:24     6045680     1830059     3296909   \n",
       "\n",
       "                                        Pop_in_labor_force  \\\n",
       "Maryland: Summary level: 040, state:24             3279799   \n",
       "\n",
       "                                        Workers_16_yrs_and_over  \\\n",
       "Maryland: Summary level: 040, state:24                  3074208   \n",
       "\n",
       "                                        Population_25yrs_and_over  \\\n",
       "Maryland: Summary level: 040, state:24                    4183858   \n",
       "\n",
       "                                        # persons 12th grade, no diploma  \\\n",
       "Maryland: Summary level: 040, state:24                             64959   \n",
       "\n",
       "                                        # persons age 25+ graduated high school  \\\n",
       "Maryland: Summary level: 040, state:24                                   903664   \n",
       "\n",
       "                                        # persons Associate's degree  \\\n",
       "Maryland: Summary level: 040, state:24                        287293   \n",
       "\n",
       "                                        # persons Bachelor's degree  \\\n",
       "Maryland: Summary level: 040, state:24                       911781   \n",
       "\n",
       "                                        Percent graduated high school  \\\n",
       "Maryland: Summary level: 040, state:24                           21.6   \n",
       "\n",
       "                                        Percent earned Associate's degree  \\\n",
       "Maryland: Summary level: 040, state:24                                6.9   \n",
       "\n",
       "                                        Percent earned Bachelor's degree  \n",
       "Maryland: Summary level: 040, state:24                              21.8  "
      ]
     },
     "execution_count": 14,
     "metadata": {},
     "output_type": "execute_result"
    }
   ],
   "source": [
    "df_2019[\"Percent earned Bachelor's degree\"] = 100 * \\\n",
    "    df_2019[\"# persons Bachelor's degree\"].astype(\n",
    "        int) / df_2019[\"Population_25yrs_and_over\"].astype(\n",
    "        int) \n",
    "df_2019[\"Percent earned Bachelor's degree\"] = df_2019[\"Percent earned Bachelor's degree\"].astype(float).round(1)\n",
    "df_2019"
   ]
  },
  {
   "cell_type": "code",
   "execution_count": 15,
   "id": "e0c867ce",
   "metadata": {},
   "outputs": [],
   "source": [
    "workforce_2019 = df_2019.copy()"
   ]
  },
  {
   "cell_type": "code",
   "execution_count": 16,
   "id": "060a33c8",
   "metadata": {},
   "outputs": [],
   "source": [
    "workforce_2019.index = ['Maryland, 2019']"
   ]
  },
  {
   "cell_type": "code",
   "execution_count": 17,
   "id": "98c76703",
   "metadata": {},
   "outputs": [],
   "source": [
    "workforce_2019 = workforce_2019.reset_index()"
   ]
  },
  {
   "cell_type": "code",
   "execution_count": 18,
   "id": "c65a3248",
   "metadata": {},
   "outputs": [
    {
     "data": {
      "text/html": [
       "<div>\n",
       "<style scoped>\n",
       "    .dataframe tbody tr th:only-of-type {\n",
       "        vertical-align: middle;\n",
       "    }\n",
       "\n",
       "    .dataframe tbody tr th {\n",
       "        vertical-align: top;\n",
       "    }\n",
       "\n",
       "    .dataframe thead th {\n",
       "        text-align: right;\n",
       "    }\n",
       "</style>\n",
       "<table border=\"1\" class=\"dataframe\">\n",
       "  <thead>\n",
       "    <tr style=\"text-align: right;\">\n",
       "      <th></th>\n",
       "      <th>Year</th>\n",
       "      <th>Population</th>\n",
       "      <th>Pop. Black</th>\n",
       "      <th>Pop. white</th>\n",
       "      <th>Pop_in_labor_force</th>\n",
       "      <th>Workers_16_yrs_and_over</th>\n",
       "      <th>Population_25yrs_and_over</th>\n",
       "      <th># persons 12th grade, no diploma</th>\n",
       "      <th># persons age 25+ graduated high school</th>\n",
       "      <th># persons Associate's degree</th>\n",
       "      <th># persons Bachelor's degree</th>\n",
       "      <th>Percent graduated high school</th>\n",
       "      <th>Percent earned Associate's degree</th>\n",
       "      <th>Percent earned Bachelor's degree</th>\n",
       "    </tr>\n",
       "  </thead>\n",
       "  <tbody>\n",
       "    <tr>\n",
       "      <th>0</th>\n",
       "      <td>Maryland, 2019</td>\n",
       "      <td>6045680</td>\n",
       "      <td>1830059</td>\n",
       "      <td>3296909</td>\n",
       "      <td>3279799</td>\n",
       "      <td>3074208</td>\n",
       "      <td>4183858</td>\n",
       "      <td>64959</td>\n",
       "      <td>903664</td>\n",
       "      <td>287293</td>\n",
       "      <td>911781</td>\n",
       "      <td>21.6</td>\n",
       "      <td>6.9</td>\n",
       "      <td>21.8</td>\n",
       "    </tr>\n",
       "  </tbody>\n",
       "</table>\n",
       "</div>"
      ],
      "text/plain": [
       "             Year  Population  Pop. Black  Pop. white  Pop_in_labor_force  \\\n",
       "0  Maryland, 2019     6045680     1830059     3296909             3279799   \n",
       "\n",
       "   Workers_16_yrs_and_over  Population_25yrs_and_over  \\\n",
       "0                  3074208                    4183858   \n",
       "\n",
       "   # persons 12th grade, no diploma  # persons age 25+ graduated high school  \\\n",
       "0                             64959                                   903664   \n",
       "\n",
       "   # persons Associate's degree  # persons Bachelor's degree  \\\n",
       "0                        287293                       911781   \n",
       "\n",
       "   Percent graduated high school  Percent earned Associate's degree  \\\n",
       "0                           21.6                                6.9   \n",
       "\n",
       "   Percent earned Bachelor's degree  \n",
       "0                              21.8  "
      ]
     },
     "execution_count": 18,
     "metadata": {},
     "output_type": "execute_result"
    }
   ],
   "source": [
    "workforce_2019 = workforce_2019.rename(columns={\"index\":\"Year\"})\n",
    "workforce_2019"
   ]
  },
  {
   "cell_type": "code",
   "execution_count": 19,
   "id": "baa33982",
   "metadata": {},
   "outputs": [],
   "source": [
    "# Export file as a CSV, without the Pandas index, but with the header\n",
    "workforce_2019.to_csv(\"MDworkforce_2019.csv\", index = False, header=True)"
   ]
  },
  {
   "cell_type": "code",
   "execution_count": null,
   "id": "816daccf",
   "metadata": {},
   "outputs": [],
   "source": []
  }
 ],
 "metadata": {
  "kernelspec": {
   "display_name": "Python 3",
   "language": "python",
   "name": "python3"
  },
  "language_info": {
   "codemirror_mode": {
    "name": "ipython",
    "version": 3
   },
   "file_extension": ".py",
   "mimetype": "text/x-python",
   "name": "python",
   "nbconvert_exporter": "python",
   "pygments_lexer": "ipython3",
   "version": "3.7.13"
  }
 },
 "nbformat": 4,
 "nbformat_minor": 5
}
