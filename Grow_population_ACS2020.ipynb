{
 "cells": [
  {
   "cell_type": "code",
   "execution_count": 1,
   "id": "4524cb8f",
   "metadata": {},
   "outputs": [],
   "source": [
    "## Grow the City's Population:\n",
    "### Households with children, total households, working age population\n",
    "## 2020"
   ]
  },
  {
   "cell_type": "code",
   "execution_count": 2,
   "id": "4b9616b2",
   "metadata": {},
   "outputs": [],
   "source": [
    "# data source: 2020 Census Data (ACS-1 year) for Selected Variables - Baltimore City\n"
   ]
  },
  {
   "cell_type": "code",
   "execution_count": 3,
   "id": "73176156",
   "metadata": {},
   "outputs": [],
   "source": [
    "#pip install cenpy\n",
    "# From https://cenpy-devs.github.io/cenpy/"
   ]
  },
  {
   "cell_type": "code",
   "execution_count": 4,
   "id": "989f74aa",
   "metadata": {},
   "outputs": [],
   "source": [
    "# From https://www.census.gov/programs-surveys/acs/guidance/comparing-acs-data.html:\n",
    "# \"Due to the impact of the COVID-19 pandemic, the Census Bureau changed the 2020 ACS release. \n",
    "# Instead of providing the standard 1-year data products, the Census Bureau released experimental estimates from the 1-year data. \n",
    "# Data users should not compare 2020 ACS 1-year experimental estimates with any other data.\"\""
   ]
  },
  {
   "cell_type": "code",
   "execution_count": 5,
   "id": "e3541104",
   "metadata": {},
   "outputs": [],
   "source": [
    "# Dependencies\n",
    "import numpy as np\n",
    "import pandas as pd\n",
    "import matplotlib.pyplot as plt\n",
    "import requests\n",
    "\n",
    "from us import states\n",
    "import censusdata "
   ]
  },
  {
   "cell_type": "code",
   "execution_count": 6,
   "id": "d92ff12b",
   "metadata": {},
   "outputs": [],
   "source": [
    "import os"
   ]
  },
  {
   "cell_type": "code",
   "execution_count": 7,
   "id": "6de9b788",
   "metadata": {},
   "outputs": [
    {
     "data": {
      "text/plain": [
       "'C:\\\\Users\\\\Jenkir\\\\Desktop\\\\BDC\\\\Baltimore_Together\\\\measuring-success-metrics\\\\analysis_nbs'"
      ]
     },
     "execution_count": 7,
     "metadata": {},
     "output_type": "execute_result"
    }
   ],
   "source": [
    "os.getcwd()"
   ]
  },
  {
   "cell_type": "code",
   "execution_count": 8,
   "id": "70066bb3",
   "metadata": {},
   "outputs": [],
   "source": [
    "# need to change the working directory; be sure that the config file for the census API is also in this folder\n",
    "os.chdir('C:\\\\Users\\\\Jenkir\\\\Desktop\\\\BDC\\\\Baltimore_Together\\\\measuring-success-metrics\\\\analysis_nbs')\n"
   ]
  },
  {
   "cell_type": "code",
   "execution_count": 9,
   "id": "e5c6eb2e",
   "metadata": {},
   "outputs": [
    {
     "data": {
      "text/plain": [
       "'C:\\\\Users\\\\Jenkir\\\\Desktop\\\\BDC\\\\Baltimore_Together\\\\measuring-success-metrics\\\\analysis_nbs'"
      ]
     },
     "execution_count": 9,
     "metadata": {},
     "output_type": "execute_result"
    }
   ],
   "source": [
    "os.getcwd()"
   ]
  },
  {
   "cell_type": "code",
   "execution_count": 10,
   "id": "a1d86d9b",
   "metadata": {},
   "outputs": [],
   "source": [
    "pd.set_option('display.max_rows', 200)"
   ]
  },
  {
   "cell_type": "code",
   "execution_count": 11,
   "id": "60779a2c",
   "metadata": {},
   "outputs": [],
   "source": [
    "pd.set_option('max_colwidth', 100)"
   ]
  },
  {
   "cell_type": "code",
   "execution_count": 12,
   "id": "f0a0678c",
   "metadata": {},
   "outputs": [
    {
     "ename": "ValueError",
     "evalue": "Unexpected response (URL: https://api.census.gov/data/2020/acs/acs1?get=NAME,B11005_002E,B19001_001E,B01003_001E,B01002_001E,B02001_002E,B02001_003E,B03001_003E&for=county:510&in=state:24): <!doctype html><html lang=\"en\"><head><title>HTTP Status 404 ? Not Found</title><style type=\"text/css\">body {font-family:Tahoma,Arial,sans-serif;} h1, h2, h3, b {color:white;background-color:#525D76;} h1 {font-size:22px;} h2 {font-size:16px;} h3 {font-size:14px;} p {font-size:12px;} a {color:black;} .line {height:1px;background-color:#525D76;border:none;}</style></head><body><h1>HTTP Status 404 ? Not Found</h1></body></html> ",
     "output_type": "error",
     "traceback": [
      "\u001b[1;31m---------------------------------------------------------------------------\u001b[0m",
      "\u001b[1;31mJSONDecodeError\u001b[0m                           Traceback (most recent call last)",
      "\u001b[1;32m~\\anaconda3\\envs\\PythonData\\lib\\site-packages\\requests\\models.py\u001b[0m in \u001b[0;36mjson\u001b[1;34m(self, **kwargs)\u001b[0m\n\u001b[0;32m    970\u001b[0m         \u001b[1;32mtry\u001b[0m\u001b[1;33m:\u001b[0m\u001b[1;33m\u001b[0m\u001b[1;33m\u001b[0m\u001b[0m\n\u001b[1;32m--> 971\u001b[1;33m             \u001b[1;32mreturn\u001b[0m \u001b[0mcomplexjson\u001b[0m\u001b[1;33m.\u001b[0m\u001b[0mloads\u001b[0m\u001b[1;33m(\u001b[0m\u001b[0mself\u001b[0m\u001b[1;33m.\u001b[0m\u001b[0mtext\u001b[0m\u001b[1;33m,\u001b[0m \u001b[1;33m**\u001b[0m\u001b[0mkwargs\u001b[0m\u001b[1;33m)\u001b[0m\u001b[1;33m\u001b[0m\u001b[1;33m\u001b[0m\u001b[0m\n\u001b[0m\u001b[0;32m    972\u001b[0m         \u001b[1;32mexcept\u001b[0m \u001b[0mJSONDecodeError\u001b[0m \u001b[1;32mas\u001b[0m \u001b[0me\u001b[0m\u001b[1;33m:\u001b[0m\u001b[1;33m\u001b[0m\u001b[1;33m\u001b[0m\u001b[0m\n",
      "\u001b[1;32m~\\anaconda3\\envs\\PythonData\\lib\\json\\__init__.py\u001b[0m in \u001b[0;36mloads\u001b[1;34m(s, encoding, cls, object_hook, parse_float, parse_int, parse_constant, object_pairs_hook, **kw)\u001b[0m\n\u001b[0;32m    347\u001b[0m             parse_constant is None and object_pairs_hook is None and not kw):\n\u001b[1;32m--> 348\u001b[1;33m         \u001b[1;32mreturn\u001b[0m \u001b[0m_default_decoder\u001b[0m\u001b[1;33m.\u001b[0m\u001b[0mdecode\u001b[0m\u001b[1;33m(\u001b[0m\u001b[0ms\u001b[0m\u001b[1;33m)\u001b[0m\u001b[1;33m\u001b[0m\u001b[1;33m\u001b[0m\u001b[0m\n\u001b[0m\u001b[0;32m    349\u001b[0m     \u001b[1;32mif\u001b[0m \u001b[0mcls\u001b[0m \u001b[1;32mis\u001b[0m \u001b[1;32mNone\u001b[0m\u001b[1;33m:\u001b[0m\u001b[1;33m\u001b[0m\u001b[1;33m\u001b[0m\u001b[0m\n",
      "\u001b[1;32m~\\anaconda3\\envs\\PythonData\\lib\\json\\decoder.py\u001b[0m in \u001b[0;36mdecode\u001b[1;34m(self, s, _w)\u001b[0m\n\u001b[0;32m    336\u001b[0m         \"\"\"\n\u001b[1;32m--> 337\u001b[1;33m         \u001b[0mobj\u001b[0m\u001b[1;33m,\u001b[0m \u001b[0mend\u001b[0m \u001b[1;33m=\u001b[0m \u001b[0mself\u001b[0m\u001b[1;33m.\u001b[0m\u001b[0mraw_decode\u001b[0m\u001b[1;33m(\u001b[0m\u001b[0ms\u001b[0m\u001b[1;33m,\u001b[0m \u001b[0midx\u001b[0m\u001b[1;33m=\u001b[0m\u001b[0m_w\u001b[0m\u001b[1;33m(\u001b[0m\u001b[0ms\u001b[0m\u001b[1;33m,\u001b[0m \u001b[1;36m0\u001b[0m\u001b[1;33m)\u001b[0m\u001b[1;33m.\u001b[0m\u001b[0mend\u001b[0m\u001b[1;33m(\u001b[0m\u001b[1;33m)\u001b[0m\u001b[1;33m)\u001b[0m\u001b[1;33m\u001b[0m\u001b[1;33m\u001b[0m\u001b[0m\n\u001b[0m\u001b[0;32m    338\u001b[0m         \u001b[0mend\u001b[0m \u001b[1;33m=\u001b[0m \u001b[0m_w\u001b[0m\u001b[1;33m(\u001b[0m\u001b[0ms\u001b[0m\u001b[1;33m,\u001b[0m \u001b[0mend\u001b[0m\u001b[1;33m)\u001b[0m\u001b[1;33m.\u001b[0m\u001b[0mend\u001b[0m\u001b[1;33m(\u001b[0m\u001b[1;33m)\u001b[0m\u001b[1;33m\u001b[0m\u001b[1;33m\u001b[0m\u001b[0m\n",
      "\u001b[1;32m~\\anaconda3\\envs\\PythonData\\lib\\json\\decoder.py\u001b[0m in \u001b[0;36mraw_decode\u001b[1;34m(self, s, idx)\u001b[0m\n\u001b[0;32m    354\u001b[0m         \u001b[1;32mexcept\u001b[0m \u001b[0mStopIteration\u001b[0m \u001b[1;32mas\u001b[0m \u001b[0merr\u001b[0m\u001b[1;33m:\u001b[0m\u001b[1;33m\u001b[0m\u001b[1;33m\u001b[0m\u001b[0m\n\u001b[1;32m--> 355\u001b[1;33m             \u001b[1;32mraise\u001b[0m \u001b[0mJSONDecodeError\u001b[0m\u001b[1;33m(\u001b[0m\u001b[1;34m\"Expecting value\"\u001b[0m\u001b[1;33m,\u001b[0m \u001b[0ms\u001b[0m\u001b[1;33m,\u001b[0m \u001b[0merr\u001b[0m\u001b[1;33m.\u001b[0m\u001b[0mvalue\u001b[0m\u001b[1;33m)\u001b[0m \u001b[1;32mfrom\u001b[0m \u001b[1;32mNone\u001b[0m\u001b[1;33m\u001b[0m\u001b[1;33m\u001b[0m\u001b[0m\n\u001b[0m\u001b[0;32m    356\u001b[0m         \u001b[1;32mreturn\u001b[0m \u001b[0mobj\u001b[0m\u001b[1;33m,\u001b[0m \u001b[0mend\u001b[0m\u001b[1;33m\u001b[0m\u001b[1;33m\u001b[0m\u001b[0m\n",
      "\u001b[1;31mJSONDecodeError\u001b[0m: Expecting value: line 1 column 1 (char 0)",
      "\nDuring handling of the above exception, another exception occurred:\n",
      "\u001b[1;31mJSONDecodeError\u001b[0m                           Traceback (most recent call last)",
      "\u001b[1;32m~\\anaconda3\\envs\\PythonData\\lib\\site-packages\\censusdata\\download.py\u001b[0m in \u001b[0;36m_download\u001b[1;34m(src, year, params, baseurl, endpt)\u001b[0m\n\u001b[0;32m     35\u001b[0m         \u001b[1;32mtry\u001b[0m\u001b[1;33m:\u001b[0m\u001b[1;33m\u001b[0m\u001b[1;33m\u001b[0m\u001b[0m\n\u001b[1;32m---> 36\u001b[1;33m                 \u001b[0mdata\u001b[0m \u001b[1;33m=\u001b[0m \u001b[0mr\u001b[0m\u001b[1;33m.\u001b[0m\u001b[0mjson\u001b[0m\u001b[1;33m(\u001b[0m\u001b[1;33m)\u001b[0m\u001b[1;33m\u001b[0m\u001b[1;33m\u001b[0m\u001b[0m\n\u001b[0m\u001b[0;32m     37\u001b[0m         \u001b[1;32mexcept\u001b[0m\u001b[1;33m:\u001b[0m\u001b[1;33m\u001b[0m\u001b[1;33m\u001b[0m\u001b[0m\n",
      "\u001b[1;32m~\\anaconda3\\envs\\PythonData\\lib\\site-packages\\requests\\models.py\u001b[0m in \u001b[0;36mjson\u001b[1;34m(self, **kwargs)\u001b[0m\n\u001b[0;32m    974\u001b[0m             \u001b[1;31m# This aliases json.JSONDecodeError and simplejson.JSONDecodeError\u001b[0m\u001b[1;33m\u001b[0m\u001b[1;33m\u001b[0m\u001b[1;33m\u001b[0m\u001b[0m\n\u001b[1;32m--> 975\u001b[1;33m             \u001b[1;32mraise\u001b[0m \u001b[0mRequestsJSONDecodeError\u001b[0m\u001b[1;33m(\u001b[0m\u001b[0me\u001b[0m\u001b[1;33m.\u001b[0m\u001b[0mmsg\u001b[0m\u001b[1;33m,\u001b[0m \u001b[0me\u001b[0m\u001b[1;33m.\u001b[0m\u001b[0mdoc\u001b[0m\u001b[1;33m,\u001b[0m \u001b[0me\u001b[0m\u001b[1;33m.\u001b[0m\u001b[0mpos\u001b[0m\u001b[1;33m)\u001b[0m\u001b[1;33m\u001b[0m\u001b[1;33m\u001b[0m\u001b[0m\n\u001b[0m\u001b[0;32m    976\u001b[0m \u001b[1;33m\u001b[0m\u001b[0m\n",
      "\u001b[1;31mJSONDecodeError\u001b[0m: Expecting value: line 1 column 1 (char 0)",
      "\nDuring handling of the above exception, another exception occurred:\n",
      "\u001b[1;31mValueError\u001b[0m                                Traceback (most recent call last)",
      "\u001b[1;32m~\\AppData\\Local\\Temp\\ipykernel_9184\\4173842130.py\u001b[0m in \u001b[0;36m<module>\u001b[1;34m\u001b[0m\n\u001b[0;32m      5\u001b[0m                                          ('county', '510')]),\n\u001b[0;32m      6\u001b[0m                                         [\"B11005_002E\",\"B19001_001E\",\"B01003_001E\", \"B01002_001E\",\n\u001b[1;32m----> 7\u001b[1;33m                                          \"B02001_002E\", \"B02001_003E\",\"B03001_003E\"])\n\u001b[0m\u001b[0;32m      8\u001b[0m \u001b[1;33m\u001b[0m\u001b[0m\n\u001b[0;32m      9\u001b[0m \u001b[0mcensus_2020\u001b[0m \u001b[1;33m=\u001b[0m \u001b[0mpd\u001b[0m\u001b[1;33m.\u001b[0m\u001b[0mDataFrame\u001b[0m\u001b[1;33m(\u001b[0m\u001b[0mdata\u001b[0m\u001b[1;33m)\u001b[0m\u001b[1;33m\u001b[0m\u001b[1;33m\u001b[0m\u001b[0m\n",
      "\u001b[1;32m~\\anaconda3\\envs\\PythonData\\lib\\site-packages\\censusdata\\download.py\u001b[0m in \u001b[0;36mdownload\u001b[1;34m(src, year, geo, var, key, tabletype, endpt)\u001b[0m\n\u001b[0;32m    114\u001b[0m                 \u001b[0mparams\u001b[0m\u001b[1;33m.\u001b[0m\u001b[0mupdate\u001b[0m\u001b[1;33m(\u001b[0m\u001b[0mgeorequest\u001b[0m\u001b[1;33m)\u001b[0m\u001b[1;33m\u001b[0m\u001b[1;33m\u001b[0m\u001b[0m\n\u001b[0;32m    115\u001b[0m                 \u001b[1;32mif\u001b[0m \u001b[0mkey\u001b[0m \u001b[1;32mis\u001b[0m \u001b[1;32mnot\u001b[0m \u001b[1;32mNone\u001b[0m\u001b[1;33m:\u001b[0m \u001b[0mparams\u001b[0m\u001b[1;33m.\u001b[0m\u001b[0mupdate\u001b[0m\u001b[1;33m(\u001b[0m\u001b[1;33m{\u001b[0m\u001b[1;34m'key'\u001b[0m\u001b[1;33m:\u001b[0m \u001b[0mkey\u001b[0m\u001b[1;33m}\u001b[0m\u001b[1;33m)\u001b[0m\u001b[1;33m\u001b[0m\u001b[1;33m\u001b[0m\u001b[0m\n\u001b[1;32m--> 116\u001b[1;33m                 \u001b[0mdata\u001b[0m\u001b[1;33m.\u001b[0m\u001b[0mupdate\u001b[0m\u001b[1;33m(\u001b[0m\u001b[0m_download\u001b[0m\u001b[1;33m(\u001b[0m\u001b[0msrc\u001b[0m \u001b[1;33m+\u001b[0m \u001b[0mtabletype\u001b[0m\u001b[1;33m,\u001b[0m \u001b[0myear\u001b[0m\u001b[1;33m,\u001b[0m \u001b[0mparams\u001b[0m\u001b[1;33m,\u001b[0m \u001b[0mendpt\u001b[0m\u001b[1;33m=\u001b[0m\u001b[0mendpt\u001b[0m\u001b[1;33m)\u001b[0m\u001b[1;33m)\u001b[0m\u001b[1;33m\u001b[0m\u001b[1;33m\u001b[0m\u001b[0m\n\u001b[0m\u001b[0;32m    117\u001b[0m         \u001b[0mgeodata\u001b[0m \u001b[1;33m=\u001b[0m \u001b[0mdata\u001b[0m\u001b[1;33m.\u001b[0m\u001b[0mcopy\u001b[0m\u001b[1;33m(\u001b[0m\u001b[1;33m)\u001b[0m\u001b[1;33m\u001b[0m\u001b[1;33m\u001b[0m\u001b[0m\n\u001b[0;32m    118\u001b[0m         \u001b[1;32mfor\u001b[0m \u001b[0mkey\u001b[0m \u001b[1;32min\u001b[0m \u001b[0mlist\u001b[0m\u001b[1;33m(\u001b[0m\u001b[0mgeodata\u001b[0m\u001b[1;33m.\u001b[0m\u001b[0mkeys\u001b[0m\u001b[1;33m(\u001b[0m\u001b[1;33m)\u001b[0m\u001b[1;33m)\u001b[0m\u001b[1;33m:\u001b[0m\u001b[1;33m\u001b[0m\u001b[1;33m\u001b[0m\u001b[0m\n",
      "\u001b[1;32m~\\anaconda3\\envs\\PythonData\\lib\\site-packages\\censusdata\\download.py\u001b[0m in \u001b[0;36m_download\u001b[1;34m(src, year, params, baseurl, endpt)\u001b[0m\n\u001b[0;32m     36\u001b[0m                 \u001b[0mdata\u001b[0m \u001b[1;33m=\u001b[0m \u001b[0mr\u001b[0m\u001b[1;33m.\u001b[0m\u001b[0mjson\u001b[0m\u001b[1;33m(\u001b[0m\u001b[1;33m)\u001b[0m\u001b[1;33m\u001b[0m\u001b[1;33m\u001b[0m\u001b[0m\n\u001b[0;32m     37\u001b[0m         \u001b[1;32mexcept\u001b[0m\u001b[1;33m:\u001b[0m\u001b[1;33m\u001b[0m\u001b[1;33m\u001b[0m\u001b[0m\n\u001b[1;32m---> 38\u001b[1;33m                 \u001b[1;32mraise\u001b[0m \u001b[0mValueError\u001b[0m\u001b[1;33m(\u001b[0m\u001b[1;34m'Unexpected response (URL: {0.url}): {0.text} '\u001b[0m\u001b[1;33m.\u001b[0m\u001b[0mformat\u001b[0m\u001b[1;33m(\u001b[0m\u001b[0mr\u001b[0m\u001b[1;33m)\u001b[0m\u001b[1;33m)\u001b[0m\u001b[1;33m\u001b[0m\u001b[1;33m\u001b[0m\u001b[0m\n\u001b[0m\u001b[0;32m     39\u001b[0m         \u001b[0mrdata\u001b[0m \u001b[1;33m=\u001b[0m \u001b[0mOrderedDict\u001b[0m\u001b[1;33m(\u001b[0m\u001b[1;33m)\u001b[0m\u001b[1;33m\u001b[0m\u001b[1;33m\u001b[0m\u001b[0m\n\u001b[0;32m     40\u001b[0m         \u001b[1;32mfor\u001b[0m \u001b[0mj\u001b[0m \u001b[1;32min\u001b[0m \u001b[0mrange\u001b[0m\u001b[1;33m(\u001b[0m\u001b[0mlen\u001b[0m\u001b[1;33m(\u001b[0m\u001b[0mdata\u001b[0m\u001b[1;33m[\u001b[0m\u001b[1;36m0\u001b[0m\u001b[1;33m]\u001b[0m\u001b[1;33m)\u001b[0m\u001b[1;33m)\u001b[0m\u001b[1;33m:\u001b[0m\u001b[1;33m\u001b[0m\u001b[1;33m\u001b[0m\u001b[0m\n",
      "\u001b[1;31mValueError\u001b[0m: Unexpected response (URL: https://api.census.gov/data/2020/acs/acs1?get=NAME,B11005_002E,B19001_001E,B01003_001E,B01002_001E,B02001_002E,B02001_003E,B03001_003E&for=county:510&in=state:24): <!doctype html><html lang=\"en\"><head><title>HTTP Status 404 ? Not Found</title><style type=\"text/css\">body {font-family:Tahoma,Arial,sans-serif;} h1, h2, h3, b {color:white;background-color:#525D76;} h1 {font-size:22px;} h2 {font-size:16px;} h3 {font-size:14px;} p {font-size:12px;} a {color:black;} .line {height:1px;background-color:#525D76;border:none;}</style></head><body><h1>HTTP Status 404 ? Not Found</h1></body></html> "
     ]
    }
   ],
   "source": [
    "# American Community Survey 1-Year Data \n",
    "\n",
    "data = censusdata.download('acs1', 2020,\n",
    "                          censusdata.censusgeo([('state', '24'),\n",
    "                                         ('county', '510')]),\n",
    "                                        [\"B11005_002E\",\"B19001_001E\",\"B01003_001E\", \"B01002_001E\",\n",
    "                                         \"B02001_002E\", \"B02001_003E\",\"B03001_003E\"])\n",
    "                          \n",
    "census_2020 = pd.DataFrame(data)\n",
    "census_2020"
   ]
  },
  {
   "cell_type": "code",
   "execution_count": null,
   "id": "ef2e052b",
   "metadata": {},
   "outputs": [],
   "source": [
    "# Pull age values from the ACS 1 yr. census codes/ variables listed and save them in the variable \"age_data\"\n",
    "age_data = censusdata.download('acs1', 2019,\n",
    "                          censusdata.censusgeo([('state', '24'),\n",
    "                                         ('county', '510')]),\n",
    "                                         [\"B01001_003E\",                                    \n",
    "                                          \"B01001_004E\",\n",
    "                                          \"B01001_005E\",\n",
    "                                          \"B01001_006E\",\n",
    "                                          \"B01001_007E\",\n",
    "                                          \"B01001_008E\",\n",
    "                                          \"B01001_009E\",\n",
    "                                          \"B01001_010E\",\n",
    "                                          \"B01001_011E\",\n",
    "                                          \"B01001_012E\",\n",
    "                                          \"B01001_013E\",\n",
    "                                          \"B01001_014E\",\n",
    "                                          \"B01001_015E\",\n",
    "                                          \"B01001_016E\",            \n",
    "                                          \"B01001_017E\",\n",
    "                                          \"B01001_018E\",\n",
    "                                          \"B01001_019E\",\n",
    "                                          \"B01001_020E\",\n",
    "                                          \"B01001_021E\",\n",
    "                                          \"B01001_022E\",\n",
    "                                          \"B01001_023E\",\n",
    "                                          \"B01001_024E\",\n",
    "                                          \"B01001_025E\",\n",
    "                                          \"B01001_027E\",\n",
    "                                          \"B01001_028E\",\n",
    "                                          \"B01001_029E\",\n",
    "                                          \"B01001_030E\",\n",
    "                                          \"B01001_031E\",\n",
    "                                          \"B01001_032E\",\n",
    "                                          \"B01001_033E\",\n",
    "                                          \"B01001_034E\",\n",
    "                                          \"B01001_035E\",\n",
    "                                          \"B01001_036E\",\n",
    "                                          \"B01001_037E\",\n",
    "                                          \"B01001_038E\",\n",
    "                                          \"B01001_039E\",            \n",
    "                                          \"B01001_040E\",\n",
    "                                          \"B01001_041E\",\n",
    "                                          \"B01001_042E\",\n",
    "                                          \"B01001_043E\",\n",
    "                                          \"B01001_044E\",\n",
    "                                          \"B01001_045E\",\n",
    "                                          \"B01001_046E\",\n",
    "                                          \"B01001_047E\",\n",
    "                                          \"B01001_048E\",\n",
    "                                          \"B01001_049E\"])\n",
    "age_2019 = pd.DataFrame(age_data)\n",
    "age_2019.head()      "
   ]
  },
  {
   "cell_type": "code",
   "execution_count": null,
   "id": "57ae4858",
   "metadata": {},
   "outputs": [],
   "source": [
    "# Sum columns of age groups that are under 18 years old for male and female and add new column \"Pop. <18 years\"\n",
    "columns_under18 = [\"B01001_003E\",                                    \n",
    "                   \"B01001_004E\",\n",
    "                   \"B01001_005E\",\n",
    "                   \"B01001_006E\",\n",
    "                   \"B01001_027E\",\n",
    "                   \"B01001_028E\",\n",
    "                   \"B01001_029E\",\n",
    "                   \"B01001_030E\"]\n",
    "age_2019['Pop. <18 years']= age_2019[columns_under18].sum(axis=1)\n",
    "age_2019.head()"
   ]
  },
  {
   "cell_type": "code",
   "execution_count": null,
   "id": "7cd7d7ca",
   "metadata": {},
   "outputs": [],
   "source": [
    "# Sum columns of age groups that are 18-64 years old (working age) for male and female and add new column \"Pop. working age\"\n",
    "columns_working_age_2019 = [                                    \n",
    "                   \"B01001_007E\",\n",
    "                   \"B01001_008E\",\n",
    "                   \"B01001_009E\",\n",
    "                   \"B01001_010E\",\n",
    "                   \"B01001_011E\",\n",
    "                   \"B01001_012E\",   \n",
    "                   \"B01001_013E\",\n",
    "                   \"B01001_014E\",    \n",
    "                   \"B01001_015E\",    \n",
    "                   \"B01001_016E\",   \n",
    "                   \"B01001_017E\", \n",
    "                   \"B01001_018E\",    \n",
    "                   \"B01001_019E\",    \n",
    "                   \"B01001_031E\",\n",
    "                   \"B01001_032E\",\n",
    "                   \"B01001_033E\",\n",
    "                   \"B01001_034E\",\n",
    "                   \"B01001_035E\",   \n",
    "                   \"B01001_036E\",\n",
    "                   \"B01001_037E\",    \n",
    "                   \"B01001_038E\",    \n",
    "                   \"B01001_039E\",   \n",
    "                   \"B01001_040E\", \n",
    "                   \"B01001_041E\",    \n",
    "                   \"B01001_042E\",    \n",
    "                   \"B01001_043E\"]    \n",
    "                           \n",
    "age_2019['Pop. working age']= age_2019[columns_working_age_2019].sum(axis=1)\n",
    "age_2019.head()                \n"
   ]
  },
  {
   "cell_type": "code",
   "execution_count": null,
   "id": "1c38248d",
   "metadata": {},
   "outputs": [],
   "source": [
    "# Sum columns of age groups that are 65+ years old for male and female and add new column \"Pop. 65+ years\"\n",
    "columns_senior_2019 = [\"B01001_020E\",\n",
    "                  \"B01001_021E\",\n",
    "                  \"B01001_022E\",\n",
    "                  \"B01001_023E\",                                    \n",
    "                  \"B01001_024E\",\n",
    "                  \"B01001_025E\",\n",
    "                  \"B01001_044E\",\n",
    "                  \"B01001_045E\",\n",
    "                  \"B01001_046E\",\n",
    "                  \"B01001_047E\",                                    \n",
    "                  \"B01001_048E\",\n",
    "                  \"B01001_049E\"]               \n",
    "                          \n",
    "age_2019['Pop. 65+ years']= age_2019[columns_senior_2019].sum(axis=1)\n",
    "age_2019.head()                           "
   ]
  },
  {
   "cell_type": "code",
   "execution_count": null,
   "id": "ec95f3f2",
   "metadata": {},
   "outputs": [],
   "source": [
    "age_final_2019 = age_2019[[\"Pop. <18 years\", \"Pop. working age\", \"Pop. 65+ years\"]]\n",
    "age_final_2019.head()"
   ]
  },
  {
   "cell_type": "code",
   "execution_count": null,
   "id": "cfdb402b",
   "metadata": {},
   "outputs": [],
   "source": [
    "age_final = age_final_2019.copy()\n",
    "age_final"
   ]
  },
  {
   "cell_type": "code",
   "execution_count": null,
   "id": "a9ccc750",
   "metadata": {},
   "outputs": [],
   "source": [
    "age_final.index = ['Baltimore City']\n",
    "age_final"
   ]
  },
  {
   "cell_type": "code",
   "execution_count": null,
   "id": "84a69012",
   "metadata": {},
   "outputs": [],
   "source": [
    "age_final = age_final.reset_index()\n",
    "age_final"
   ]
  },
  {
   "cell_type": "code",
   "execution_count": null,
   "id": "f2a3e44d",
   "metadata": {},
   "outputs": [],
   "source": [
    "age_final = age_final.rename(columns={\"index\": \"Name\"})                                           \n",
    "age_final "
   ]
  },
  {
   "cell_type": "code",
   "execution_count": null,
   "id": "d4673390",
   "metadata": {},
   "outputs": [],
   "source": [
    "age_final.dtypes"
   ]
  },
  {
   "cell_type": "code",
   "execution_count": null,
   "id": "43db78e3",
   "metadata": {},
   "outputs": [],
   "source": [
    "# Replace the census variable codes (such as \"B19013_001E\") in the dataframe with text so it's understandable\n",
    "census_2019 = census_2019.rename(columns={\"B11005_002E\": \"Households with one or more people under 18 years\",\n",
    "                                      \"B19001_001E\": \"Total households\",\n",
    "                                      \"B01003_001E\": \"Population\",\n",
    "                                      \"B01002_001E\": \"Median age\",\n",
    "                                      \"B02001_003E\": \"Pop. Black\",\n",
    "                                      \"B02001_002E\": \"Pop. white\",\n",
    "                                      \"B03001_003E\": \"Pop. Hispanic origin\"\n",
    "                                         })\n",
    "census_2019.head()"
   ]
  },
  {
   "cell_type": "code",
   "execution_count": null,
   "id": "be971c7d",
   "metadata": {},
   "outputs": [],
   "source": [
    "census = census_2019.copy()\n",
    "census"
   ]
  },
  {
   "cell_type": "code",
   "execution_count": null,
   "id": "73b2ac2d",
   "metadata": {},
   "outputs": [],
   "source": [
    "census.index = ['Baltimore City']\n",
    "census"
   ]
  },
  {
   "cell_type": "code",
   "execution_count": null,
   "id": "d8ba4e1a",
   "metadata": {},
   "outputs": [],
   "source": [
    "census = census.reset_index()\n",
    "census"
   ]
  },
  {
   "cell_type": "code",
   "execution_count": null,
   "id": "3b61c7a2",
   "metadata": {},
   "outputs": [],
   "source": [
    "census = census.rename(columns={\"index\": \"Name\"})                                           \n",
    "census "
   ]
  },
  {
   "cell_type": "code",
   "execution_count": null,
   "id": "a1c7499f",
   "metadata": {},
   "outputs": [],
   "source": [
    "# combine the census_2019 dataframe with the age_final_2019 dataframe \n",
    "population_2019 = pd.merge(\n",
    "    census, age_final, on=\"Name\", how=\"outer\")\n",
    "population_2019"
   ]
  },
  {
   "cell_type": "code",
   "execution_count": null,
   "id": "45a81103",
   "metadata": {},
   "outputs": [],
   "source": [
    "population_2019[\"Percent working age\"] = 100 * \\\n",
    "    population_2019[\"Pop. working age\"].astype(\n",
    "        int) / population_2019[\"Population\"].astype(\n",
    "        int) \n",
    "\n",
    "population_2019[\"Percent working age\"] = population_2019[\"Percent working age\"].astype(int)"
   ]
  },
  {
   "cell_type": "code",
   "execution_count": null,
   "id": "8afd6faf",
   "metadata": {},
   "outputs": [],
   "source": [
    "population_2019[\"Percent households with children\"] = 100 * \\\n",
    "    population_2019[\"Households with one or more people under 18 years\"].astype(\n",
    "        int) / population_2019[\"Total households\"].astype(\n",
    "        int) \n",
    "\n",
    "population_2019[\"Percent households with children\"] = population_2019[\"Percent households with children\"].astype(int)\n",
    "population_2019"
   ]
  },
  {
   "cell_type": "code",
   "execution_count": null,
   "id": "baa33982",
   "metadata": {},
   "outputs": [],
   "source": [
    "# Export file as a CSV, without the Pandas index, but with the header\n",
    "#population_2019.to_csv(\"ACS_population_2019.csv\", index = False, header=True)"
   ]
  }
 ],
 "metadata": {
  "kernelspec": {
   "display_name": "Python 3",
   "language": "python",
   "name": "python3"
  },
  "language_info": {
   "codemirror_mode": {
    "name": "ipython",
    "version": 3
   },
   "file_extension": ".py",
   "mimetype": "text/x-python",
   "name": "python",
   "nbconvert_exporter": "python",
   "pygments_lexer": "ipython3",
   "version": "3.7.13"
  }
 },
 "nbformat": 4,
 "nbformat_minor": 5
}
