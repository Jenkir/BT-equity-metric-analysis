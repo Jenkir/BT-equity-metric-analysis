{
 "cells": [
  {
   "cell_type": "code",
   "execution_count": 1,
   "id": "2ebaaf9b",
   "metadata": {},
   "outputs": [],
   "source": [
    "#  *** THIS DATA (FROM API) HAS BEEN CHECKED AGAINST DATA.CENSUS.GOV TABLES***"
   ]
  },
  {
   "cell_type": "code",
   "execution_count": 2,
   "id": "a5bfa3e0",
   "metadata": {},
   "outputs": [],
   "source": [
    "## Build an equitable economy: INCOME\n",
    "### Baltimore City median income, Black median income, Black-white income gap\n",
    "## 2018"
   ]
  },
  {
   "cell_type": "code",
   "execution_count": 3,
   "id": "4b9616b2",
   "metadata": {},
   "outputs": [],
   "source": [
    "# data source: 2018 Census Data (ACS-1 year) for Selected Variables - Baltimore City\n"
   ]
  },
  {
   "cell_type": "code",
   "execution_count": 4,
   "id": "73176156",
   "metadata": {},
   "outputs": [],
   "source": [
    "#pip install censusdata\n"
   ]
  },
  {
   "cell_type": "code",
   "execution_count": 5,
   "id": "e3541104",
   "metadata": {},
   "outputs": [],
   "source": [
    "# Dependencies\n",
    "\n",
    "import pandas as pd\n",
    "import matplotlib.pyplot as plt\n",
    "import requests\n",
    "import censusdata "
   ]
  },
  {
   "cell_type": "code",
   "execution_count": 6,
   "id": "d92ff12b",
   "metadata": {},
   "outputs": [],
   "source": [
    "import os"
   ]
  },
  {
   "cell_type": "code",
   "execution_count": 7,
   "id": "6de9b788",
   "metadata": {},
   "outputs": [
    {
     "data": {
      "text/plain": [
       "'C:\\\\Users\\\\Jenkir\\\\Desktop\\\\BDC\\\\Baltimore_Together\\\\measuring-success-metrics\\\\BT-equity-metric-analysis'"
      ]
     },
     "execution_count": 7,
     "metadata": {},
     "output_type": "execute_result"
    }
   ],
   "source": [
    "os.getcwd()"
   ]
  },
  {
   "cell_type": "code",
   "execution_count": 8,
   "id": "70066bb3",
   "metadata": {},
   "outputs": [],
   "source": [
    "# need to change the working directory; be sure that the config file for the census API is also in this folder\n",
    "#os.chdir('C:\\\\Users\\\\Jenkir\\\\Desktop\\\\BDC\\\\Baltimore_Together\\\\measuring-success-metrics\\\\analysis_nbs')\n"
   ]
  },
  {
   "cell_type": "code",
   "execution_count": 9,
   "id": "e5c6eb2e",
   "metadata": {},
   "outputs": [],
   "source": [
    "#os.getcwd()"
   ]
  },
  {
   "cell_type": "code",
   "execution_count": 10,
   "id": "a1d86d9b",
   "metadata": {},
   "outputs": [],
   "source": [
    "pd.set_option('display.max_rows', 200)"
   ]
  },
  {
   "cell_type": "code",
   "execution_count": 11,
   "id": "60779a2c",
   "metadata": {},
   "outputs": [],
   "source": [
    "pd.set_option('max_colwidth', 100)"
   ]
  },
  {
   "cell_type": "code",
   "execution_count": 12,
   "id": "e5138716",
   "metadata": {},
   "outputs": [
    {
     "data": {
      "text/html": [
       "<div>\n",
       "<style scoped>\n",
       "    .dataframe tbody tr th:only-of-type {\n",
       "        vertical-align: middle;\n",
       "    }\n",
       "\n",
       "    .dataframe tbody tr th {\n",
       "        vertical-align: top;\n",
       "    }\n",
       "\n",
       "    .dataframe thead th {\n",
       "        text-align: right;\n",
       "    }\n",
       "</style>\n",
       "<table border=\"1\" class=\"dataframe\">\n",
       "  <thead>\n",
       "    <tr style=\"text-align: right;\">\n",
       "      <th></th>\n",
       "      <th>B19001_001E</th>\n",
       "      <th>B01003_001E</th>\n",
       "      <th>B19013_001E</th>\n",
       "      <th>B02001_002E</th>\n",
       "      <th>B02001_003E</th>\n",
       "      <th>B19013A_001E</th>\n",
       "      <th>B19013B_001E</th>\n",
       "    </tr>\n",
       "  </thead>\n",
       "  <tbody>\n",
       "    <tr>\n",
       "      <th>Baltimore city, Maryland: Summary level: 050, state:24&gt; county:510</th>\n",
       "      <td>237204</td>\n",
       "      <td>602495</td>\n",
       "      <td>51000</td>\n",
       "      <td>183276</td>\n",
       "      <td>371664</td>\n",
       "      <td>75778</td>\n",
       "      <td>40770</td>\n",
       "    </tr>\n",
       "  </tbody>\n",
       "</table>\n",
       "</div>"
      ],
      "text/plain": [
       "                                                                    B19001_001E  \\\n",
       "Baltimore city, Maryland: Summary level: 050, state:24> county:510       237204   \n",
       "\n",
       "                                                                    B01003_001E  \\\n",
       "Baltimore city, Maryland: Summary level: 050, state:24> county:510       602495   \n",
       "\n",
       "                                                                    B19013_001E  \\\n",
       "Baltimore city, Maryland: Summary level: 050, state:24> county:510        51000   \n",
       "\n",
       "                                                                    B02001_002E  \\\n",
       "Baltimore city, Maryland: Summary level: 050, state:24> county:510       183276   \n",
       "\n",
       "                                                                    B02001_003E  \\\n",
       "Baltimore city, Maryland: Summary level: 050, state:24> county:510       371664   \n",
       "\n",
       "                                                                    B19013A_001E  \\\n",
       "Baltimore city, Maryland: Summary level: 050, state:24> county:510         75778   \n",
       "\n",
       "                                                                    B19013B_001E  \n",
       "Baltimore city, Maryland: Summary level: 050, state:24> county:510         40770  "
      ]
     },
     "execution_count": 12,
     "metadata": {},
     "output_type": "execute_result"
    }
   ],
   "source": [
    "# American Community Survey 1-Year Data \n",
    "\n",
    "data = censusdata.download('acs1', 2018,\n",
    "                          censusdata.censusgeo([('state', '24'),\n",
    "                                         ('county', '510')]),\n",
    "                                        [\"B19001_001E\",\"B01003_001E\",\n",
    "                                         \"B19013_001E\",\n",
    "                                         \"B02001_002E\", \"B02001_003E\",\n",
    "                                         \"B19013A_001E\", \"B19013B_001E\"])\n",
    "                          \n",
    "census_2018 = pd.DataFrame(data)\n",
    "census_2018"
   ]
  },
  {
   "cell_type": "code",
   "execution_count": 13,
   "id": "43db78e3",
   "metadata": {},
   "outputs": [
    {
     "data": {
      "text/html": [
       "<div>\n",
       "<style scoped>\n",
       "    .dataframe tbody tr th:only-of-type {\n",
       "        vertical-align: middle;\n",
       "    }\n",
       "\n",
       "    .dataframe tbody tr th {\n",
       "        vertical-align: top;\n",
       "    }\n",
       "\n",
       "    .dataframe thead th {\n",
       "        text-align: right;\n",
       "    }\n",
       "</style>\n",
       "<table border=\"1\" class=\"dataframe\">\n",
       "  <thead>\n",
       "    <tr style=\"text-align: right;\">\n",
       "      <th></th>\n",
       "      <th>Total households</th>\n",
       "      <th>Population</th>\n",
       "      <th>Median household income</th>\n",
       "      <th>Pop. white</th>\n",
       "      <th>Pop. Black</th>\n",
       "      <th>Median HH income White Alone Householder</th>\n",
       "      <th>Median HH income Black or African American Alone Householder</th>\n",
       "    </tr>\n",
       "  </thead>\n",
       "  <tbody>\n",
       "    <tr>\n",
       "      <th>Baltimore city, Maryland: Summary level: 050, state:24&gt; county:510</th>\n",
       "      <td>237204</td>\n",
       "      <td>602495</td>\n",
       "      <td>51000</td>\n",
       "      <td>183276</td>\n",
       "      <td>371664</td>\n",
       "      <td>75778</td>\n",
       "      <td>40770</td>\n",
       "    </tr>\n",
       "  </tbody>\n",
       "</table>\n",
       "</div>"
      ],
      "text/plain": [
       "                                                                    Total households  \\\n",
       "Baltimore city, Maryland: Summary level: 050, state:24> county:510            237204   \n",
       "\n",
       "                                                                    Population  \\\n",
       "Baltimore city, Maryland: Summary level: 050, state:24> county:510      602495   \n",
       "\n",
       "                                                                    Median household income  \\\n",
       "Baltimore city, Maryland: Summary level: 050, state:24> county:510                    51000   \n",
       "\n",
       "                                                                    Pop. white  \\\n",
       "Baltimore city, Maryland: Summary level: 050, state:24> county:510      183276   \n",
       "\n",
       "                                                                    Pop. Black  \\\n",
       "Baltimore city, Maryland: Summary level: 050, state:24> county:510      371664   \n",
       "\n",
       "                                                                    Median HH income White Alone Householder  \\\n",
       "Baltimore city, Maryland: Summary level: 050, state:24> county:510                                     75778   \n",
       "\n",
       "                                                                    Median HH income Black or African American Alone Householder  \n",
       "Baltimore city, Maryland: Summary level: 050, state:24> county:510                                                         40770  "
      ]
     },
     "execution_count": 13,
     "metadata": {},
     "output_type": "execute_result"
    }
   ],
   "source": [
    "# Replace the census variable codes (such as \"B19013_001E\") in the dataframe with text so it's understandable\n",
    "census_2018 = census_2018.rename(columns={\"B19001_001E\": \"Total households\",\n",
    "                                      \"B01003_001E\": \"Population\",\n",
    "                                      \"B19013_001E\": \"Median household income\",\n",
    "                                      \"B02001_003E\": \"Pop. Black\",\n",
    "                                      \"B02001_002E\": \"Pop. white\",\n",
    "                                      \"B19013A_001E\": \"Median HH income White Alone Householder\",\n",
    "                                      \"B19013B_001E\": \"Median HH income Black or African American Alone Householder\",  \n",
    "                                      })\n",
    "census_2018.head()"
   ]
  },
  {
   "cell_type": "code",
   "execution_count": 14,
   "id": "2013a9aa",
   "metadata": {},
   "outputs": [
    {
     "data": {
      "text/html": [
       "<div>\n",
       "<style scoped>\n",
       "    .dataframe tbody tr th:only-of-type {\n",
       "        vertical-align: middle;\n",
       "    }\n",
       "\n",
       "    .dataframe tbody tr th {\n",
       "        vertical-align: top;\n",
       "    }\n",
       "\n",
       "    .dataframe thead th {\n",
       "        text-align: right;\n",
       "    }\n",
       "</style>\n",
       "<table border=\"1\" class=\"dataframe\">\n",
       "  <thead>\n",
       "    <tr style=\"text-align: right;\">\n",
       "      <th></th>\n",
       "      <th>Total households</th>\n",
       "      <th>Population</th>\n",
       "      <th>Median household income</th>\n",
       "      <th>Pop. white</th>\n",
       "      <th>Pop. Black</th>\n",
       "      <th>Median HH income White Alone Householder</th>\n",
       "      <th>Median HH income Black or African American Alone Householder</th>\n",
       "    </tr>\n",
       "  </thead>\n",
       "  <tbody>\n",
       "    <tr>\n",
       "      <th>Baltimore city, Maryland: Summary level: 050, state:24&gt; county:510</th>\n",
       "      <td>237204</td>\n",
       "      <td>602495</td>\n",
       "      <td>51000</td>\n",
       "      <td>183276</td>\n",
       "      <td>371664</td>\n",
       "      <td>75778</td>\n",
       "      <td>40770</td>\n",
       "    </tr>\n",
       "  </tbody>\n",
       "</table>\n",
       "</div>"
      ],
      "text/plain": [
       "                                                                    Total households  \\\n",
       "Baltimore city, Maryland: Summary level: 050, state:24> county:510            237204   \n",
       "\n",
       "                                                                    Population  \\\n",
       "Baltimore city, Maryland: Summary level: 050, state:24> county:510      602495   \n",
       "\n",
       "                                                                    Median household income  \\\n",
       "Baltimore city, Maryland: Summary level: 050, state:24> county:510                    51000   \n",
       "\n",
       "                                                                    Pop. white  \\\n",
       "Baltimore city, Maryland: Summary level: 050, state:24> county:510      183276   \n",
       "\n",
       "                                                                    Pop. Black  \\\n",
       "Baltimore city, Maryland: Summary level: 050, state:24> county:510      371664   \n",
       "\n",
       "                                                                    Median HH income White Alone Householder  \\\n",
       "Baltimore city, Maryland: Summary level: 050, state:24> county:510                                     75778   \n",
       "\n",
       "                                                                    Median HH income Black or African American Alone Householder  \n",
       "Baltimore city, Maryland: Summary level: 050, state:24> county:510                                                         40770  "
      ]
     },
     "execution_count": 14,
     "metadata": {},
     "output_type": "execute_result"
    }
   ],
   "source": [
    "census = census_2018.copy()\n",
    "census"
   ]
  },
  {
   "cell_type": "code",
   "execution_count": 15,
   "id": "456246b6",
   "metadata": {},
   "outputs": [
    {
     "data": {
      "text/html": [
       "<div>\n",
       "<style scoped>\n",
       "    .dataframe tbody tr th:only-of-type {\n",
       "        vertical-align: middle;\n",
       "    }\n",
       "\n",
       "    .dataframe tbody tr th {\n",
       "        vertical-align: top;\n",
       "    }\n",
       "\n",
       "    .dataframe thead th {\n",
       "        text-align: right;\n",
       "    }\n",
       "</style>\n",
       "<table border=\"1\" class=\"dataframe\">\n",
       "  <thead>\n",
       "    <tr style=\"text-align: right;\">\n",
       "      <th></th>\n",
       "      <th>Total households</th>\n",
       "      <th>Population</th>\n",
       "      <th>Median household income</th>\n",
       "      <th>Pop. white</th>\n",
       "      <th>Pop. Black</th>\n",
       "      <th>Median HH income White Alone Householder</th>\n",
       "      <th>Median HH income Black or African American Alone Householder</th>\n",
       "    </tr>\n",
       "  </thead>\n",
       "  <tbody>\n",
       "    <tr>\n",
       "      <th>Baltimore, 2018</th>\n",
       "      <td>237204</td>\n",
       "      <td>602495</td>\n",
       "      <td>51000</td>\n",
       "      <td>183276</td>\n",
       "      <td>371664</td>\n",
       "      <td>75778</td>\n",
       "      <td>40770</td>\n",
       "    </tr>\n",
       "  </tbody>\n",
       "</table>\n",
       "</div>"
      ],
      "text/plain": [
       "                 Total households  Population  Median household income  \\\n",
       "Baltimore, 2018            237204      602495                    51000   \n",
       "\n",
       "                 Pop. white  Pop. Black  \\\n",
       "Baltimore, 2018      183276      371664   \n",
       "\n",
       "                 Median HH income White Alone Householder  \\\n",
       "Baltimore, 2018                                     75778   \n",
       "\n",
       "                 Median HH income Black or African American Alone Householder  \n",
       "Baltimore, 2018                                                         40770  "
      ]
     },
     "execution_count": 15,
     "metadata": {},
     "output_type": "execute_result"
    }
   ],
   "source": [
    "census.index = ['Baltimore, 2018']\n",
    "census"
   ]
  },
  {
   "cell_type": "code",
   "execution_count": 16,
   "id": "808a7748",
   "metadata": {},
   "outputs": [
    {
     "data": {
      "text/html": [
       "<div>\n",
       "<style scoped>\n",
       "    .dataframe tbody tr th:only-of-type {\n",
       "        vertical-align: middle;\n",
       "    }\n",
       "\n",
       "    .dataframe tbody tr th {\n",
       "        vertical-align: top;\n",
       "    }\n",
       "\n",
       "    .dataframe thead th {\n",
       "        text-align: right;\n",
       "    }\n",
       "</style>\n",
       "<table border=\"1\" class=\"dataframe\">\n",
       "  <thead>\n",
       "    <tr style=\"text-align: right;\">\n",
       "      <th></th>\n",
       "      <th>index</th>\n",
       "      <th>Total households</th>\n",
       "      <th>Population</th>\n",
       "      <th>Median household income</th>\n",
       "      <th>Pop. white</th>\n",
       "      <th>Pop. Black</th>\n",
       "      <th>Median HH income White Alone Householder</th>\n",
       "      <th>Median HH income Black or African American Alone Householder</th>\n",
       "    </tr>\n",
       "  </thead>\n",
       "  <tbody>\n",
       "    <tr>\n",
       "      <th>0</th>\n",
       "      <td>Baltimore, 2018</td>\n",
       "      <td>237204</td>\n",
       "      <td>602495</td>\n",
       "      <td>51000</td>\n",
       "      <td>183276</td>\n",
       "      <td>371664</td>\n",
       "      <td>75778</td>\n",
       "      <td>40770</td>\n",
       "    </tr>\n",
       "  </tbody>\n",
       "</table>\n",
       "</div>"
      ],
      "text/plain": [
       "             index  Total households  Population  Median household income  \\\n",
       "0  Baltimore, 2018            237204      602495                    51000   \n",
       "\n",
       "   Pop. white  Pop. Black  Median HH income White Alone Householder  \\\n",
       "0      183276      371664                                     75778   \n",
       "\n",
       "   Median HH income Black or African American Alone Householder  \n",
       "0                                                         40770  "
      ]
     },
     "execution_count": 16,
     "metadata": {},
     "output_type": "execute_result"
    }
   ],
   "source": [
    "census = census.reset_index()\n",
    "census"
   ]
  },
  {
   "cell_type": "code",
   "execution_count": 17,
   "id": "9fadf387",
   "metadata": {},
   "outputs": [
    {
     "data": {
      "text/html": [
       "<div>\n",
       "<style scoped>\n",
       "    .dataframe tbody tr th:only-of-type {\n",
       "        vertical-align: middle;\n",
       "    }\n",
       "\n",
       "    .dataframe tbody tr th {\n",
       "        vertical-align: top;\n",
       "    }\n",
       "\n",
       "    .dataframe thead th {\n",
       "        text-align: right;\n",
       "    }\n",
       "</style>\n",
       "<table border=\"1\" class=\"dataframe\">\n",
       "  <thead>\n",
       "    <tr style=\"text-align: right;\">\n",
       "      <th></th>\n",
       "      <th>Year</th>\n",
       "      <th>Total households</th>\n",
       "      <th>Population</th>\n",
       "      <th>Median household income</th>\n",
       "      <th>Pop. white</th>\n",
       "      <th>Pop. Black</th>\n",
       "      <th>Median HH income White Alone Householder</th>\n",
       "      <th>Median HH income Black or African American Alone Householder</th>\n",
       "    </tr>\n",
       "  </thead>\n",
       "  <tbody>\n",
       "    <tr>\n",
       "      <th>0</th>\n",
       "      <td>Baltimore, 2018</td>\n",
       "      <td>237204</td>\n",
       "      <td>602495</td>\n",
       "      <td>51000</td>\n",
       "      <td>183276</td>\n",
       "      <td>371664</td>\n",
       "      <td>75778</td>\n",
       "      <td>40770</td>\n",
       "    </tr>\n",
       "  </tbody>\n",
       "</table>\n",
       "</div>"
      ],
      "text/plain": [
       "              Year  Total households  Population  Median household income  \\\n",
       "0  Baltimore, 2018            237204      602495                    51000   \n",
       "\n",
       "   Pop. white  Pop. Black  Median HH income White Alone Householder  \\\n",
       "0      183276      371664                                     75778   \n",
       "\n",
       "   Median HH income Black or African American Alone Householder  \n",
       "0                                                         40770  "
      ]
     },
     "execution_count": 17,
     "metadata": {},
     "output_type": "execute_result"
    }
   ],
   "source": [
    "census = census.rename(columns={\"index\": \"Year\"})                                           \n",
    "census "
   ]
  },
  {
   "cell_type": "code",
   "execution_count": 18,
   "id": "b0ed1d1c",
   "metadata": {},
   "outputs": [
    {
     "data": {
      "text/html": [
       "<div>\n",
       "<style scoped>\n",
       "    .dataframe tbody tr th:only-of-type {\n",
       "        vertical-align: middle;\n",
       "    }\n",
       "\n",
       "    .dataframe tbody tr th {\n",
       "        vertical-align: top;\n",
       "    }\n",
       "\n",
       "    .dataframe thead th {\n",
       "        text-align: right;\n",
       "    }\n",
       "</style>\n",
       "<table border=\"1\" class=\"dataframe\">\n",
       "  <thead>\n",
       "    <tr style=\"text-align: right;\">\n",
       "      <th></th>\n",
       "      <th>Year</th>\n",
       "      <th>Total households</th>\n",
       "      <th>Population</th>\n",
       "      <th>Median household income</th>\n",
       "      <th>Pop. white</th>\n",
       "      <th>Pop. Black</th>\n",
       "      <th>Median HH income White Alone Householder</th>\n",
       "      <th>Median HH income Black or African American Alone Householder</th>\n",
       "    </tr>\n",
       "  </thead>\n",
       "  <tbody>\n",
       "    <tr>\n",
       "      <th>0</th>\n",
       "      <td>Baltimore, 2018</td>\n",
       "      <td>237204</td>\n",
       "      <td>602495</td>\n",
       "      <td>51000</td>\n",
       "      <td>183276</td>\n",
       "      <td>371664</td>\n",
       "      <td>75778</td>\n",
       "      <td>40770</td>\n",
       "    </tr>\n",
       "  </tbody>\n",
       "</table>\n",
       "</div>"
      ],
      "text/plain": [
       "              Year  Total households  Population  Median household income  \\\n",
       "0  Baltimore, 2018            237204      602495                    51000   \n",
       "\n",
       "   Pop. white  Pop. Black  Median HH income White Alone Householder  \\\n",
       "0      183276      371664                                     75778   \n",
       "\n",
       "   Median HH income Black or African American Alone Householder  \n",
       "0                                                         40770  "
      ]
     },
     "execution_count": 18,
     "metadata": {},
     "output_type": "execute_result"
    }
   ],
   "source": [
    "income_2018 = census.copy()\n",
    "income_2018"
   ]
  },
  {
   "cell_type": "code",
   "execution_count": 19,
   "id": "90f98963",
   "metadata": {},
   "outputs": [
    {
     "data": {
      "text/html": [
       "<div>\n",
       "<style scoped>\n",
       "    .dataframe tbody tr th:only-of-type {\n",
       "        vertical-align: middle;\n",
       "    }\n",
       "\n",
       "    .dataframe tbody tr th {\n",
       "        vertical-align: top;\n",
       "    }\n",
       "\n",
       "    .dataframe thead th {\n",
       "        text-align: right;\n",
       "    }\n",
       "</style>\n",
       "<table border=\"1\" class=\"dataframe\">\n",
       "  <thead>\n",
       "    <tr style=\"text-align: right;\">\n",
       "      <th></th>\n",
       "      <th>Year</th>\n",
       "      <th>Total households</th>\n",
       "      <th>Population</th>\n",
       "      <th>Median household income</th>\n",
       "      <th>Pop. white</th>\n",
       "      <th>Pop. Black</th>\n",
       "      <th>Median HH income White Alone Householder</th>\n",
       "      <th>Median HH income Black or African American Alone Householder</th>\n",
       "      <th>Location</th>\n",
       "    </tr>\n",
       "  </thead>\n",
       "  <tbody>\n",
       "    <tr>\n",
       "      <th>0</th>\n",
       "      <td>2018</td>\n",
       "      <td>237204</td>\n",
       "      <td>602495</td>\n",
       "      <td>51000</td>\n",
       "      <td>183276</td>\n",
       "      <td>371664</td>\n",
       "      <td>75778</td>\n",
       "      <td>40770</td>\n",
       "      <td>Baltimore</td>\n",
       "    </tr>\n",
       "  </tbody>\n",
       "</table>\n",
       "</div>"
      ],
      "text/plain": [
       "    Year  Total households  Population  Median household income  Pop. white  \\\n",
       "0   2018            237204      602495                    51000      183276   \n",
       "\n",
       "   Pop. Black  Median HH income White Alone Householder  \\\n",
       "0      371664                                     75778   \n",
       "\n",
       "   Median HH income Black or African American Alone Householder   Location  \n",
       "0                                                         40770  Baltimore  "
      ]
     },
     "execution_count": 19,
     "metadata": {},
     "output_type": "execute_result"
    }
   ],
   "source": [
    "income_2018[[\"Location\", \"Year\"]] = income_2018.Year.str.split(\",\", expand=True)\n",
    "income_2018"
   ]
  },
  {
   "cell_type": "code",
   "execution_count": 20,
   "id": "baa33982",
   "metadata": {},
   "outputs": [],
   "source": [
    "# Export file as a CSV, without the Pandas index, but with the header\n",
    "#income_2018.to_csv(\"balt_income_2018.csv\", index = False, header=True)"
   ]
  },
  {
   "cell_type": "code",
   "execution_count": null,
   "id": "816daccf",
   "metadata": {},
   "outputs": [],
   "source": []
  },
  {
   "cell_type": "code",
   "execution_count": null,
   "id": "74c0a23f",
   "metadata": {},
   "outputs": [],
   "source": []
  },
  {
   "cell_type": "code",
   "execution_count": null,
   "id": "d27b0715",
   "metadata": {},
   "outputs": [],
   "source": []
  },
  {
   "cell_type": "code",
   "execution_count": 21,
   "id": "7f0bc709",
   "metadata": {},
   "outputs": [
    {
     "data": {
      "text/html": [
       "<div>\n",
       "<style scoped>\n",
       "    .dataframe tbody tr th:only-of-type {\n",
       "        vertical-align: middle;\n",
       "    }\n",
       "\n",
       "    .dataframe tbody tr th {\n",
       "        vertical-align: top;\n",
       "    }\n",
       "\n",
       "    .dataframe thead th {\n",
       "        text-align: right;\n",
       "    }\n",
       "</style>\n",
       "<table border=\"1\" class=\"dataframe\">\n",
       "  <thead>\n",
       "    <tr style=\"text-align: right;\">\n",
       "      <th></th>\n",
       "      <th>B17001_001E</th>\n",
       "      <th>B17001_002E</th>\n",
       "      <th>B23025_001E</th>\n",
       "      <th>B23025_002E</th>\n",
       "      <th>B23025_004E</th>\n",
       "      <th>B23025_005E</th>\n",
       "    </tr>\n",
       "  </thead>\n",
       "  <tbody>\n",
       "    <tr>\n",
       "      <th>Baltimore city, Maryland: Summary level: 050, state:24&gt; county:510</th>\n",
       "      <td>580628</td>\n",
       "      <td>107073</td>\n",
       "      <td>491977</td>\n",
       "      <td>307604</td>\n",
       "      <td>286050</td>\n",
       "      <td>20745</td>\n",
       "    </tr>\n",
       "  </tbody>\n",
       "</table>\n",
       "</div>"
      ],
      "text/plain": [
       "                                                                    B17001_001E  \\\n",
       "Baltimore city, Maryland: Summary level: 050, state:24> county:510       580628   \n",
       "\n",
       "                                                                    B17001_002E  \\\n",
       "Baltimore city, Maryland: Summary level: 050, state:24> county:510       107073   \n",
       "\n",
       "                                                                    B23025_001E  \\\n",
       "Baltimore city, Maryland: Summary level: 050, state:24> county:510       491977   \n",
       "\n",
       "                                                                    B23025_002E  \\\n",
       "Baltimore city, Maryland: Summary level: 050, state:24> county:510       307604   \n",
       "\n",
       "                                                                    B23025_004E  \\\n",
       "Baltimore city, Maryland: Summary level: 050, state:24> county:510       286050   \n",
       "\n",
       "                                                                    B23025_005E  \n",
       "Baltimore city, Maryland: Summary level: 050, state:24> county:510        20745  "
      ]
     },
     "execution_count": 21,
     "metadata": {},
     "output_type": "execute_result"
    }
   ],
   "source": [
    "# American Community Survey 1-Year Data \n",
    "data_rates = censusdata.download('acs1', 2018,\n",
    "                          censusdata.censusgeo([('state', '24'),\n",
    "                                         ('county', '510')]),\n",
    "                                        [\"B17001_001E\",\"B17001_002E\",\"B23025_001E\",\"B23025_002E\",\n",
    "                                         \"B23025_004E\",\"B23025_005E\"\n",
    "                                        ])\n",
    "rates_2018 = pd.DataFrame(data_rates)\n",
    "rates_2018"
   ]
  },
  {
   "cell_type": "code",
   "execution_count": 22,
   "id": "d1294f17",
   "metadata": {},
   "outputs": [
    {
     "data": {
      "text/html": [
       "<div>\n",
       "<style scoped>\n",
       "    .dataframe tbody tr th:only-of-type {\n",
       "        vertical-align: middle;\n",
       "    }\n",
       "\n",
       "    .dataframe tbody tr th {\n",
       "        vertical-align: top;\n",
       "    }\n",
       "\n",
       "    .dataframe thead th {\n",
       "        text-align: right;\n",
       "    }\n",
       "</style>\n",
       "<table border=\"1\" class=\"dataframe\">\n",
       "  <thead>\n",
       "    <tr style=\"text-align: right;\">\n",
       "      <th></th>\n",
       "      <th>Persons for whom poverty status determined</th>\n",
       "      <th>Individuals- income below poverty level</th>\n",
       "      <th>Population 16 years and over</th>\n",
       "      <th>In labor force</th>\n",
       "      <th>Employed civilians</th>\n",
       "      <th>Unemployed civilians</th>\n",
       "    </tr>\n",
       "  </thead>\n",
       "  <tbody>\n",
       "    <tr>\n",
       "      <th>Baltimore city, Maryland: Summary level: 050, state:24&gt; county:510</th>\n",
       "      <td>580628</td>\n",
       "      <td>107073</td>\n",
       "      <td>491977</td>\n",
       "      <td>307604</td>\n",
       "      <td>286050</td>\n",
       "      <td>20745</td>\n",
       "    </tr>\n",
       "  </tbody>\n",
       "</table>\n",
       "</div>"
      ],
      "text/plain": [
       "                                                                    Persons for whom poverty status determined  \\\n",
       "Baltimore city, Maryland: Summary level: 050, state:24> county:510                                      580628   \n",
       "\n",
       "                                                                    Individuals- income below poverty level  \\\n",
       "Baltimore city, Maryland: Summary level: 050, state:24> county:510                                   107073   \n",
       "\n",
       "                                                                    Population 16 years and over  \\\n",
       "Baltimore city, Maryland: Summary level: 050, state:24> county:510                        491977   \n",
       "\n",
       "                                                                    In labor force  \\\n",
       "Baltimore city, Maryland: Summary level: 050, state:24> county:510          307604   \n",
       "\n",
       "                                                                    Employed civilians  \\\n",
       "Baltimore city, Maryland: Summary level: 050, state:24> county:510              286050   \n",
       "\n",
       "                                                                    Unemployed civilians  \n",
       "Baltimore city, Maryland: Summary level: 050, state:24> county:510                 20745  "
      ]
     },
     "execution_count": 22,
     "metadata": {},
     "output_type": "execute_result"
    }
   ],
   "source": [
    "rates_2018 = rates_2018.rename(columns={\n",
    "                                      \"B17001_001E\": \"Persons for whom poverty status determined\",    \n",
    "                                      \"B17001_002E\": \"Individuals- income below poverty level\",# universe: persons for whom poverty status is determined\n",
    "                                      \"B23025_001E\":  \"Population 16 years and over\",\n",
    "                                      \"B23025_002E\": \"In labor force\", # universe: Population 16 years and over\n",
    "                                      \"B23025_004E\": \"Employed civilians\", # universe: Population 16 years and over\n",
    "                                      \"B23025_005E\": \"Unemployed civilians\", # universe: Population 16 years and over\n",
    "                                      })\n",
    "rates_2018.head()"
   ]
  },
  {
   "cell_type": "code",
   "execution_count": 23,
   "id": "a2b47ebf",
   "metadata": {},
   "outputs": [],
   "source": [
    "rates2018 = rates_2018.copy()"
   ]
  },
  {
   "cell_type": "code",
   "execution_count": 24,
   "id": "f183cad7",
   "metadata": {},
   "outputs": [
    {
     "data": {
      "text/html": [
       "<div>\n",
       "<style scoped>\n",
       "    .dataframe tbody tr th:only-of-type {\n",
       "        vertical-align: middle;\n",
       "    }\n",
       "\n",
       "    .dataframe tbody tr th {\n",
       "        vertical-align: top;\n",
       "    }\n",
       "\n",
       "    .dataframe thead th {\n",
       "        text-align: right;\n",
       "    }\n",
       "</style>\n",
       "<table border=\"1\" class=\"dataframe\">\n",
       "  <thead>\n",
       "    <tr style=\"text-align: right;\">\n",
       "      <th></th>\n",
       "      <th>Persons for whom poverty status determined</th>\n",
       "      <th>Individuals- income below poverty level</th>\n",
       "      <th>Population 16 years and over</th>\n",
       "      <th>In labor force</th>\n",
       "      <th>Employed civilians</th>\n",
       "      <th>Unemployed civilians</th>\n",
       "    </tr>\n",
       "  </thead>\n",
       "  <tbody>\n",
       "    <tr>\n",
       "      <th>Baltimore, 2018</th>\n",
       "      <td>580628</td>\n",
       "      <td>107073</td>\n",
       "      <td>491977</td>\n",
       "      <td>307604</td>\n",
       "      <td>286050</td>\n",
       "      <td>20745</td>\n",
       "    </tr>\n",
       "  </tbody>\n",
       "</table>\n",
       "</div>"
      ],
      "text/plain": [
       "                 Persons for whom poverty status determined  \\\n",
       "Baltimore, 2018                                      580628   \n",
       "\n",
       "                 Individuals- income below poverty level  \\\n",
       "Baltimore, 2018                                   107073   \n",
       "\n",
       "                 Population 16 years and over  In labor force  \\\n",
       "Baltimore, 2018                        491977          307604   \n",
       "\n",
       "                 Employed civilians  Unemployed civilians  \n",
       "Baltimore, 2018              286050                 20745  "
      ]
     },
     "execution_count": 24,
     "metadata": {},
     "output_type": "execute_result"
    }
   ],
   "source": [
    "rates2018.index = ['Baltimore, 2018']\n",
    "rates2018"
   ]
  },
  {
   "cell_type": "code",
   "execution_count": 25,
   "id": "8fdf7f9c",
   "metadata": {},
   "outputs": [
    {
     "data": {
      "text/html": [
       "<div>\n",
       "<style scoped>\n",
       "    .dataframe tbody tr th:only-of-type {\n",
       "        vertical-align: middle;\n",
       "    }\n",
       "\n",
       "    .dataframe tbody tr th {\n",
       "        vertical-align: top;\n",
       "    }\n",
       "\n",
       "    .dataframe thead th {\n",
       "        text-align: right;\n",
       "    }\n",
       "</style>\n",
       "<table border=\"1\" class=\"dataframe\">\n",
       "  <thead>\n",
       "    <tr style=\"text-align: right;\">\n",
       "      <th></th>\n",
       "      <th>index</th>\n",
       "      <th>Persons for whom poverty status determined</th>\n",
       "      <th>Individuals- income below poverty level</th>\n",
       "      <th>Population 16 years and over</th>\n",
       "      <th>In labor force</th>\n",
       "      <th>Employed civilians</th>\n",
       "      <th>Unemployed civilians</th>\n",
       "    </tr>\n",
       "  </thead>\n",
       "  <tbody>\n",
       "    <tr>\n",
       "      <th>0</th>\n",
       "      <td>Baltimore, 2018</td>\n",
       "      <td>580628</td>\n",
       "      <td>107073</td>\n",
       "      <td>491977</td>\n",
       "      <td>307604</td>\n",
       "      <td>286050</td>\n",
       "      <td>20745</td>\n",
       "    </tr>\n",
       "  </tbody>\n",
       "</table>\n",
       "</div>"
      ],
      "text/plain": [
       "             index  Persons for whom poverty status determined  \\\n",
       "0  Baltimore, 2018                                      580628   \n",
       "\n",
       "   Individuals- income below poverty level  Population 16 years and over  \\\n",
       "0                                   107073                        491977   \n",
       "\n",
       "   In labor force  Employed civilians  Unemployed civilians  \n",
       "0          307604              286050                 20745  "
      ]
     },
     "execution_count": 25,
     "metadata": {},
     "output_type": "execute_result"
    }
   ],
   "source": [
    "rates2018 = rates2018.reset_index()\n",
    "rates2018"
   ]
  },
  {
   "cell_type": "code",
   "execution_count": 26,
   "id": "9f7a0abd",
   "metadata": {},
   "outputs": [
    {
     "data": {
      "text/html": [
       "<div>\n",
       "<style scoped>\n",
       "    .dataframe tbody tr th:only-of-type {\n",
       "        vertical-align: middle;\n",
       "    }\n",
       "\n",
       "    .dataframe tbody tr th {\n",
       "        vertical-align: top;\n",
       "    }\n",
       "\n",
       "    .dataframe thead th {\n",
       "        text-align: right;\n",
       "    }\n",
       "</style>\n",
       "<table border=\"1\" class=\"dataframe\">\n",
       "  <thead>\n",
       "    <tr style=\"text-align: right;\">\n",
       "      <th></th>\n",
       "      <th>Year</th>\n",
       "      <th>Persons for whom poverty status determined</th>\n",
       "      <th>Individuals- income below poverty level</th>\n",
       "      <th>Population 16 years and over</th>\n",
       "      <th>In labor force</th>\n",
       "      <th>Employed civilians</th>\n",
       "      <th>Unemployed civilians</th>\n",
       "    </tr>\n",
       "  </thead>\n",
       "  <tbody>\n",
       "    <tr>\n",
       "      <th>0</th>\n",
       "      <td>Baltimore, 2018</td>\n",
       "      <td>580628</td>\n",
       "      <td>107073</td>\n",
       "      <td>491977</td>\n",
       "      <td>307604</td>\n",
       "      <td>286050</td>\n",
       "      <td>20745</td>\n",
       "    </tr>\n",
       "  </tbody>\n",
       "</table>\n",
       "</div>"
      ],
      "text/plain": [
       "              Year  Persons for whom poverty status determined  \\\n",
       "0  Baltimore, 2018                                      580628   \n",
       "\n",
       "   Individuals- income below poverty level  Population 16 years and over  \\\n",
       "0                                   107073                        491977   \n",
       "\n",
       "   In labor force  Employed civilians  Unemployed civilians  \n",
       "0          307604              286050                 20745  "
      ]
     },
     "execution_count": 26,
     "metadata": {},
     "output_type": "execute_result"
    }
   ],
   "source": [
    "rates2018 = rates2018.rename(columns={\"index\": \"Year\"})                                           \n",
    "rates2018 "
   ]
  },
  {
   "cell_type": "code",
   "execution_count": 27,
   "id": "f82d30c2",
   "metadata": {},
   "outputs": [
    {
     "data": {
      "text/html": [
       "<div>\n",
       "<style scoped>\n",
       "    .dataframe tbody tr th:only-of-type {\n",
       "        vertical-align: middle;\n",
       "    }\n",
       "\n",
       "    .dataframe tbody tr th {\n",
       "        vertical-align: top;\n",
       "    }\n",
       "\n",
       "    .dataframe thead th {\n",
       "        text-align: right;\n",
       "    }\n",
       "</style>\n",
       "<table border=\"1\" class=\"dataframe\">\n",
       "  <thead>\n",
       "    <tr style=\"text-align: right;\">\n",
       "      <th></th>\n",
       "      <th>Year</th>\n",
       "      <th>Persons for whom poverty status determined</th>\n",
       "      <th>Individuals- income below poverty level</th>\n",
       "      <th>Population 16 years and over</th>\n",
       "      <th>In labor force</th>\n",
       "      <th>Employed civilians</th>\n",
       "      <th>Unemployed civilians</th>\n",
       "      <th>Location</th>\n",
       "    </tr>\n",
       "  </thead>\n",
       "  <tbody>\n",
       "    <tr>\n",
       "      <th>0</th>\n",
       "      <td>2018</td>\n",
       "      <td>580628</td>\n",
       "      <td>107073</td>\n",
       "      <td>491977</td>\n",
       "      <td>307604</td>\n",
       "      <td>286050</td>\n",
       "      <td>20745</td>\n",
       "      <td>Baltimore</td>\n",
       "    </tr>\n",
       "  </tbody>\n",
       "</table>\n",
       "</div>"
      ],
      "text/plain": [
       "    Year  Persons for whom poverty status determined  \\\n",
       "0   2018                                      580628   \n",
       "\n",
       "   Individuals- income below poverty level  Population 16 years and over  \\\n",
       "0                                   107073                        491977   \n",
       "\n",
       "   In labor force  Employed civilians  Unemployed civilians   Location  \n",
       "0          307604              286050                 20745  Baltimore  "
      ]
     },
     "execution_count": 27,
     "metadata": {},
     "output_type": "execute_result"
    }
   ],
   "source": [
    "rates2018 [[\"Location\", \"Year\"]] = rates2018 .Year.str.split(\",\", expand=True)\n",
    "rates2018 "
   ]
  },
  {
   "cell_type": "code",
   "execution_count": 28,
   "id": "caed295b",
   "metadata": {},
   "outputs": [
    {
     "data": {
      "text/html": [
       "<div>\n",
       "<style scoped>\n",
       "    .dataframe tbody tr th:only-of-type {\n",
       "        vertical-align: middle;\n",
       "    }\n",
       "\n",
       "    .dataframe tbody tr th {\n",
       "        vertical-align: top;\n",
       "    }\n",
       "\n",
       "    .dataframe thead th {\n",
       "        text-align: right;\n",
       "    }\n",
       "</style>\n",
       "<table border=\"1\" class=\"dataframe\">\n",
       "  <thead>\n",
       "    <tr style=\"text-align: right;\">\n",
       "      <th></th>\n",
       "      <th>Year</th>\n",
       "      <th>Persons for whom poverty status determined</th>\n",
       "      <th>Individuals- income below poverty level</th>\n",
       "      <th>Population 16 years and over</th>\n",
       "      <th>In labor force</th>\n",
       "      <th>Employed civilians</th>\n",
       "      <th>Unemployed civilians</th>\n",
       "      <th>Location</th>\n",
       "      <th>Poverty rate</th>\n",
       "      <th>Unemployment rate</th>\n",
       "    </tr>\n",
       "  </thead>\n",
       "  <tbody>\n",
       "    <tr>\n",
       "      <th>0</th>\n",
       "      <td>2018</td>\n",
       "      <td>580628</td>\n",
       "      <td>107073</td>\n",
       "      <td>491977</td>\n",
       "      <td>307604</td>\n",
       "      <td>286050</td>\n",
       "      <td>20745</td>\n",
       "      <td>Baltimore</td>\n",
       "      <td>18.0</td>\n",
       "      <td>4.0</td>\n",
       "    </tr>\n",
       "  </tbody>\n",
       "</table>\n",
       "</div>"
      ],
      "text/plain": [
       "    Year  Persons for whom poverty status determined  \\\n",
       "0   2018                                      580628   \n",
       "\n",
       "   Individuals- income below poverty level  Population 16 years and over  \\\n",
       "0                                   107073                        491977   \n",
       "\n",
       "   In labor force  Employed civilians  Unemployed civilians   Location  \\\n",
       "0          307604              286050                 20745  Baltimore   \n",
       "\n",
       "   Poverty rate  Unemployment rate  \n",
       "0          18.0                4.0  "
      ]
     },
     "execution_count": 28,
     "metadata": {},
     "output_type": "execute_result"
    }
   ],
   "source": [
    "# Add a new column for poverty rate \n",
    "rates2018[\"Poverty rate\"] = (100 * \\\n",
    "    rates2018[\"Individuals- income below poverty level\"].astype(\n",
    "        int) / rates2018[\"Persons for whom poverty status determined\"].astype(int)).round()\n",
    "\n",
    "\n",
    "# Add a new column for unemployment rate \n",
    "rates2018[\"Unemployment rate\"] = (100 * \\\n",
    "    rates2018[\"Unemployed civilians\"].astype(\n",
    "        int) / rates2018[\"Population 16 years and over\"].astype(int)).round()\n",
    "rates2018.head()"
   ]
  },
  {
   "cell_type": "code",
   "execution_count": 29,
   "id": "bee1365f",
   "metadata": {},
   "outputs": [],
   "source": [
    "#rates2018[\"Poverty rate\"] = rates2018[\"Poverty rate\"].astype(float).round(1)\n",
    "#rates2018[\"Unemployment rate\"] = rates2018[\"Unemployment rate\"].astype(float).round(1)\n"
   ]
  },
  {
   "cell_type": "code",
   "execution_count": 30,
   "id": "4e691a88",
   "metadata": {},
   "outputs": [
    {
     "data": {
      "text/html": [
       "<div>\n",
       "<style scoped>\n",
       "    .dataframe tbody tr th:only-of-type {\n",
       "        vertical-align: middle;\n",
       "    }\n",
       "\n",
       "    .dataframe tbody tr th {\n",
       "        vertical-align: top;\n",
       "    }\n",
       "\n",
       "    .dataframe thead th {\n",
       "        text-align: right;\n",
       "    }\n",
       "</style>\n",
       "<table border=\"1\" class=\"dataframe\">\n",
       "  <thead>\n",
       "    <tr style=\"text-align: right;\">\n",
       "      <th></th>\n",
       "      <th>Year</th>\n",
       "      <th>Persons for whom poverty status determined</th>\n",
       "      <th>Individuals- income below poverty level</th>\n",
       "      <th>Population 16 years and over</th>\n",
       "      <th>In labor force</th>\n",
       "      <th>Employed civilians</th>\n",
       "      <th>Unemployed civilians</th>\n",
       "      <th>Location</th>\n",
       "      <th>Poverty rate</th>\n",
       "      <th>Unemployment rate</th>\n",
       "      <th>Labor participation rate</th>\n",
       "    </tr>\n",
       "  </thead>\n",
       "  <tbody>\n",
       "    <tr>\n",
       "      <th>0</th>\n",
       "      <td>2018</td>\n",
       "      <td>580628</td>\n",
       "      <td>107073</td>\n",
       "      <td>491977</td>\n",
       "      <td>307604</td>\n",
       "      <td>286050</td>\n",
       "      <td>20745</td>\n",
       "      <td>Baltimore</td>\n",
       "      <td>18.0</td>\n",
       "      <td>4.0</td>\n",
       "      <td>62.5</td>\n",
       "    </tr>\n",
       "  </tbody>\n",
       "</table>\n",
       "</div>"
      ],
      "text/plain": [
       "    Year  Persons for whom poverty status determined  \\\n",
       "0   2018                                      580628   \n",
       "\n",
       "   Individuals- income below poverty level  Population 16 years and over  \\\n",
       "0                                   107073                        491977   \n",
       "\n",
       "   In labor force  Employed civilians  Unemployed civilians   Location  \\\n",
       "0          307604              286050                 20745  Baltimore   \n",
       "\n",
       "   Poverty rate  Unemployment rate  Labor participation rate  \n",
       "0          18.0                4.0                      62.5  "
      ]
     },
     "execution_count": 30,
     "metadata": {},
     "output_type": "execute_result"
    }
   ],
   "source": [
    "# Add a new column for labor participation rate \n",
    "rates2018[\"Labor participation rate\"] = (100 * \\\n",
    "    rates2018[\"In labor force\"].astype(\n",
    "        int) / rates2018[\"Population 16 years and over\"].astype(int)).round(1)\n",
    "rates2018.head()"
   ]
  },
  {
   "cell_type": "code",
   "execution_count": 31,
   "id": "0fa6ff14",
   "metadata": {},
   "outputs": [],
   "source": [
    "# Export file as a CSV, without the Pandas index, but with the header\n",
    "#rates2018.to_csv(\"balt_employment_2018.csv\", index = False, header=True)"
   ]
  }
 ],
 "metadata": {
  "kernelspec": {
   "display_name": "Python 3",
   "language": "python",
   "name": "python3"
  },
  "language_info": {
   "codemirror_mode": {
    "name": "ipython",
    "version": 3
   },
   "file_extension": ".py",
   "mimetype": "text/x-python",
   "name": "python",
   "nbconvert_exporter": "python",
   "pygments_lexer": "ipython3",
   "version": "3.7.13"
  }
 },
 "nbformat": 4,
 "nbformat_minor": 5
}
