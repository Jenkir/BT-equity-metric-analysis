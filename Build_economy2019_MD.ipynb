{
 "cells": [
  {
   "cell_type": "code",
   "execution_count": 1,
   "id": "a5bfa3e0",
   "metadata": {},
   "outputs": [],
   "source": [
    "## Build an equitable economy: INCOME\n",
    "### MD median income, Black median income, Black-white income gap\n",
    "## 2019"
   ]
  },
  {
   "cell_type": "code",
   "execution_count": 2,
   "id": "4b9616b2",
   "metadata": {},
   "outputs": [],
   "source": [
    "# data source: 2019 Census Data (ACS-1 year) for Selected Variables - Maryland\n"
   ]
  },
  {
   "cell_type": "code",
   "execution_count": 3,
   "id": "73176156",
   "metadata": {},
   "outputs": [],
   "source": [
    "#pip install censusdata\n"
   ]
  },
  {
   "cell_type": "code",
   "execution_count": 4,
   "id": "e3541104",
   "metadata": {},
   "outputs": [],
   "source": [
    "# Dependencies\n",
    "import numpy as np\n",
    "import pandas as pd\n",
    "import matplotlib.pyplot as plt\n",
    "import requests\n",
    "\n",
    "from us import states\n",
    "import censusdata "
   ]
  },
  {
   "cell_type": "code",
   "execution_count": 5,
   "id": "d92ff12b",
   "metadata": {},
   "outputs": [],
   "source": [
    "import os"
   ]
  },
  {
   "cell_type": "code",
   "execution_count": 6,
   "id": "6de9b788",
   "metadata": {},
   "outputs": [
    {
     "data": {
      "text/plain": [
       "'C:\\\\Users\\\\Jenkir\\\\Desktop\\\\BDC\\\\Baltimore_Together\\\\measuring-success-metrics\\\\BT-equity-metric-analysis'"
      ]
     },
     "execution_count": 6,
     "metadata": {},
     "output_type": "execute_result"
    }
   ],
   "source": [
    "os.getcwd()"
   ]
  },
  {
   "cell_type": "code",
   "execution_count": 7,
   "id": "70066bb3",
   "metadata": {},
   "outputs": [],
   "source": [
    "# need to change the working directory; be sure that the config file for the census API is also in this folder\n",
    "#os.chdir('C:\\\\Users\\\\Jenkir\\\\Desktop\\\\BDC\\\\Baltimore_Together\\\\measuring-success-metrics\\\\analysis_nbs')\n"
   ]
  },
  {
   "cell_type": "code",
   "execution_count": 8,
   "id": "e5c6eb2e",
   "metadata": {},
   "outputs": [],
   "source": [
    "#os.getcwd()"
   ]
  },
  {
   "cell_type": "code",
   "execution_count": 9,
   "id": "a1d86d9b",
   "metadata": {},
   "outputs": [],
   "source": [
    "pd.set_option('display.max_rows', 200)"
   ]
  },
  {
   "cell_type": "code",
   "execution_count": 10,
   "id": "60779a2c",
   "metadata": {},
   "outputs": [],
   "source": [
    "pd.set_option('max_colwidth', 100)"
   ]
  },
  {
   "cell_type": "code",
   "execution_count": 11,
   "id": "e5138716",
   "metadata": {},
   "outputs": [
    {
     "data": {
      "text/html": [
       "<div>\n",
       "<style scoped>\n",
       "    .dataframe tbody tr th:only-of-type {\n",
       "        vertical-align: middle;\n",
       "    }\n",
       "\n",
       "    .dataframe tbody tr th {\n",
       "        vertical-align: top;\n",
       "    }\n",
       "\n",
       "    .dataframe thead th {\n",
       "        text-align: right;\n",
       "    }\n",
       "</style>\n",
       "<table border=\"1\" class=\"dataframe\">\n",
       "  <thead>\n",
       "    <tr style=\"text-align: right;\">\n",
       "      <th></th>\n",
       "      <th>B19001_001E</th>\n",
       "      <th>B01003_001E</th>\n",
       "      <th>B19013_001E</th>\n",
       "      <th>B02001_002E</th>\n",
       "      <th>B02001_003E</th>\n",
       "      <th>B19013A_001E</th>\n",
       "      <th>B19013B_001E</th>\n",
       "    </tr>\n",
       "  </thead>\n",
       "  <tbody>\n",
       "    <tr>\n",
       "      <th>Maryland: Summary level: 040, state:24</th>\n",
       "      <td>2226767</td>\n",
       "      <td>6045680</td>\n",
       "      <td>86738</td>\n",
       "      <td>3296909</td>\n",
       "      <td>1830059</td>\n",
       "      <td>96724</td>\n",
       "      <td>68377</td>\n",
       "    </tr>\n",
       "  </tbody>\n",
       "</table>\n",
       "</div>"
      ],
      "text/plain": [
       "                                        B19001_001E  B01003_001E  B19013_001E  \\\n",
       "Maryland: Summary level: 040, state:24      2226767      6045680        86738   \n",
       "\n",
       "                                        B02001_002E  B02001_003E  \\\n",
       "Maryland: Summary level: 040, state:24      3296909      1830059   \n",
       "\n",
       "                                        B19013A_001E  B19013B_001E  \n",
       "Maryland: Summary level: 040, state:24         96724         68377  "
      ]
     },
     "execution_count": 11,
     "metadata": {},
     "output_type": "execute_result"
    }
   ],
   "source": [
    "# American Community Survey 1-Year Data \n",
    "\n",
    "data = censusdata.download('acs1', 2019,\n",
    "                          censusdata.censusgeo([('state', '24'),\n",
    "                                               ]),\n",
    "                                        [\"B19001_001E\",\"B01003_001E\",\n",
    "                                         \"B19013_001E\",\n",
    "                                         \"B02001_002E\", \"B02001_003E\",\n",
    "                                         \"B19013A_001E\", \"B19013B_001E\"])\n",
    "                          \n",
    "census_2019 = pd.DataFrame(data)\n",
    "census_2019"
   ]
  },
  {
   "cell_type": "code",
   "execution_count": 12,
   "id": "43db78e3",
   "metadata": {},
   "outputs": [
    {
     "data": {
      "text/html": [
       "<div>\n",
       "<style scoped>\n",
       "    .dataframe tbody tr th:only-of-type {\n",
       "        vertical-align: middle;\n",
       "    }\n",
       "\n",
       "    .dataframe tbody tr th {\n",
       "        vertical-align: top;\n",
       "    }\n",
       "\n",
       "    .dataframe thead th {\n",
       "        text-align: right;\n",
       "    }\n",
       "</style>\n",
       "<table border=\"1\" class=\"dataframe\">\n",
       "  <thead>\n",
       "    <tr style=\"text-align: right;\">\n",
       "      <th></th>\n",
       "      <th>Total households</th>\n",
       "      <th>Population</th>\n",
       "      <th>Median household income</th>\n",
       "      <th>Pop. white</th>\n",
       "      <th>Pop. Black</th>\n",
       "      <th>Median HH income White Alone Householder</th>\n",
       "      <th>Median HH income Black or African American Alone Householder</th>\n",
       "    </tr>\n",
       "  </thead>\n",
       "  <tbody>\n",
       "    <tr>\n",
       "      <th>Maryland: Summary level: 040, state:24</th>\n",
       "      <td>2226767</td>\n",
       "      <td>6045680</td>\n",
       "      <td>86738</td>\n",
       "      <td>3296909</td>\n",
       "      <td>1830059</td>\n",
       "      <td>96724</td>\n",
       "      <td>68377</td>\n",
       "    </tr>\n",
       "  </tbody>\n",
       "</table>\n",
       "</div>"
      ],
      "text/plain": [
       "                                        Total households  Population  \\\n",
       "Maryland: Summary level: 040, state:24           2226767     6045680   \n",
       "\n",
       "                                        Median household income  Pop. white  \\\n",
       "Maryland: Summary level: 040, state:24                    86738     3296909   \n",
       "\n",
       "                                        Pop. Black  \\\n",
       "Maryland: Summary level: 040, state:24     1830059   \n",
       "\n",
       "                                        Median HH income White Alone Householder  \\\n",
       "Maryland: Summary level: 040, state:24                                     96724   \n",
       "\n",
       "                                        Median HH income Black or African American Alone Householder  \n",
       "Maryland: Summary level: 040, state:24                                                         68377  "
      ]
     },
     "execution_count": 12,
     "metadata": {},
     "output_type": "execute_result"
    }
   ],
   "source": [
    "# Replace the census variable codes (such as \"B19013_001E\") in the dataframe with text so it's understandable\n",
    "census_2019 = census_2019.rename(columns={\"B19001_001E\": \"Total households\",\n",
    "                                      \"B01003_001E\": \"Population\",\n",
    "                                      \"B19013_001E\": \"Median household income\",\n",
    "                                      \"B02001_003E\": \"Pop. Black\",\n",
    "                                      \"B02001_002E\": \"Pop. white\",\n",
    "                                      \"B19013A_001E\": \"Median HH income White Alone Householder\",\n",
    "                                      \"B19013B_001E\": \"Median HH income Black or African American Alone Householder\",  \n",
    "                                         })\n",
    "census_2019.head()"
   ]
  },
  {
   "cell_type": "code",
   "execution_count": 13,
   "id": "2013a9aa",
   "metadata": {},
   "outputs": [
    {
     "data": {
      "text/html": [
       "<div>\n",
       "<style scoped>\n",
       "    .dataframe tbody tr th:only-of-type {\n",
       "        vertical-align: middle;\n",
       "    }\n",
       "\n",
       "    .dataframe tbody tr th {\n",
       "        vertical-align: top;\n",
       "    }\n",
       "\n",
       "    .dataframe thead th {\n",
       "        text-align: right;\n",
       "    }\n",
       "</style>\n",
       "<table border=\"1\" class=\"dataframe\">\n",
       "  <thead>\n",
       "    <tr style=\"text-align: right;\">\n",
       "      <th></th>\n",
       "      <th>Total households</th>\n",
       "      <th>Population</th>\n",
       "      <th>Median household income</th>\n",
       "      <th>Pop. white</th>\n",
       "      <th>Pop. Black</th>\n",
       "      <th>Median HH income White Alone Householder</th>\n",
       "      <th>Median HH income Black or African American Alone Householder</th>\n",
       "    </tr>\n",
       "  </thead>\n",
       "  <tbody>\n",
       "    <tr>\n",
       "      <th>Maryland: Summary level: 040, state:24</th>\n",
       "      <td>2226767</td>\n",
       "      <td>6045680</td>\n",
       "      <td>86738</td>\n",
       "      <td>3296909</td>\n",
       "      <td>1830059</td>\n",
       "      <td>96724</td>\n",
       "      <td>68377</td>\n",
       "    </tr>\n",
       "  </tbody>\n",
       "</table>\n",
       "</div>"
      ],
      "text/plain": [
       "                                        Total households  Population  \\\n",
       "Maryland: Summary level: 040, state:24           2226767     6045680   \n",
       "\n",
       "                                        Median household income  Pop. white  \\\n",
       "Maryland: Summary level: 040, state:24                    86738     3296909   \n",
       "\n",
       "                                        Pop. Black  \\\n",
       "Maryland: Summary level: 040, state:24     1830059   \n",
       "\n",
       "                                        Median HH income White Alone Householder  \\\n",
       "Maryland: Summary level: 040, state:24                                     96724   \n",
       "\n",
       "                                        Median HH income Black or African American Alone Householder  \n",
       "Maryland: Summary level: 040, state:24                                                         68377  "
      ]
     },
     "execution_count": 13,
     "metadata": {},
     "output_type": "execute_result"
    }
   ],
   "source": [
    "census = census_2019.copy()\n",
    "census"
   ]
  },
  {
   "cell_type": "code",
   "execution_count": 14,
   "id": "456246b6",
   "metadata": {},
   "outputs": [
    {
     "data": {
      "text/html": [
       "<div>\n",
       "<style scoped>\n",
       "    .dataframe tbody tr th:only-of-type {\n",
       "        vertical-align: middle;\n",
       "    }\n",
       "\n",
       "    .dataframe tbody tr th {\n",
       "        vertical-align: top;\n",
       "    }\n",
       "\n",
       "    .dataframe thead th {\n",
       "        text-align: right;\n",
       "    }\n",
       "</style>\n",
       "<table border=\"1\" class=\"dataframe\">\n",
       "  <thead>\n",
       "    <tr style=\"text-align: right;\">\n",
       "      <th></th>\n",
       "      <th>Total households</th>\n",
       "      <th>Population</th>\n",
       "      <th>Median household income</th>\n",
       "      <th>Pop. white</th>\n",
       "      <th>Pop. Black</th>\n",
       "      <th>Median HH income White Alone Householder</th>\n",
       "      <th>Median HH income Black or African American Alone Householder</th>\n",
       "    </tr>\n",
       "  </thead>\n",
       "  <tbody>\n",
       "    <tr>\n",
       "      <th>Maryland, 2019</th>\n",
       "      <td>2226767</td>\n",
       "      <td>6045680</td>\n",
       "      <td>86738</td>\n",
       "      <td>3296909</td>\n",
       "      <td>1830059</td>\n",
       "      <td>96724</td>\n",
       "      <td>68377</td>\n",
       "    </tr>\n",
       "  </tbody>\n",
       "</table>\n",
       "</div>"
      ],
      "text/plain": [
       "                Total households  Population  Median household income  \\\n",
       "Maryland, 2019           2226767     6045680                    86738   \n",
       "\n",
       "                Pop. white  Pop. Black  \\\n",
       "Maryland, 2019     3296909     1830059   \n",
       "\n",
       "                Median HH income White Alone Householder  \\\n",
       "Maryland, 2019                                     96724   \n",
       "\n",
       "                Median HH income Black or African American Alone Householder  \n",
       "Maryland, 2019                                                         68377  "
      ]
     },
     "execution_count": 14,
     "metadata": {},
     "output_type": "execute_result"
    }
   ],
   "source": [
    "census.index = ['Maryland, 2019']\n",
    "census"
   ]
  },
  {
   "cell_type": "code",
   "execution_count": 15,
   "id": "808a7748",
   "metadata": {},
   "outputs": [
    {
     "data": {
      "text/html": [
       "<div>\n",
       "<style scoped>\n",
       "    .dataframe tbody tr th:only-of-type {\n",
       "        vertical-align: middle;\n",
       "    }\n",
       "\n",
       "    .dataframe tbody tr th {\n",
       "        vertical-align: top;\n",
       "    }\n",
       "\n",
       "    .dataframe thead th {\n",
       "        text-align: right;\n",
       "    }\n",
       "</style>\n",
       "<table border=\"1\" class=\"dataframe\">\n",
       "  <thead>\n",
       "    <tr style=\"text-align: right;\">\n",
       "      <th></th>\n",
       "      <th>index</th>\n",
       "      <th>Total households</th>\n",
       "      <th>Population</th>\n",
       "      <th>Median household income</th>\n",
       "      <th>Pop. white</th>\n",
       "      <th>Pop. Black</th>\n",
       "      <th>Median HH income White Alone Householder</th>\n",
       "      <th>Median HH income Black or African American Alone Householder</th>\n",
       "    </tr>\n",
       "  </thead>\n",
       "  <tbody>\n",
       "    <tr>\n",
       "      <th>0</th>\n",
       "      <td>Maryland, 2019</td>\n",
       "      <td>2226767</td>\n",
       "      <td>6045680</td>\n",
       "      <td>86738</td>\n",
       "      <td>3296909</td>\n",
       "      <td>1830059</td>\n",
       "      <td>96724</td>\n",
       "      <td>68377</td>\n",
       "    </tr>\n",
       "  </tbody>\n",
       "</table>\n",
       "</div>"
      ],
      "text/plain": [
       "            index  Total households  Population  Median household income  \\\n",
       "0  Maryland, 2019           2226767     6045680                    86738   \n",
       "\n",
       "   Pop. white  Pop. Black  Median HH income White Alone Householder  \\\n",
       "0     3296909     1830059                                     96724   \n",
       "\n",
       "   Median HH income Black or African American Alone Householder  \n",
       "0                                                         68377  "
      ]
     },
     "execution_count": 15,
     "metadata": {},
     "output_type": "execute_result"
    }
   ],
   "source": [
    "census = census.reset_index()\n",
    "census"
   ]
  },
  {
   "cell_type": "code",
   "execution_count": 16,
   "id": "9fadf387",
   "metadata": {},
   "outputs": [
    {
     "data": {
      "text/html": [
       "<div>\n",
       "<style scoped>\n",
       "    .dataframe tbody tr th:only-of-type {\n",
       "        vertical-align: middle;\n",
       "    }\n",
       "\n",
       "    .dataframe tbody tr th {\n",
       "        vertical-align: top;\n",
       "    }\n",
       "\n",
       "    .dataframe thead th {\n",
       "        text-align: right;\n",
       "    }\n",
       "</style>\n",
       "<table border=\"1\" class=\"dataframe\">\n",
       "  <thead>\n",
       "    <tr style=\"text-align: right;\">\n",
       "      <th></th>\n",
       "      <th>Year</th>\n",
       "      <th>Total households</th>\n",
       "      <th>Population</th>\n",
       "      <th>Median household income</th>\n",
       "      <th>Pop. white</th>\n",
       "      <th>Pop. Black</th>\n",
       "      <th>Median HH income White Alone Householder</th>\n",
       "      <th>Median HH income Black or African American Alone Householder</th>\n",
       "    </tr>\n",
       "  </thead>\n",
       "  <tbody>\n",
       "    <tr>\n",
       "      <th>0</th>\n",
       "      <td>Maryland, 2019</td>\n",
       "      <td>2226767</td>\n",
       "      <td>6045680</td>\n",
       "      <td>86738</td>\n",
       "      <td>3296909</td>\n",
       "      <td>1830059</td>\n",
       "      <td>96724</td>\n",
       "      <td>68377</td>\n",
       "    </tr>\n",
       "  </tbody>\n",
       "</table>\n",
       "</div>"
      ],
      "text/plain": [
       "             Year  Total households  Population  Median household income  \\\n",
       "0  Maryland, 2019           2226767     6045680                    86738   \n",
       "\n",
       "   Pop. white  Pop. Black  Median HH income White Alone Householder  \\\n",
       "0     3296909     1830059                                     96724   \n",
       "\n",
       "   Median HH income Black or African American Alone Householder  \n",
       "0                                                         68377  "
      ]
     },
     "execution_count": 16,
     "metadata": {},
     "output_type": "execute_result"
    }
   ],
   "source": [
    "census = census.rename(columns={\"index\": \"Year\"})                                           \n",
    "census "
   ]
  },
  {
   "cell_type": "code",
   "execution_count": 17,
   "id": "b0ed1d1c",
   "metadata": {},
   "outputs": [
    {
     "data": {
      "text/html": [
       "<div>\n",
       "<style scoped>\n",
       "    .dataframe tbody tr th:only-of-type {\n",
       "        vertical-align: middle;\n",
       "    }\n",
       "\n",
       "    .dataframe tbody tr th {\n",
       "        vertical-align: top;\n",
       "    }\n",
       "\n",
       "    .dataframe thead th {\n",
       "        text-align: right;\n",
       "    }\n",
       "</style>\n",
       "<table border=\"1\" class=\"dataframe\">\n",
       "  <thead>\n",
       "    <tr style=\"text-align: right;\">\n",
       "      <th></th>\n",
       "      <th>Year</th>\n",
       "      <th>Total households</th>\n",
       "      <th>Population</th>\n",
       "      <th>Median household income</th>\n",
       "      <th>Pop. white</th>\n",
       "      <th>Pop. Black</th>\n",
       "      <th>Median HH income White Alone Householder</th>\n",
       "      <th>Median HH income Black or African American Alone Householder</th>\n",
       "    </tr>\n",
       "  </thead>\n",
       "  <tbody>\n",
       "    <tr>\n",
       "      <th>0</th>\n",
       "      <td>Maryland, 2019</td>\n",
       "      <td>2226767</td>\n",
       "      <td>6045680</td>\n",
       "      <td>86738</td>\n",
       "      <td>3296909</td>\n",
       "      <td>1830059</td>\n",
       "      <td>96724</td>\n",
       "      <td>68377</td>\n",
       "    </tr>\n",
       "  </tbody>\n",
       "</table>\n",
       "</div>"
      ],
      "text/plain": [
       "             Year  Total households  Population  Median household income  \\\n",
       "0  Maryland, 2019           2226767     6045680                    86738   \n",
       "\n",
       "   Pop. white  Pop. Black  Median HH income White Alone Householder  \\\n",
       "0     3296909     1830059                                     96724   \n",
       "\n",
       "   Median HH income Black or African American Alone Householder  \n",
       "0                                                         68377  "
      ]
     },
     "execution_count": 17,
     "metadata": {},
     "output_type": "execute_result"
    }
   ],
   "source": [
    "income_2019 = census.copy()\n",
    "income_2019"
   ]
  },
  {
   "cell_type": "code",
   "execution_count": 18,
   "id": "3ca4b845",
   "metadata": {},
   "outputs": [
    {
     "data": {
      "text/html": [
       "<div>\n",
       "<style scoped>\n",
       "    .dataframe tbody tr th:only-of-type {\n",
       "        vertical-align: middle;\n",
       "    }\n",
       "\n",
       "    .dataframe tbody tr th {\n",
       "        vertical-align: top;\n",
       "    }\n",
       "\n",
       "    .dataframe thead th {\n",
       "        text-align: right;\n",
       "    }\n",
       "</style>\n",
       "<table border=\"1\" class=\"dataframe\">\n",
       "  <thead>\n",
       "    <tr style=\"text-align: right;\">\n",
       "      <th></th>\n",
       "      <th>Year</th>\n",
       "      <th>Total households</th>\n",
       "      <th>Population</th>\n",
       "      <th>Median household income</th>\n",
       "      <th>Pop. white</th>\n",
       "      <th>Pop. Black</th>\n",
       "      <th>Median HH income White Alone Householder</th>\n",
       "      <th>Median HH income Black or African American Alone Householder</th>\n",
       "      <th>Location</th>\n",
       "    </tr>\n",
       "  </thead>\n",
       "  <tbody>\n",
       "    <tr>\n",
       "      <th>0</th>\n",
       "      <td>2019</td>\n",
       "      <td>2226767</td>\n",
       "      <td>6045680</td>\n",
       "      <td>86738</td>\n",
       "      <td>3296909</td>\n",
       "      <td>1830059</td>\n",
       "      <td>96724</td>\n",
       "      <td>68377</td>\n",
       "      <td>Maryland</td>\n",
       "    </tr>\n",
       "  </tbody>\n",
       "</table>\n",
       "</div>"
      ],
      "text/plain": [
       "    Year  Total households  Population  Median household income  Pop. white  \\\n",
       "0   2019           2226767     6045680                    86738     3296909   \n",
       "\n",
       "   Pop. Black  Median HH income White Alone Householder  \\\n",
       "0     1830059                                     96724   \n",
       "\n",
       "   Median HH income Black or African American Alone Householder  Location  \n",
       "0                                                         68377  Maryland  "
      ]
     },
     "execution_count": 18,
     "metadata": {},
     "output_type": "execute_result"
    }
   ],
   "source": [
    "income_2019[[\"Location\", \"Year\"]] = income_2019.Year.str.split(\",\", expand=True)\n",
    "income_2019"
   ]
  },
  {
   "cell_type": "code",
   "execution_count": 19,
   "id": "baa33982",
   "metadata": {},
   "outputs": [],
   "source": [
    "# Export file as a CSV, without the Pandas index, but with the header\n",
    "#income_2019.to_csv(\"MD_income_2019.csv\", index = False, header=True)"
   ]
  },
  {
   "cell_type": "code",
   "execution_count": null,
   "id": "816daccf",
   "metadata": {},
   "outputs": [],
   "source": []
  }
 ],
 "metadata": {
  "kernelspec": {
   "display_name": "Python 3",
   "language": "python",
   "name": "python3"
  },
  "language_info": {
   "codemirror_mode": {
    "name": "ipython",
    "version": 3
   },
   "file_extension": ".py",
   "mimetype": "text/x-python",
   "name": "python",
   "nbconvert_exporter": "python",
   "pygments_lexer": "ipython3",
   "version": "3.7.13"
  }
 },
 "nbformat": 4,
 "nbformat_minor": 5
}
