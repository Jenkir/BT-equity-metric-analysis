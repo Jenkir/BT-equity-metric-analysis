{
 "cells": [
  {
   "cell_type": "code",
   "execution_count": 1,
   "id": "2a9cbda5",
   "metadata": {},
   "outputs": [],
   "source": [
    "#  *** THIS DATA (FROM API) HAS NOT BEEN CHECKED AGAINST DATA.CENSUS.GOV TABLES***"
   ]
  },
  {
   "cell_type": "code",
   "execution_count": 2,
   "id": "a5bfa3e0",
   "metadata": {},
   "outputs": [],
   "source": [
    "## Build an equitable economy: INCOME\n",
    "### U.S. median income, Black median income, Black-white income gap\n",
    "## 2015"
   ]
  },
  {
   "cell_type": "code",
   "execution_count": 3,
   "id": "c279468a",
   "metadata": {},
   "outputs": [],
   "source": [
    "# see https://jtleider.github.io/censusdata/api.html"
   ]
  },
  {
   "cell_type": "code",
   "execution_count": 4,
   "id": "4b9616b2",
   "metadata": {},
   "outputs": [],
   "source": [
    "# data source: 2015 Census Data (ACS-1 year) for Selected Variables - U.S."
   ]
  },
  {
   "cell_type": "code",
   "execution_count": 5,
   "id": "e3541104",
   "metadata": {},
   "outputs": [],
   "source": [
    "# Dependencies\n",
    "import json\n",
    "import pandas as pd\n",
    "import matplotlib.pyplot as plt\n",
    "import requests\n",
    "from census import Census\n",
    "from config import api_key\n",
    "\n",
    "#c = Census(api_key)"
   ]
  },
  {
   "cell_type": "code",
   "execution_count": 6,
   "id": "d92ff12b",
   "metadata": {},
   "outputs": [],
   "source": [
    "import os"
   ]
  },
  {
   "cell_type": "code",
   "execution_count": 7,
   "id": "6de9b788",
   "metadata": {},
   "outputs": [
    {
     "data": {
      "text/plain": [
       "'C:\\\\Users\\\\Jenkir\\\\Desktop\\\\BDC\\\\Baltimore_Together\\\\measuring-success-metrics\\\\BT-equity-metric-analysis'"
      ]
     },
     "execution_count": 7,
     "metadata": {},
     "output_type": "execute_result"
    }
   ],
   "source": [
    "os.getcwd()"
   ]
  },
  {
   "cell_type": "code",
   "execution_count": 8,
   "id": "70066bb3",
   "metadata": {},
   "outputs": [],
   "source": [
    "# need to change the working directory; be sure that the config file for the census API is also in this folder\n",
    "#os.chdir('C:\\\\Users\\\\Jenkir\\\\Desktop\\\\BDC\\\\Baltimore_Together\\\\measuring-success-metrics\\\\analysis_nbs')"
   ]
  },
  {
   "cell_type": "code",
   "execution_count": 9,
   "id": "a1d86d9b",
   "metadata": {},
   "outputs": [],
   "source": [
    "pd.set_option('display.max_rows', 200)"
   ]
  },
  {
   "cell_type": "code",
   "execution_count": 10,
   "id": "60779a2c",
   "metadata": {},
   "outputs": [],
   "source": [
    "pd.set_option('max_colwidth', 100)"
   ]
  },
  {
   "cell_type": "code",
   "execution_count": 11,
   "id": "0bdbe717",
   "metadata": {},
   "outputs": [
    {
     "data": {
      "text/plain": [
       "200"
      ]
     },
     "execution_count": 11,
     "metadata": {},
     "output_type": "execute_result"
    }
   ],
   "source": [
    "# see https://iqss.github.io/datafest-project/optional-u-s-census-data-python.html\n",
    "# see census api example urls     https://api.census.gov/data/2019/acs/acs1/examples.html  \n",
    "url = f\"https://api.census.gov/data/2015/acs/acs1?get=NAME,B19001_001E,B01003_001E,B19013_001E,B02001_002E,B02001_003E,B19013A_001E,B19013B_001E&for=us:1&key={api_key}\"\n",
    "\n",
    "response = requests.get(url)\n",
    "response.status_code"
   ]
  },
  {
   "cell_type": "code",
   "execution_count": 12,
   "id": "437d1890",
   "metadata": {},
   "outputs": [
    {
     "data": {
      "text/html": [
       "<div>\n",
       "<style scoped>\n",
       "    .dataframe tbody tr th:only-of-type {\n",
       "        vertical-align: middle;\n",
       "    }\n",
       "\n",
       "    .dataframe tbody tr th {\n",
       "        vertical-align: top;\n",
       "    }\n",
       "\n",
       "    .dataframe thead th {\n",
       "        text-align: right;\n",
       "    }\n",
       "</style>\n",
       "<table border=\"1\" class=\"dataframe\">\n",
       "  <thead>\n",
       "    <tr style=\"text-align: right;\">\n",
       "      <th></th>\n",
       "      <th>NAME</th>\n",
       "      <th>B19001_001E</th>\n",
       "      <th>B01003_001E</th>\n",
       "      <th>B19013_001E</th>\n",
       "      <th>B02001_002E</th>\n",
       "      <th>B02001_003E</th>\n",
       "      <th>B19013A_001E</th>\n",
       "      <th>B19013B_001E</th>\n",
       "      <th>us</th>\n",
       "    </tr>\n",
       "  </thead>\n",
       "  <tbody>\n",
       "    <tr>\n",
       "      <th>0</th>\n",
       "      <td>United States</td>\n",
       "      <td>117259427</td>\n",
       "      <td>318857056</td>\n",
       "      <td>53657</td>\n",
       "      <td>233963128</td>\n",
       "      <td>40379066</td>\n",
       "      <td>57355</td>\n",
       "      <td>35481</td>\n",
       "      <td>1</td>\n",
       "    </tr>\n",
       "  </tbody>\n",
       "</table>\n",
       "</div>"
      ],
      "text/plain": [
       "            NAME B19001_001E B01003_001E B19013_001E B02001_002E B02001_003E  \\\n",
       "0  United States   117259427   318857056       53657   233963128    40379066   \n",
       "\n",
       "  B19013A_001E B19013B_001E us  \n",
       "0        57355        35481  1  "
      ]
     },
     "execution_count": 12,
     "metadata": {},
     "output_type": "execute_result"
    }
   ],
   "source": [
    "us = response.json()\n",
    "us_df_income = pd.DataFrame(us[1:], columns=us[0])\n",
    "# alternatively   us_df = pd.DataFrame(us[1:], columns=us[0]).rename(columns={'NAME':'country', \n",
    "# B01003_001E\": \"Population\",\"B01002_001E\": \"Median Age\"})\n",
    "us_df_income "
   ]
  },
  {
   "cell_type": "code",
   "execution_count": 13,
   "id": "b0b1a917",
   "metadata": {},
   "outputs": [
    {
     "data": {
      "text/html": [
       "<div>\n",
       "<style scoped>\n",
       "    .dataframe tbody tr th:only-of-type {\n",
       "        vertical-align: middle;\n",
       "    }\n",
       "\n",
       "    .dataframe tbody tr th {\n",
       "        vertical-align: top;\n",
       "    }\n",
       "\n",
       "    .dataframe thead th {\n",
       "        text-align: right;\n",
       "    }\n",
       "</style>\n",
       "<table border=\"1\" class=\"dataframe\">\n",
       "  <thead>\n",
       "    <tr style=\"text-align: right;\">\n",
       "      <th></th>\n",
       "      <th>Geography</th>\n",
       "      <th>Total households</th>\n",
       "      <th>Population</th>\n",
       "      <th>Median household income</th>\n",
       "      <th>Pop. white</th>\n",
       "      <th>Pop. Black</th>\n",
       "      <th>Median HH income White Alone Householder</th>\n",
       "      <th>Median HH income Black or African American Alone Householder</th>\n",
       "      <th>us</th>\n",
       "    </tr>\n",
       "  </thead>\n",
       "  <tbody>\n",
       "    <tr>\n",
       "      <th>0</th>\n",
       "      <td>United States</td>\n",
       "      <td>117259427</td>\n",
       "      <td>318857056</td>\n",
       "      <td>53657</td>\n",
       "      <td>233963128</td>\n",
       "      <td>40379066</td>\n",
       "      <td>57355</td>\n",
       "      <td>35481</td>\n",
       "      <td>1</td>\n",
       "    </tr>\n",
       "  </tbody>\n",
       "</table>\n",
       "</div>"
      ],
      "text/plain": [
       "       Geography Total households Population Median household income  \\\n",
       "0  United States        117259427  318857056                   53657   \n",
       "\n",
       "  Pop. white Pop. Black Median HH income White Alone Householder  \\\n",
       "0  233963128   40379066                                    57355   \n",
       "\n",
       "  Median HH income Black or African American Alone Householder us  \n",
       "0                                                        35481  1  "
      ]
     },
     "execution_count": 13,
     "metadata": {},
     "output_type": "execute_result"
    }
   ],
   "source": [
    "\n",
    "us_df_income = us_df_income.rename(columns={\"B19001_001E\": \"Total households\",\n",
    "                              \"B01003_001E\": \"Population\",\n",
    "                              \"B19013_001E\": \"Median household income\",\n",
    "                              \"B02001_003E\": \"Pop. Black\",\n",
    "                              \"B02001_002E\": \"Pop. white\",\n",
    "                              \"B19013A_001E\": \"Median HH income White Alone Householder\",\n",
    "                              \"B19013B_001E\": \"Median HH income Black or African American Alone Householder\",  \n",
    "                              \"NAME\": \"Geography\"})\n",
    "us_df_income"
   ]
  },
  {
   "cell_type": "code",
   "execution_count": 14,
   "id": "2013a9aa",
   "metadata": {},
   "outputs": [
    {
     "data": {
      "text/html": [
       "<div>\n",
       "<style scoped>\n",
       "    .dataframe tbody tr th:only-of-type {\n",
       "        vertical-align: middle;\n",
       "    }\n",
       "\n",
       "    .dataframe tbody tr th {\n",
       "        vertical-align: top;\n",
       "    }\n",
       "\n",
       "    .dataframe thead th {\n",
       "        text-align: right;\n",
       "    }\n",
       "</style>\n",
       "<table border=\"1\" class=\"dataframe\">\n",
       "  <thead>\n",
       "    <tr style=\"text-align: right;\">\n",
       "      <th></th>\n",
       "      <th>Geography</th>\n",
       "      <th>Total households</th>\n",
       "      <th>Population</th>\n",
       "      <th>Median household income</th>\n",
       "      <th>Pop. white</th>\n",
       "      <th>Pop. Black</th>\n",
       "      <th>Median HH income White Alone Householder</th>\n",
       "      <th>Median HH income Black or African American Alone Householder</th>\n",
       "      <th>us</th>\n",
       "    </tr>\n",
       "  </thead>\n",
       "  <tbody>\n",
       "    <tr>\n",
       "      <th>0</th>\n",
       "      <td>United States</td>\n",
       "      <td>117259427</td>\n",
       "      <td>318857056</td>\n",
       "      <td>53657</td>\n",
       "      <td>233963128</td>\n",
       "      <td>40379066</td>\n",
       "      <td>57355</td>\n",
       "      <td>35481</td>\n",
       "      <td>1</td>\n",
       "    </tr>\n",
       "  </tbody>\n",
       "</table>\n",
       "</div>"
      ],
      "text/plain": [
       "       Geography Total households Population Median household income  \\\n",
       "0  United States        117259427  318857056                   53657   \n",
       "\n",
       "  Pop. white Pop. Black Median HH income White Alone Householder  \\\n",
       "0  233963128   40379066                                    57355   \n",
       "\n",
       "  Median HH income Black or African American Alone Householder us  \n",
       "0                                                        35481  1  "
      ]
     },
     "execution_count": 14,
     "metadata": {},
     "output_type": "execute_result"
    }
   ],
   "source": [
    "us_df_income = us_df_income.copy()\n",
    "us_df_income"
   ]
  },
  {
   "cell_type": "code",
   "execution_count": 15,
   "id": "baa33982",
   "metadata": {},
   "outputs": [],
   "source": [
    "# Export file as a CSV, without the Pandas index, but with the header\n",
    "#us_df_income.to_csv(\"us_income_2015.csv\", index = False, header=True)"
   ]
  },
  {
   "cell_type": "code",
   "execution_count": null,
   "id": "6be29e32",
   "metadata": {},
   "outputs": [],
   "source": []
  },
  {
   "cell_type": "code",
   "execution_count": null,
   "id": "4a707c01",
   "metadata": {},
   "outputs": [],
   "source": [
    "### DO NOT USE CELLS BELOW "
   ]
  },
  {
   "cell_type": "code",
   "execution_count": 16,
   "id": "86efed95",
   "metadata": {},
   "outputs": [
    {
     "data": {
      "text/plain": [
       "200"
      ]
     },
     "execution_count": 16,
     "metadata": {},
     "output_type": "execute_result"
    }
   ],
   "source": [
    "# data to be used to calculate poverty rate, labor participation rate, unemployment rate\n",
    "url_rate = f\"https://api.census.gov/data/2015/acs/acs1?get=NAME,B17001_001E,B17001_002E,B23025_001E,B23025_002E,B23025_004E,B23025_005E&for=us:1&key={api_key}\"\n",
    "\n",
    "response = requests.get(url_rate)\n",
    "response.status_code"
   ]
  },
  {
   "cell_type": "code",
   "execution_count": 17,
   "id": "4878305e",
   "metadata": {},
   "outputs": [
    {
     "data": {
      "text/html": [
       "<div>\n",
       "<style scoped>\n",
       "    .dataframe tbody tr th:only-of-type {\n",
       "        vertical-align: middle;\n",
       "    }\n",
       "\n",
       "    .dataframe tbody tr th {\n",
       "        vertical-align: top;\n",
       "    }\n",
       "\n",
       "    .dataframe thead th {\n",
       "        text-align: right;\n",
       "    }\n",
       "</style>\n",
       "<table border=\"1\" class=\"dataframe\">\n",
       "  <thead>\n",
       "    <tr style=\"text-align: right;\">\n",
       "      <th></th>\n",
       "      <th>NAME</th>\n",
       "      <th>B17001_001E</th>\n",
       "      <th>B17001_002E</th>\n",
       "      <th>B23025_001E</th>\n",
       "      <th>B23025_002E</th>\n",
       "      <th>B23025_004E</th>\n",
       "      <th>B23025_005E</th>\n",
       "      <th>us</th>\n",
       "    </tr>\n",
       "  </thead>\n",
       "  <tbody>\n",
       "    <tr>\n",
       "      <th>0</th>\n",
       "      <td>United States</td>\n",
       "      <td>310899910</td>\n",
       "      <td>48208387</td>\n",
       "      <td>253588947</td>\n",
       "      <td>160532722</td>\n",
       "      <td>148019908</td>\n",
       "      <td>11530544</td>\n",
       "      <td>1</td>\n",
       "    </tr>\n",
       "  </tbody>\n",
       "</table>\n",
       "</div>"
      ],
      "text/plain": [
       "            NAME B17001_001E B17001_002E B23025_001E B23025_002E B23025_004E  \\\n",
       "0  United States   310899910    48208387   253588947   160532722   148019908   \n",
       "\n",
       "  B23025_005E us  \n",
       "0    11530544  1  "
      ]
     },
     "execution_count": 17,
     "metadata": {},
     "output_type": "execute_result"
    }
   ],
   "source": [
    "us_rates = response.json()\n",
    "us_df_rates = pd.DataFrame(us_rates[1:], columns=us_rates[0])\n",
    "# alternatively   us_df = pd.DataFrame(us[1:], columns=us[0]).rename(columns={'NAME':'country', \n",
    "# B01003_001E\": \"Population\",\"B01002_001E\": \"Median Age\"})\n",
    "us_df_rates  "
   ]
  },
  {
   "cell_type": "code",
   "execution_count": 18,
   "id": "d098cd4e",
   "metadata": {},
   "outputs": [
    {
     "data": {
      "text/html": [
       "<div>\n",
       "<style scoped>\n",
       "    .dataframe tbody tr th:only-of-type {\n",
       "        vertical-align: middle;\n",
       "    }\n",
       "\n",
       "    .dataframe tbody tr th {\n",
       "        vertical-align: top;\n",
       "    }\n",
       "\n",
       "    .dataframe thead th {\n",
       "        text-align: right;\n",
       "    }\n",
       "</style>\n",
       "<table border=\"1\" class=\"dataframe\">\n",
       "  <thead>\n",
       "    <tr style=\"text-align: right;\">\n",
       "      <th></th>\n",
       "      <th>Geography</th>\n",
       "      <th>Persons for whom poverty status determined</th>\n",
       "      <th>Individuals- income below poverty level</th>\n",
       "      <th>Population 16 years and over</th>\n",
       "      <th>In labor force</th>\n",
       "      <th>Employed civilians</th>\n",
       "      <th>Unemployed civilians</th>\n",
       "      <th>us</th>\n",
       "    </tr>\n",
       "  </thead>\n",
       "  <tbody>\n",
       "    <tr>\n",
       "      <th>0</th>\n",
       "      <td>United States</td>\n",
       "      <td>310899910</td>\n",
       "      <td>48208387</td>\n",
       "      <td>253588947</td>\n",
       "      <td>160532722</td>\n",
       "      <td>148019908</td>\n",
       "      <td>11530544</td>\n",
       "      <td>1</td>\n",
       "    </tr>\n",
       "  </tbody>\n",
       "</table>\n",
       "</div>"
      ],
      "text/plain": [
       "       Geography Persons for whom poverty status determined  \\\n",
       "0  United States                                  310899910   \n",
       "\n",
       "  Individuals- income below poverty level Population 16 years and over  \\\n",
       "0                                48208387                    253588947   \n",
       "\n",
       "  In labor force Employed civilians Unemployed civilians us  \n",
       "0      160532722          148019908             11530544  1  "
      ]
     },
     "execution_count": 18,
     "metadata": {},
     "output_type": "execute_result"
    }
   ],
   "source": [
    "us_df_rates = us_df_rates.rename(columns={\n",
    "                                      \"B17001_001E\": \"Persons for whom poverty status determined\",    \n",
    "                                      \"B17001_002E\": \"Individuals- income below poverty level\",# universe: persons for whom poverty status is determined\n",
    "                                      \"B23025_001E\":  \"Population 16 years and over\",\n",
    "                                      \"B23025_002E\": \"In labor force\", # universe: Population 16 years and over\n",
    "                                      \"B23025_004E\": \"Employed civilians\", # universe: Population 16 years and over\n",
    "                                      \"B23025_005E\": \"Unemployed civilians\", # universe: Population 16 years and over\n",
    "                                      \"NAME\": \"Geography\"\n",
    "                                      })\n",
    "us_df_rates.head()"
   ]
  },
  {
   "cell_type": "code",
   "execution_count": 19,
   "id": "609045ef",
   "metadata": {},
   "outputs": [
    {
     "data": {
      "text/html": [
       "<div>\n",
       "<style scoped>\n",
       "    .dataframe tbody tr th:only-of-type {\n",
       "        vertical-align: middle;\n",
       "    }\n",
       "\n",
       "    .dataframe tbody tr th {\n",
       "        vertical-align: top;\n",
       "    }\n",
       "\n",
       "    .dataframe thead th {\n",
       "        text-align: right;\n",
       "    }\n",
       "</style>\n",
       "<table border=\"1\" class=\"dataframe\">\n",
       "  <thead>\n",
       "    <tr style=\"text-align: right;\">\n",
       "      <th></th>\n",
       "      <th>Geography</th>\n",
       "      <th>Persons for whom poverty status determined</th>\n",
       "      <th>Individuals- income below poverty level</th>\n",
       "      <th>Population 16 years and over</th>\n",
       "      <th>In labor force</th>\n",
       "      <th>Employed civilians</th>\n",
       "      <th>Unemployed civilians</th>\n",
       "      <th>us</th>\n",
       "      <th>Unemployment rate</th>\n",
       "    </tr>\n",
       "  </thead>\n",
       "  <tbody>\n",
       "    <tr>\n",
       "      <th>0</th>\n",
       "      <td>United States</td>\n",
       "      <td>310899910</td>\n",
       "      <td>48208387</td>\n",
       "      <td>253588947</td>\n",
       "      <td>160532722</td>\n",
       "      <td>148019908</td>\n",
       "      <td>11530544</td>\n",
       "      <td>1</td>\n",
       "      <td>5.0</td>\n",
       "    </tr>\n",
       "  </tbody>\n",
       "</table>\n",
       "</div>"
      ],
      "text/plain": [
       "       Geography Persons for whom poverty status determined  \\\n",
       "0  United States                                  310899910   \n",
       "\n",
       "  Individuals- income below poverty level Population 16 years and over  \\\n",
       "0                                48208387                    253588947   \n",
       "\n",
       "  In labor force Employed civilians Unemployed civilians us  Unemployment rate  \n",
       "0      160532722          148019908             11530544  1                5.0  "
      ]
     },
     "execution_count": 19,
     "metadata": {},
     "output_type": "execute_result"
    }
   ],
   "source": [
    "# Add a new column for unemployment rate \n",
    "us_df_rates[\"Unemployment rate\"] = (100 * \\\n",
    "    us_df_rates[\"Unemployed civilians\"].astype(\n",
    "        int) / us_df_rates[\"Population 16 years and over\"].astype(int)).round()\n",
    "us_df_rates.head()"
   ]
  },
  {
   "cell_type": "code",
   "execution_count": 20,
   "id": "e1e3ad8e",
   "metadata": {},
   "outputs": [
    {
     "data": {
      "text/html": [
       "<div>\n",
       "<style scoped>\n",
       "    .dataframe tbody tr th:only-of-type {\n",
       "        vertical-align: middle;\n",
       "    }\n",
       "\n",
       "    .dataframe tbody tr th {\n",
       "        vertical-align: top;\n",
       "    }\n",
       "\n",
       "    .dataframe thead th {\n",
       "        text-align: right;\n",
       "    }\n",
       "</style>\n",
       "<table border=\"1\" class=\"dataframe\">\n",
       "  <thead>\n",
       "    <tr style=\"text-align: right;\">\n",
       "      <th></th>\n",
       "      <th>Geography</th>\n",
       "      <th>Persons for whom poverty status determined</th>\n",
       "      <th>Individuals- income below poverty level</th>\n",
       "      <th>Population 16 years and over</th>\n",
       "      <th>In labor force</th>\n",
       "      <th>Employed civilians</th>\n",
       "      <th>Unemployed civilians</th>\n",
       "      <th>us</th>\n",
       "      <th>Unemployment rate</th>\n",
       "      <th>Labor participation rate</th>\n",
       "    </tr>\n",
       "  </thead>\n",
       "  <tbody>\n",
       "    <tr>\n",
       "      <th>0</th>\n",
       "      <td>United States</td>\n",
       "      <td>310899910</td>\n",
       "      <td>48208387</td>\n",
       "      <td>253588947</td>\n",
       "      <td>160532722</td>\n",
       "      <td>148019908</td>\n",
       "      <td>11530544</td>\n",
       "      <td>1</td>\n",
       "      <td>5.0</td>\n",
       "      <td>-4.4</td>\n",
       "    </tr>\n",
       "  </tbody>\n",
       "</table>\n",
       "</div>"
      ],
      "text/plain": [
       "       Geography Persons for whom poverty status determined  \\\n",
       "0  United States                                  310899910   \n",
       "\n",
       "  Individuals- income below poverty level Population 16 years and over  \\\n",
       "0                                48208387                    253588947   \n",
       "\n",
       "  In labor force Employed civilians Unemployed civilians us  \\\n",
       "0      160532722          148019908             11530544  1   \n",
       "\n",
       "   Unemployment rate  Labor participation rate  \n",
       "0                5.0                      -4.4  "
      ]
     },
     "execution_count": 20,
     "metadata": {},
     "output_type": "execute_result"
    }
   ],
   "source": [
    "# Add a new column for labor participation rate \n",
    "us_df_rates[\"Labor participation rate\"] = (100 * \\\n",
    "    us_df_rates[\"In labor force\"].astype(\n",
    "        int) / us_df_rates[\"Population 16 years and over\"].astype(int)).round(1)\n",
    "us_df_rates.head()"
   ]
  },
  {
   "cell_type": "code",
   "execution_count": 21,
   "id": "88cf9645",
   "metadata": {},
   "outputs": [],
   "source": [
    "# Export file as a CSV, without the Pandas index, but with the header\n",
    "#rates2015.to_csv(\"us_employment_2015.csv\", index = False, header=True)"
   ]
  }
 ],
 "metadata": {
  "kernelspec": {
   "display_name": "Python 3",
   "language": "python",
   "name": "python3"
  },
  "language_info": {
   "codemirror_mode": {
    "name": "ipython",
    "version": 3
   },
   "file_extension": ".py",
   "mimetype": "text/x-python",
   "name": "python",
   "nbconvert_exporter": "python",
   "pygments_lexer": "ipython3",
   "version": "3.7.13"
  }
 },
 "nbformat": 4,
 "nbformat_minor": 5
}
