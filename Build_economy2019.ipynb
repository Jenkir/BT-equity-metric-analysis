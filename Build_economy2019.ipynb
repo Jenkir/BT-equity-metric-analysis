{
 "cells": [
  {
   "cell_type": "code",
   "execution_count": 1,
   "id": "2f6f2cf7",
   "metadata": {},
   "outputs": [],
   "source": [
    "#  *** THIS DATA (FROM API) HAS BEEN CHECKED AGAINST DATA.CENSUS.GOV TABLES***"
   ]
  },
  {
   "cell_type": "code",
   "execution_count": 2,
   "id": "a5bfa3e0",
   "metadata": {},
   "outputs": [],
   "source": [
    "## Build an equitable economy: INCOME\n",
    "### Baltimore City median income, Black median income, Black-white income gap\n",
    "## 2019"
   ]
  },
  {
   "cell_type": "code",
   "execution_count": 3,
   "id": "4b9616b2",
   "metadata": {},
   "outputs": [],
   "source": [
    "# data source: 2019 Census Data (ACS-1 year) for Selected Variables - Baltimore City\n"
   ]
  },
  {
   "cell_type": "code",
   "execution_count": 4,
   "id": "73176156",
   "metadata": {},
   "outputs": [],
   "source": [
    "#pip install censusdata\n"
   ]
  },
  {
   "cell_type": "code",
   "execution_count": 5,
   "id": "e3541104",
   "metadata": {},
   "outputs": [],
   "source": [
    "# Dependencies\n",
    "\n",
    "import pandas as pd\n",
    "import matplotlib.pyplot as plt\n",
    "import requests\n",
    "import censusdata "
   ]
  },
  {
   "cell_type": "code",
   "execution_count": 6,
   "id": "d92ff12b",
   "metadata": {},
   "outputs": [],
   "source": [
    "import os"
   ]
  },
  {
   "cell_type": "code",
   "execution_count": 7,
   "id": "6de9b788",
   "metadata": {},
   "outputs": [
    {
     "data": {
      "text/plain": [
       "'C:\\\\Users\\\\Jenkir\\\\Desktop\\\\BDC\\\\Baltimore_Together\\\\measuring-success-metrics\\\\BT-equity-metric-analysis'"
      ]
     },
     "execution_count": 7,
     "metadata": {},
     "output_type": "execute_result"
    }
   ],
   "source": [
    "os.getcwd()"
   ]
  },
  {
   "cell_type": "code",
   "execution_count": 8,
   "id": "70066bb3",
   "metadata": {},
   "outputs": [],
   "source": [
    "# need to change the working directory; be sure that the config file for the census API is also in this folder\n",
    "#os.chdir('C:\\\\Users\\\\Jenkir\\\\Desktop\\\\BDC\\\\Baltimore_Together\\\\measuring-success-metrics\\\\analysis_nbs')\n"
   ]
  },
  {
   "cell_type": "code",
   "execution_count": 9,
   "id": "e5c6eb2e",
   "metadata": {},
   "outputs": [],
   "source": [
    "#os.getcwd()"
   ]
  },
  {
   "cell_type": "code",
   "execution_count": 10,
   "id": "a1d86d9b",
   "metadata": {},
   "outputs": [],
   "source": [
    "pd.set_option('display.max_rows', 200)"
   ]
  },
  {
   "cell_type": "code",
   "execution_count": 11,
   "id": "60779a2c",
   "metadata": {},
   "outputs": [],
   "source": [
    "pd.set_option('max_colwidth', 100)"
   ]
  },
  {
   "cell_type": "code",
   "execution_count": 12,
   "id": "e5138716",
   "metadata": {},
   "outputs": [
    {
     "data": {
      "text/html": [
       "<div>\n",
       "<style scoped>\n",
       "    .dataframe tbody tr th:only-of-type {\n",
       "        vertical-align: middle;\n",
       "    }\n",
       "\n",
       "    .dataframe tbody tr th {\n",
       "        vertical-align: top;\n",
       "    }\n",
       "\n",
       "    .dataframe thead th {\n",
       "        text-align: right;\n",
       "    }\n",
       "</style>\n",
       "<table border=\"1\" class=\"dataframe\">\n",
       "  <thead>\n",
       "    <tr style=\"text-align: right;\">\n",
       "      <th></th>\n",
       "      <th>B19001_001E</th>\n",
       "      <th>B01003_001E</th>\n",
       "      <th>B19013_001E</th>\n",
       "      <th>B02001_002E</th>\n",
       "      <th>B02001_003E</th>\n",
       "      <th>B19013A_001E</th>\n",
       "      <th>B19013B_001E</th>\n",
       "    </tr>\n",
       "  </thead>\n",
       "  <tbody>\n",
       "    <tr>\n",
       "      <th>Baltimore city, Maryland: Summary level: 050, state:24&gt; county:510</th>\n",
       "      <td>242694</td>\n",
       "      <td>593490</td>\n",
       "      <td>50177</td>\n",
       "      <td>179979</td>\n",
       "      <td>371243</td>\n",
       "      <td>81116</td>\n",
       "      <td>39101</td>\n",
       "    </tr>\n",
       "  </tbody>\n",
       "</table>\n",
       "</div>"
      ],
      "text/plain": [
       "                                                                    B19001_001E  \\\n",
       "Baltimore city, Maryland: Summary level: 050, state:24> county:510       242694   \n",
       "\n",
       "                                                                    B01003_001E  \\\n",
       "Baltimore city, Maryland: Summary level: 050, state:24> county:510       593490   \n",
       "\n",
       "                                                                    B19013_001E  \\\n",
       "Baltimore city, Maryland: Summary level: 050, state:24> county:510        50177   \n",
       "\n",
       "                                                                    B02001_002E  \\\n",
       "Baltimore city, Maryland: Summary level: 050, state:24> county:510       179979   \n",
       "\n",
       "                                                                    B02001_003E  \\\n",
       "Baltimore city, Maryland: Summary level: 050, state:24> county:510       371243   \n",
       "\n",
       "                                                                    B19013A_001E  \\\n",
       "Baltimore city, Maryland: Summary level: 050, state:24> county:510         81116   \n",
       "\n",
       "                                                                    B19013B_001E  \n",
       "Baltimore city, Maryland: Summary level: 050, state:24> county:510         39101  "
      ]
     },
     "execution_count": 12,
     "metadata": {},
     "output_type": "execute_result"
    }
   ],
   "source": [
    "# American Community Survey 1-Year Data \n",
    "\n",
    "data = censusdata.download('acs1', 2019,\n",
    "                          censusdata.censusgeo([('state', '24'),\n",
    "                                         ('county', '510')]),\n",
    "                                        [\"B19001_001E\",\"B01003_001E\",\n",
    "                                         \"B19013_001E\",\n",
    "                                         \"B02001_002E\", \"B02001_003E\",\n",
    "                                         \"B19013A_001E\", \"B19013B_001E\"])\n",
    "                          \n",
    "census_2019 = pd.DataFrame(data)\n",
    "census_2019"
   ]
  },
  {
   "cell_type": "code",
   "execution_count": 13,
   "id": "43db78e3",
   "metadata": {},
   "outputs": [
    {
     "data": {
      "text/html": [
       "<div>\n",
       "<style scoped>\n",
       "    .dataframe tbody tr th:only-of-type {\n",
       "        vertical-align: middle;\n",
       "    }\n",
       "\n",
       "    .dataframe tbody tr th {\n",
       "        vertical-align: top;\n",
       "    }\n",
       "\n",
       "    .dataframe thead th {\n",
       "        text-align: right;\n",
       "    }\n",
       "</style>\n",
       "<table border=\"1\" class=\"dataframe\">\n",
       "  <thead>\n",
       "    <tr style=\"text-align: right;\">\n",
       "      <th></th>\n",
       "      <th>Total households</th>\n",
       "      <th>Population</th>\n",
       "      <th>Median household income</th>\n",
       "      <th>Pop. white</th>\n",
       "      <th>Pop. Black</th>\n",
       "      <th>Median HH income White Alone Householder</th>\n",
       "      <th>Median HH income Black or African American Alone Householder</th>\n",
       "    </tr>\n",
       "  </thead>\n",
       "  <tbody>\n",
       "    <tr>\n",
       "      <th>Baltimore city, Maryland: Summary level: 050, state:24&gt; county:510</th>\n",
       "      <td>242694</td>\n",
       "      <td>593490</td>\n",
       "      <td>50177</td>\n",
       "      <td>179979</td>\n",
       "      <td>371243</td>\n",
       "      <td>81116</td>\n",
       "      <td>39101</td>\n",
       "    </tr>\n",
       "  </tbody>\n",
       "</table>\n",
       "</div>"
      ],
      "text/plain": [
       "                                                                    Total households  \\\n",
       "Baltimore city, Maryland: Summary level: 050, state:24> county:510            242694   \n",
       "\n",
       "                                                                    Population  \\\n",
       "Baltimore city, Maryland: Summary level: 050, state:24> county:510      593490   \n",
       "\n",
       "                                                                    Median household income  \\\n",
       "Baltimore city, Maryland: Summary level: 050, state:24> county:510                    50177   \n",
       "\n",
       "                                                                    Pop. white  \\\n",
       "Baltimore city, Maryland: Summary level: 050, state:24> county:510      179979   \n",
       "\n",
       "                                                                    Pop. Black  \\\n",
       "Baltimore city, Maryland: Summary level: 050, state:24> county:510      371243   \n",
       "\n",
       "                                                                    Median HH income White Alone Householder  \\\n",
       "Baltimore city, Maryland: Summary level: 050, state:24> county:510                                     81116   \n",
       "\n",
       "                                                                    Median HH income Black or African American Alone Householder  \n",
       "Baltimore city, Maryland: Summary level: 050, state:24> county:510                                                         39101  "
      ]
     },
     "execution_count": 13,
     "metadata": {},
     "output_type": "execute_result"
    }
   ],
   "source": [
    "# Replace the census variable codes (such as \"B19013_001E\") in the dataframe with text so it's understandable\n",
    "census_2019 = census_2019.rename(columns={\"B19001_001E\": \"Total households\",\n",
    "                                      \"B01003_001E\": \"Population\",\n",
    "                                      \"B19013_001E\": \"Median household income\",\n",
    "                                      \"B02001_003E\": \"Pop. Black\",\n",
    "                                      \"B02001_002E\": \"Pop. white\",\n",
    "                                      \"B19013A_001E\": \"Median HH income White Alone Householder\",\n",
    "                                      \"B19013B_001E\": \"Median HH income Black or African American Alone Householder\",  \n",
    "                                      })\n",
    "census_2019.head()"
   ]
  },
  {
   "cell_type": "code",
   "execution_count": 14,
   "id": "2013a9aa",
   "metadata": {},
   "outputs": [
    {
     "data": {
      "text/html": [
       "<div>\n",
       "<style scoped>\n",
       "    .dataframe tbody tr th:only-of-type {\n",
       "        vertical-align: middle;\n",
       "    }\n",
       "\n",
       "    .dataframe tbody tr th {\n",
       "        vertical-align: top;\n",
       "    }\n",
       "\n",
       "    .dataframe thead th {\n",
       "        text-align: right;\n",
       "    }\n",
       "</style>\n",
       "<table border=\"1\" class=\"dataframe\">\n",
       "  <thead>\n",
       "    <tr style=\"text-align: right;\">\n",
       "      <th></th>\n",
       "      <th>Total households</th>\n",
       "      <th>Population</th>\n",
       "      <th>Median household income</th>\n",
       "      <th>Pop. white</th>\n",
       "      <th>Pop. Black</th>\n",
       "      <th>Median HH income White Alone Householder</th>\n",
       "      <th>Median HH income Black or African American Alone Householder</th>\n",
       "    </tr>\n",
       "  </thead>\n",
       "  <tbody>\n",
       "    <tr>\n",
       "      <th>Baltimore city, Maryland: Summary level: 050, state:24&gt; county:510</th>\n",
       "      <td>242694</td>\n",
       "      <td>593490</td>\n",
       "      <td>50177</td>\n",
       "      <td>179979</td>\n",
       "      <td>371243</td>\n",
       "      <td>81116</td>\n",
       "      <td>39101</td>\n",
       "    </tr>\n",
       "  </tbody>\n",
       "</table>\n",
       "</div>"
      ],
      "text/plain": [
       "                                                                    Total households  \\\n",
       "Baltimore city, Maryland: Summary level: 050, state:24> county:510            242694   \n",
       "\n",
       "                                                                    Population  \\\n",
       "Baltimore city, Maryland: Summary level: 050, state:24> county:510      593490   \n",
       "\n",
       "                                                                    Median household income  \\\n",
       "Baltimore city, Maryland: Summary level: 050, state:24> county:510                    50177   \n",
       "\n",
       "                                                                    Pop. white  \\\n",
       "Baltimore city, Maryland: Summary level: 050, state:24> county:510      179979   \n",
       "\n",
       "                                                                    Pop. Black  \\\n",
       "Baltimore city, Maryland: Summary level: 050, state:24> county:510      371243   \n",
       "\n",
       "                                                                    Median HH income White Alone Householder  \\\n",
       "Baltimore city, Maryland: Summary level: 050, state:24> county:510                                     81116   \n",
       "\n",
       "                                                                    Median HH income Black or African American Alone Householder  \n",
       "Baltimore city, Maryland: Summary level: 050, state:24> county:510                                                         39101  "
      ]
     },
     "execution_count": 14,
     "metadata": {},
     "output_type": "execute_result"
    }
   ],
   "source": [
    "census = census_2019.copy()\n",
    "census"
   ]
  },
  {
   "cell_type": "code",
   "execution_count": 15,
   "id": "456246b6",
   "metadata": {},
   "outputs": [
    {
     "data": {
      "text/html": [
       "<div>\n",
       "<style scoped>\n",
       "    .dataframe tbody tr th:only-of-type {\n",
       "        vertical-align: middle;\n",
       "    }\n",
       "\n",
       "    .dataframe tbody tr th {\n",
       "        vertical-align: top;\n",
       "    }\n",
       "\n",
       "    .dataframe thead th {\n",
       "        text-align: right;\n",
       "    }\n",
       "</style>\n",
       "<table border=\"1\" class=\"dataframe\">\n",
       "  <thead>\n",
       "    <tr style=\"text-align: right;\">\n",
       "      <th></th>\n",
       "      <th>Total households</th>\n",
       "      <th>Population</th>\n",
       "      <th>Median household income</th>\n",
       "      <th>Pop. white</th>\n",
       "      <th>Pop. Black</th>\n",
       "      <th>Median HH income White Alone Householder</th>\n",
       "      <th>Median HH income Black or African American Alone Householder</th>\n",
       "    </tr>\n",
       "  </thead>\n",
       "  <tbody>\n",
       "    <tr>\n",
       "      <th>Baltimore, 2019</th>\n",
       "      <td>242694</td>\n",
       "      <td>593490</td>\n",
       "      <td>50177</td>\n",
       "      <td>179979</td>\n",
       "      <td>371243</td>\n",
       "      <td>81116</td>\n",
       "      <td>39101</td>\n",
       "    </tr>\n",
       "  </tbody>\n",
       "</table>\n",
       "</div>"
      ],
      "text/plain": [
       "                 Total households  Population  Median household income  \\\n",
       "Baltimore, 2019            242694      593490                    50177   \n",
       "\n",
       "                 Pop. white  Pop. Black  \\\n",
       "Baltimore, 2019      179979      371243   \n",
       "\n",
       "                 Median HH income White Alone Householder  \\\n",
       "Baltimore, 2019                                     81116   \n",
       "\n",
       "                 Median HH income Black or African American Alone Householder  \n",
       "Baltimore, 2019                                                         39101  "
      ]
     },
     "execution_count": 15,
     "metadata": {},
     "output_type": "execute_result"
    }
   ],
   "source": [
    "census.index = ['Baltimore, 2019']\n",
    "census"
   ]
  },
  {
   "cell_type": "code",
   "execution_count": 16,
   "id": "808a7748",
   "metadata": {},
   "outputs": [
    {
     "data": {
      "text/html": [
       "<div>\n",
       "<style scoped>\n",
       "    .dataframe tbody tr th:only-of-type {\n",
       "        vertical-align: middle;\n",
       "    }\n",
       "\n",
       "    .dataframe tbody tr th {\n",
       "        vertical-align: top;\n",
       "    }\n",
       "\n",
       "    .dataframe thead th {\n",
       "        text-align: right;\n",
       "    }\n",
       "</style>\n",
       "<table border=\"1\" class=\"dataframe\">\n",
       "  <thead>\n",
       "    <tr style=\"text-align: right;\">\n",
       "      <th></th>\n",
       "      <th>index</th>\n",
       "      <th>Total households</th>\n",
       "      <th>Population</th>\n",
       "      <th>Median household income</th>\n",
       "      <th>Pop. white</th>\n",
       "      <th>Pop. Black</th>\n",
       "      <th>Median HH income White Alone Householder</th>\n",
       "      <th>Median HH income Black or African American Alone Householder</th>\n",
       "    </tr>\n",
       "  </thead>\n",
       "  <tbody>\n",
       "    <tr>\n",
       "      <th>0</th>\n",
       "      <td>Baltimore, 2019</td>\n",
       "      <td>242694</td>\n",
       "      <td>593490</td>\n",
       "      <td>50177</td>\n",
       "      <td>179979</td>\n",
       "      <td>371243</td>\n",
       "      <td>81116</td>\n",
       "      <td>39101</td>\n",
       "    </tr>\n",
       "  </tbody>\n",
       "</table>\n",
       "</div>"
      ],
      "text/plain": [
       "             index  Total households  Population  Median household income  \\\n",
       "0  Baltimore, 2019            242694      593490                    50177   \n",
       "\n",
       "   Pop. white  Pop. Black  Median HH income White Alone Householder  \\\n",
       "0      179979      371243                                     81116   \n",
       "\n",
       "   Median HH income Black or African American Alone Householder  \n",
       "0                                                         39101  "
      ]
     },
     "execution_count": 16,
     "metadata": {},
     "output_type": "execute_result"
    }
   ],
   "source": [
    "census = census.reset_index()\n",
    "census"
   ]
  },
  {
   "cell_type": "code",
   "execution_count": 17,
   "id": "9fadf387",
   "metadata": {},
   "outputs": [
    {
     "data": {
      "text/html": [
       "<div>\n",
       "<style scoped>\n",
       "    .dataframe tbody tr th:only-of-type {\n",
       "        vertical-align: middle;\n",
       "    }\n",
       "\n",
       "    .dataframe tbody tr th {\n",
       "        vertical-align: top;\n",
       "    }\n",
       "\n",
       "    .dataframe thead th {\n",
       "        text-align: right;\n",
       "    }\n",
       "</style>\n",
       "<table border=\"1\" class=\"dataframe\">\n",
       "  <thead>\n",
       "    <tr style=\"text-align: right;\">\n",
       "      <th></th>\n",
       "      <th>Year</th>\n",
       "      <th>Total households</th>\n",
       "      <th>Population</th>\n",
       "      <th>Median household income</th>\n",
       "      <th>Pop. white</th>\n",
       "      <th>Pop. Black</th>\n",
       "      <th>Median HH income White Alone Householder</th>\n",
       "      <th>Median HH income Black or African American Alone Householder</th>\n",
       "    </tr>\n",
       "  </thead>\n",
       "  <tbody>\n",
       "    <tr>\n",
       "      <th>0</th>\n",
       "      <td>Baltimore, 2019</td>\n",
       "      <td>242694</td>\n",
       "      <td>593490</td>\n",
       "      <td>50177</td>\n",
       "      <td>179979</td>\n",
       "      <td>371243</td>\n",
       "      <td>81116</td>\n",
       "      <td>39101</td>\n",
       "    </tr>\n",
       "  </tbody>\n",
       "</table>\n",
       "</div>"
      ],
      "text/plain": [
       "              Year  Total households  Population  Median household income  \\\n",
       "0  Baltimore, 2019            242694      593490                    50177   \n",
       "\n",
       "   Pop. white  Pop. Black  Median HH income White Alone Householder  \\\n",
       "0      179979      371243                                     81116   \n",
       "\n",
       "   Median HH income Black or African American Alone Householder  \n",
       "0                                                         39101  "
      ]
     },
     "execution_count": 17,
     "metadata": {},
     "output_type": "execute_result"
    }
   ],
   "source": [
    "census = census.rename(columns={\"index\": \"Year\"})                                           \n",
    "census "
   ]
  },
  {
   "cell_type": "code",
   "execution_count": 18,
   "id": "b0ed1d1c",
   "metadata": {},
   "outputs": [
    {
     "data": {
      "text/html": [
       "<div>\n",
       "<style scoped>\n",
       "    .dataframe tbody tr th:only-of-type {\n",
       "        vertical-align: middle;\n",
       "    }\n",
       "\n",
       "    .dataframe tbody tr th {\n",
       "        vertical-align: top;\n",
       "    }\n",
       "\n",
       "    .dataframe thead th {\n",
       "        text-align: right;\n",
       "    }\n",
       "</style>\n",
       "<table border=\"1\" class=\"dataframe\">\n",
       "  <thead>\n",
       "    <tr style=\"text-align: right;\">\n",
       "      <th></th>\n",
       "      <th>Year</th>\n",
       "      <th>Total households</th>\n",
       "      <th>Population</th>\n",
       "      <th>Median household income</th>\n",
       "      <th>Pop. white</th>\n",
       "      <th>Pop. Black</th>\n",
       "      <th>Median HH income White Alone Householder</th>\n",
       "      <th>Median HH income Black or African American Alone Householder</th>\n",
       "    </tr>\n",
       "  </thead>\n",
       "  <tbody>\n",
       "    <tr>\n",
       "      <th>0</th>\n",
       "      <td>Baltimore, 2019</td>\n",
       "      <td>242694</td>\n",
       "      <td>593490</td>\n",
       "      <td>50177</td>\n",
       "      <td>179979</td>\n",
       "      <td>371243</td>\n",
       "      <td>81116</td>\n",
       "      <td>39101</td>\n",
       "    </tr>\n",
       "  </tbody>\n",
       "</table>\n",
       "</div>"
      ],
      "text/plain": [
       "              Year  Total households  Population  Median household income  \\\n",
       "0  Baltimore, 2019            242694      593490                    50177   \n",
       "\n",
       "   Pop. white  Pop. Black  Median HH income White Alone Householder  \\\n",
       "0      179979      371243                                     81116   \n",
       "\n",
       "   Median HH income Black or African American Alone Householder  \n",
       "0                                                         39101  "
      ]
     },
     "execution_count": 18,
     "metadata": {},
     "output_type": "execute_result"
    }
   ],
   "source": [
    "income_2019 = census.copy()\n",
    "income_2019"
   ]
  },
  {
   "cell_type": "code",
   "execution_count": 19,
   "id": "90f98963",
   "metadata": {},
   "outputs": [
    {
     "data": {
      "text/html": [
       "<div>\n",
       "<style scoped>\n",
       "    .dataframe tbody tr th:only-of-type {\n",
       "        vertical-align: middle;\n",
       "    }\n",
       "\n",
       "    .dataframe tbody tr th {\n",
       "        vertical-align: top;\n",
       "    }\n",
       "\n",
       "    .dataframe thead th {\n",
       "        text-align: right;\n",
       "    }\n",
       "</style>\n",
       "<table border=\"1\" class=\"dataframe\">\n",
       "  <thead>\n",
       "    <tr style=\"text-align: right;\">\n",
       "      <th></th>\n",
       "      <th>Year</th>\n",
       "      <th>Total households</th>\n",
       "      <th>Population</th>\n",
       "      <th>Median household income</th>\n",
       "      <th>Pop. white</th>\n",
       "      <th>Pop. Black</th>\n",
       "      <th>Median HH income White Alone Householder</th>\n",
       "      <th>Median HH income Black or African American Alone Householder</th>\n",
       "      <th>Location</th>\n",
       "    </tr>\n",
       "  </thead>\n",
       "  <tbody>\n",
       "    <tr>\n",
       "      <th>0</th>\n",
       "      <td>2019</td>\n",
       "      <td>242694</td>\n",
       "      <td>593490</td>\n",
       "      <td>50177</td>\n",
       "      <td>179979</td>\n",
       "      <td>371243</td>\n",
       "      <td>81116</td>\n",
       "      <td>39101</td>\n",
       "      <td>Baltimore</td>\n",
       "    </tr>\n",
       "  </tbody>\n",
       "</table>\n",
       "</div>"
      ],
      "text/plain": [
       "    Year  Total households  Population  Median household income  Pop. white  \\\n",
       "0   2019            242694      593490                    50177      179979   \n",
       "\n",
       "   Pop. Black  Median HH income White Alone Householder  \\\n",
       "0      371243                                     81116   \n",
       "\n",
       "   Median HH income Black or African American Alone Householder   Location  \n",
       "0                                                         39101  Baltimore  "
      ]
     },
     "execution_count": 19,
     "metadata": {},
     "output_type": "execute_result"
    }
   ],
   "source": [
    "income_2019[[\"Location\", \"Year\"]] = income_2019.Year.str.split(\",\", expand=True)\n",
    "income_2019"
   ]
  },
  {
   "cell_type": "code",
   "execution_count": 20,
   "id": "baa33982",
   "metadata": {},
   "outputs": [],
   "source": [
    "# Export file as a CSV, without the Pandas index, but with the header\n",
    "#income_2019.to_csv(\"balt_income_2019.csv\", index = False, header=True)"
   ]
  },
  {
   "cell_type": "code",
   "execution_count": null,
   "id": "816daccf",
   "metadata": {},
   "outputs": [],
   "source": []
  },
  {
   "cell_type": "code",
   "execution_count": null,
   "id": "b2afa648",
   "metadata": {},
   "outputs": [],
   "source": []
  },
  {
   "cell_type": "code",
   "execution_count": null,
   "id": "b360b4ad",
   "metadata": {},
   "outputs": [],
   "source": []
  },
  {
   "cell_type": "code",
   "execution_count": 21,
   "id": "f696e26f",
   "metadata": {},
   "outputs": [
    {
     "data": {
      "text/html": [
       "<div>\n",
       "<style scoped>\n",
       "    .dataframe tbody tr th:only-of-type {\n",
       "        vertical-align: middle;\n",
       "    }\n",
       "\n",
       "    .dataframe tbody tr th {\n",
       "        vertical-align: top;\n",
       "    }\n",
       "\n",
       "    .dataframe thead th {\n",
       "        text-align: right;\n",
       "    }\n",
       "</style>\n",
       "<table border=\"1\" class=\"dataframe\">\n",
       "  <thead>\n",
       "    <tr style=\"text-align: right;\">\n",
       "      <th></th>\n",
       "      <th>B17001_001E</th>\n",
       "      <th>B17001_002E</th>\n",
       "      <th>B23025_001E</th>\n",
       "      <th>B23025_002E</th>\n",
       "      <th>B23025_004E</th>\n",
       "      <th>B23025_005E</th>\n",
       "    </tr>\n",
       "  </thead>\n",
       "  <tbody>\n",
       "    <tr>\n",
       "      <th>Baltimore city, Maryland: Summary level: 050, state:24&gt; county:510</th>\n",
       "      <td>570960</td>\n",
       "      <td>115472</td>\n",
       "      <td>485560</td>\n",
       "      <td>303032</td>\n",
       "      <td>280352</td>\n",
       "      <td>22110</td>\n",
       "    </tr>\n",
       "  </tbody>\n",
       "</table>\n",
       "</div>"
      ],
      "text/plain": [
       "                                                                    B17001_001E  \\\n",
       "Baltimore city, Maryland: Summary level: 050, state:24> county:510       570960   \n",
       "\n",
       "                                                                    B17001_002E  \\\n",
       "Baltimore city, Maryland: Summary level: 050, state:24> county:510       115472   \n",
       "\n",
       "                                                                    B23025_001E  \\\n",
       "Baltimore city, Maryland: Summary level: 050, state:24> county:510       485560   \n",
       "\n",
       "                                                                    B23025_002E  \\\n",
       "Baltimore city, Maryland: Summary level: 050, state:24> county:510       303032   \n",
       "\n",
       "                                                                    B23025_004E  \\\n",
       "Baltimore city, Maryland: Summary level: 050, state:24> county:510       280352   \n",
       "\n",
       "                                                                    B23025_005E  \n",
       "Baltimore city, Maryland: Summary level: 050, state:24> county:510        22110  "
      ]
     },
     "execution_count": 21,
     "metadata": {},
     "output_type": "execute_result"
    }
   ],
   "source": [
    "# American Community Survey 1-Year Data \n",
    "data_rates = censusdata.download('acs1', 2019,\n",
    "                          censusdata.censusgeo([('state', '24'),\n",
    "                                         ('county', '510')]),\n",
    "                                        [\"B17001_001E\",\"B17001_002E\",\"B23025_001E\",\"B23025_002E\",\n",
    "                                         \"B23025_004E\",\"B23025_005E\"\n",
    "                                        ])\n",
    "rates_2019 = pd.DataFrame(data_rates)\n",
    "rates_2019"
   ]
  },
  {
   "cell_type": "code",
   "execution_count": 22,
   "id": "ee1b0d9a",
   "metadata": {},
   "outputs": [
    {
     "data": {
      "text/html": [
       "<div>\n",
       "<style scoped>\n",
       "    .dataframe tbody tr th:only-of-type {\n",
       "        vertical-align: middle;\n",
       "    }\n",
       "\n",
       "    .dataframe tbody tr th {\n",
       "        vertical-align: top;\n",
       "    }\n",
       "\n",
       "    .dataframe thead th {\n",
       "        text-align: right;\n",
       "    }\n",
       "</style>\n",
       "<table border=\"1\" class=\"dataframe\">\n",
       "  <thead>\n",
       "    <tr style=\"text-align: right;\">\n",
       "      <th></th>\n",
       "      <th>Persons for whom poverty status determined</th>\n",
       "      <th>Individuals- income below poverty level</th>\n",
       "      <th>Population 16 years and over</th>\n",
       "      <th>In labor force</th>\n",
       "      <th>Employed civilians</th>\n",
       "      <th>Unemployed civilians</th>\n",
       "    </tr>\n",
       "  </thead>\n",
       "  <tbody>\n",
       "    <tr>\n",
       "      <th>Baltimore city, Maryland: Summary level: 050, state:24&gt; county:510</th>\n",
       "      <td>570960</td>\n",
       "      <td>115472</td>\n",
       "      <td>485560</td>\n",
       "      <td>303032</td>\n",
       "      <td>280352</td>\n",
       "      <td>22110</td>\n",
       "    </tr>\n",
       "  </tbody>\n",
       "</table>\n",
       "</div>"
      ],
      "text/plain": [
       "                                                                    Persons for whom poverty status determined  \\\n",
       "Baltimore city, Maryland: Summary level: 050, state:24> county:510                                      570960   \n",
       "\n",
       "                                                                    Individuals- income below poverty level  \\\n",
       "Baltimore city, Maryland: Summary level: 050, state:24> county:510                                   115472   \n",
       "\n",
       "                                                                    Population 16 years and over  \\\n",
       "Baltimore city, Maryland: Summary level: 050, state:24> county:510                        485560   \n",
       "\n",
       "                                                                    In labor force  \\\n",
       "Baltimore city, Maryland: Summary level: 050, state:24> county:510          303032   \n",
       "\n",
       "                                                                    Employed civilians  \\\n",
       "Baltimore city, Maryland: Summary level: 050, state:24> county:510              280352   \n",
       "\n",
       "                                                                    Unemployed civilians  \n",
       "Baltimore city, Maryland: Summary level: 050, state:24> county:510                 22110  "
      ]
     },
     "execution_count": 22,
     "metadata": {},
     "output_type": "execute_result"
    }
   ],
   "source": [
    "rates_2019 = rates_2019.rename(columns={\n",
    "                                      \"B17001_001E\": \"Persons for whom poverty status determined\",    \n",
    "                                      \"B17001_002E\": \"Individuals- income below poverty level\",# universe: persons for whom poverty status is determined\n",
    "                                      \"B23025_001E\":  \"Population 16 years and over\",\n",
    "                                      \"B23025_002E\": \"In labor force\", # universe: Population 16 years and over\n",
    "                                      \"B23025_004E\": \"Employed civilians\", # universe: Population 16 years and over\n",
    "                                      \"B23025_005E\": \"Unemployed civilians\", # universe: Population 16 years and over\n",
    "                                      })\n",
    "rates_2019.head()"
   ]
  },
  {
   "cell_type": "code",
   "execution_count": 23,
   "id": "57af5250",
   "metadata": {},
   "outputs": [],
   "source": [
    "rates2019 = rates_2019.copy()"
   ]
  },
  {
   "cell_type": "code",
   "execution_count": 24,
   "id": "ffc8b04a",
   "metadata": {},
   "outputs": [
    {
     "data": {
      "text/html": [
       "<div>\n",
       "<style scoped>\n",
       "    .dataframe tbody tr th:only-of-type {\n",
       "        vertical-align: middle;\n",
       "    }\n",
       "\n",
       "    .dataframe tbody tr th {\n",
       "        vertical-align: top;\n",
       "    }\n",
       "\n",
       "    .dataframe thead th {\n",
       "        text-align: right;\n",
       "    }\n",
       "</style>\n",
       "<table border=\"1\" class=\"dataframe\">\n",
       "  <thead>\n",
       "    <tr style=\"text-align: right;\">\n",
       "      <th></th>\n",
       "      <th>Persons for whom poverty status determined</th>\n",
       "      <th>Individuals- income below poverty level</th>\n",
       "      <th>Population 16 years and over</th>\n",
       "      <th>In labor force</th>\n",
       "      <th>Employed civilians</th>\n",
       "      <th>Unemployed civilians</th>\n",
       "    </tr>\n",
       "  </thead>\n",
       "  <tbody>\n",
       "    <tr>\n",
       "      <th>Baltimore, 2019</th>\n",
       "      <td>570960</td>\n",
       "      <td>115472</td>\n",
       "      <td>485560</td>\n",
       "      <td>303032</td>\n",
       "      <td>280352</td>\n",
       "      <td>22110</td>\n",
       "    </tr>\n",
       "  </tbody>\n",
       "</table>\n",
       "</div>"
      ],
      "text/plain": [
       "                 Persons for whom poverty status determined  \\\n",
       "Baltimore, 2019                                      570960   \n",
       "\n",
       "                 Individuals- income below poverty level  \\\n",
       "Baltimore, 2019                                   115472   \n",
       "\n",
       "                 Population 16 years and over  In labor force  \\\n",
       "Baltimore, 2019                        485560          303032   \n",
       "\n",
       "                 Employed civilians  Unemployed civilians  \n",
       "Baltimore, 2019              280352                 22110  "
      ]
     },
     "execution_count": 24,
     "metadata": {},
     "output_type": "execute_result"
    }
   ],
   "source": [
    "rates2019.index = ['Baltimore, 2019']\n",
    "rates2019"
   ]
  },
  {
   "cell_type": "code",
   "execution_count": 25,
   "id": "8c51829e",
   "metadata": {},
   "outputs": [
    {
     "data": {
      "text/html": [
       "<div>\n",
       "<style scoped>\n",
       "    .dataframe tbody tr th:only-of-type {\n",
       "        vertical-align: middle;\n",
       "    }\n",
       "\n",
       "    .dataframe tbody tr th {\n",
       "        vertical-align: top;\n",
       "    }\n",
       "\n",
       "    .dataframe thead th {\n",
       "        text-align: right;\n",
       "    }\n",
       "</style>\n",
       "<table border=\"1\" class=\"dataframe\">\n",
       "  <thead>\n",
       "    <tr style=\"text-align: right;\">\n",
       "      <th></th>\n",
       "      <th>index</th>\n",
       "      <th>Persons for whom poverty status determined</th>\n",
       "      <th>Individuals- income below poverty level</th>\n",
       "      <th>Population 16 years and over</th>\n",
       "      <th>In labor force</th>\n",
       "      <th>Employed civilians</th>\n",
       "      <th>Unemployed civilians</th>\n",
       "    </tr>\n",
       "  </thead>\n",
       "  <tbody>\n",
       "    <tr>\n",
       "      <th>0</th>\n",
       "      <td>Baltimore, 2019</td>\n",
       "      <td>570960</td>\n",
       "      <td>115472</td>\n",
       "      <td>485560</td>\n",
       "      <td>303032</td>\n",
       "      <td>280352</td>\n",
       "      <td>22110</td>\n",
       "    </tr>\n",
       "  </tbody>\n",
       "</table>\n",
       "</div>"
      ],
      "text/plain": [
       "             index  Persons for whom poverty status determined  \\\n",
       "0  Baltimore, 2019                                      570960   \n",
       "\n",
       "   Individuals- income below poverty level  Population 16 years and over  \\\n",
       "0                                   115472                        485560   \n",
       "\n",
       "   In labor force  Employed civilians  Unemployed civilians  \n",
       "0          303032              280352                 22110  "
      ]
     },
     "execution_count": 25,
     "metadata": {},
     "output_type": "execute_result"
    }
   ],
   "source": [
    "rates2019 = rates2019.reset_index()\n",
    "rates2019"
   ]
  },
  {
   "cell_type": "code",
   "execution_count": 26,
   "id": "b3011b72",
   "metadata": {},
   "outputs": [
    {
     "data": {
      "text/html": [
       "<div>\n",
       "<style scoped>\n",
       "    .dataframe tbody tr th:only-of-type {\n",
       "        vertical-align: middle;\n",
       "    }\n",
       "\n",
       "    .dataframe tbody tr th {\n",
       "        vertical-align: top;\n",
       "    }\n",
       "\n",
       "    .dataframe thead th {\n",
       "        text-align: right;\n",
       "    }\n",
       "</style>\n",
       "<table border=\"1\" class=\"dataframe\">\n",
       "  <thead>\n",
       "    <tr style=\"text-align: right;\">\n",
       "      <th></th>\n",
       "      <th>Year</th>\n",
       "      <th>Persons for whom poverty status determined</th>\n",
       "      <th>Individuals- income below poverty level</th>\n",
       "      <th>Population 16 years and over</th>\n",
       "      <th>In labor force</th>\n",
       "      <th>Employed civilians</th>\n",
       "      <th>Unemployed civilians</th>\n",
       "    </tr>\n",
       "  </thead>\n",
       "  <tbody>\n",
       "    <tr>\n",
       "      <th>0</th>\n",
       "      <td>Baltimore, 2019</td>\n",
       "      <td>570960</td>\n",
       "      <td>115472</td>\n",
       "      <td>485560</td>\n",
       "      <td>303032</td>\n",
       "      <td>280352</td>\n",
       "      <td>22110</td>\n",
       "    </tr>\n",
       "  </tbody>\n",
       "</table>\n",
       "</div>"
      ],
      "text/plain": [
       "              Year  Persons for whom poverty status determined  \\\n",
       "0  Baltimore, 2019                                      570960   \n",
       "\n",
       "   Individuals- income below poverty level  Population 16 years and over  \\\n",
       "0                                   115472                        485560   \n",
       "\n",
       "   In labor force  Employed civilians  Unemployed civilians  \n",
       "0          303032              280352                 22110  "
      ]
     },
     "execution_count": 26,
     "metadata": {},
     "output_type": "execute_result"
    }
   ],
   "source": [
    "rates2019 = rates2019.rename(columns={\"index\": \"Year\"})                                           \n",
    "rates2019 "
   ]
  },
  {
   "cell_type": "code",
   "execution_count": 27,
   "id": "6b80bb41",
   "metadata": {},
   "outputs": [
    {
     "data": {
      "text/html": [
       "<div>\n",
       "<style scoped>\n",
       "    .dataframe tbody tr th:only-of-type {\n",
       "        vertical-align: middle;\n",
       "    }\n",
       "\n",
       "    .dataframe tbody tr th {\n",
       "        vertical-align: top;\n",
       "    }\n",
       "\n",
       "    .dataframe thead th {\n",
       "        text-align: right;\n",
       "    }\n",
       "</style>\n",
       "<table border=\"1\" class=\"dataframe\">\n",
       "  <thead>\n",
       "    <tr style=\"text-align: right;\">\n",
       "      <th></th>\n",
       "      <th>Year</th>\n",
       "      <th>Persons for whom poverty status determined</th>\n",
       "      <th>Individuals- income below poverty level</th>\n",
       "      <th>Population 16 years and over</th>\n",
       "      <th>In labor force</th>\n",
       "      <th>Employed civilians</th>\n",
       "      <th>Unemployed civilians</th>\n",
       "      <th>Location</th>\n",
       "    </tr>\n",
       "  </thead>\n",
       "  <tbody>\n",
       "    <tr>\n",
       "      <th>0</th>\n",
       "      <td>2019</td>\n",
       "      <td>570960</td>\n",
       "      <td>115472</td>\n",
       "      <td>485560</td>\n",
       "      <td>303032</td>\n",
       "      <td>280352</td>\n",
       "      <td>22110</td>\n",
       "      <td>Baltimore</td>\n",
       "    </tr>\n",
       "  </tbody>\n",
       "</table>\n",
       "</div>"
      ],
      "text/plain": [
       "    Year  Persons for whom poverty status determined  \\\n",
       "0   2019                                      570960   \n",
       "\n",
       "   Individuals- income below poverty level  Population 16 years and over  \\\n",
       "0                                   115472                        485560   \n",
       "\n",
       "   In labor force  Employed civilians  Unemployed civilians   Location  \n",
       "0          303032              280352                 22110  Baltimore  "
      ]
     },
     "execution_count": 27,
     "metadata": {},
     "output_type": "execute_result"
    }
   ],
   "source": [
    "rates2019 [[\"Location\", \"Year\"]] = rates2019 .Year.str.split(\",\", expand=True)\n",
    "rates2019 "
   ]
  },
  {
   "cell_type": "code",
   "execution_count": 28,
   "id": "d1e7517d",
   "metadata": {},
   "outputs": [
    {
     "data": {
      "text/html": [
       "<div>\n",
       "<style scoped>\n",
       "    .dataframe tbody tr th:only-of-type {\n",
       "        vertical-align: middle;\n",
       "    }\n",
       "\n",
       "    .dataframe tbody tr th {\n",
       "        vertical-align: top;\n",
       "    }\n",
       "\n",
       "    .dataframe thead th {\n",
       "        text-align: right;\n",
       "    }\n",
       "</style>\n",
       "<table border=\"1\" class=\"dataframe\">\n",
       "  <thead>\n",
       "    <tr style=\"text-align: right;\">\n",
       "      <th></th>\n",
       "      <th>Year</th>\n",
       "      <th>Persons for whom poverty status determined</th>\n",
       "      <th>Individuals- income below poverty level</th>\n",
       "      <th>Population 16 years and over</th>\n",
       "      <th>In labor force</th>\n",
       "      <th>Employed civilians</th>\n",
       "      <th>Unemployed civilians</th>\n",
       "      <th>Location</th>\n",
       "      <th>Poverty rate</th>\n",
       "      <th>Unemployment rate</th>\n",
       "    </tr>\n",
       "  </thead>\n",
       "  <tbody>\n",
       "    <tr>\n",
       "      <th>0</th>\n",
       "      <td>2019</td>\n",
       "      <td>570960</td>\n",
       "      <td>115472</td>\n",
       "      <td>485560</td>\n",
       "      <td>303032</td>\n",
       "      <td>280352</td>\n",
       "      <td>22110</td>\n",
       "      <td>Baltimore</td>\n",
       "      <td>20.0</td>\n",
       "      <td>5.0</td>\n",
       "    </tr>\n",
       "  </tbody>\n",
       "</table>\n",
       "</div>"
      ],
      "text/plain": [
       "    Year  Persons for whom poverty status determined  \\\n",
       "0   2019                                      570960   \n",
       "\n",
       "   Individuals- income below poverty level  Population 16 years and over  \\\n",
       "0                                   115472                        485560   \n",
       "\n",
       "   In labor force  Employed civilians  Unemployed civilians   Location  \\\n",
       "0          303032              280352                 22110  Baltimore   \n",
       "\n",
       "   Poverty rate  Unemployment rate  \n",
       "0          20.0                5.0  "
      ]
     },
     "execution_count": 28,
     "metadata": {},
     "output_type": "execute_result"
    }
   ],
   "source": [
    "# Add a new column for poverty rate \n",
    "rates2019[\"Poverty rate\"] = (100 * \\\n",
    "    rates2019[\"Individuals- income below poverty level\"].astype(\n",
    "        int) / rates2019[\"Persons for whom poverty status determined\"].astype(int)).round()\n",
    "\n",
    "\n",
    "# Add a new column for unemployment rate \n",
    "rates2019[\"Unemployment rate\"] = (100 * \\\n",
    "    rates2019[\"Unemployed civilians\"].astype(\n",
    "        int) / rates2019[\"Population 16 years and over\"].astype(int)).round()\n",
    "rates2019.head()"
   ]
  },
  {
   "cell_type": "code",
   "execution_count": 29,
   "id": "8897df40",
   "metadata": {},
   "outputs": [],
   "source": [
    "#rates2019[\"Poverty rate\"] = rates2019[\"Poverty rate\"].astype(float).round(1)\n",
    "#rates2019[\"Unemployment rate\"] = rates2019[\"Unemployment rate\"].astype(float).round(1)\n"
   ]
  },
  {
   "cell_type": "code",
   "execution_count": 30,
   "id": "3a112050",
   "metadata": {},
   "outputs": [
    {
     "data": {
      "text/html": [
       "<div>\n",
       "<style scoped>\n",
       "    .dataframe tbody tr th:only-of-type {\n",
       "        vertical-align: middle;\n",
       "    }\n",
       "\n",
       "    .dataframe tbody tr th {\n",
       "        vertical-align: top;\n",
       "    }\n",
       "\n",
       "    .dataframe thead th {\n",
       "        text-align: right;\n",
       "    }\n",
       "</style>\n",
       "<table border=\"1\" class=\"dataframe\">\n",
       "  <thead>\n",
       "    <tr style=\"text-align: right;\">\n",
       "      <th></th>\n",
       "      <th>Year</th>\n",
       "      <th>Persons for whom poverty status determined</th>\n",
       "      <th>Individuals- income below poverty level</th>\n",
       "      <th>Population 16 years and over</th>\n",
       "      <th>In labor force</th>\n",
       "      <th>Employed civilians</th>\n",
       "      <th>Unemployed civilians</th>\n",
       "      <th>Location</th>\n",
       "      <th>Poverty rate</th>\n",
       "      <th>Unemployment rate</th>\n",
       "      <th>Labor participation rate</th>\n",
       "    </tr>\n",
       "  </thead>\n",
       "  <tbody>\n",
       "    <tr>\n",
       "      <th>0</th>\n",
       "      <td>2019</td>\n",
       "      <td>570960</td>\n",
       "      <td>115472</td>\n",
       "      <td>485560</td>\n",
       "      <td>303032</td>\n",
       "      <td>280352</td>\n",
       "      <td>22110</td>\n",
       "      <td>Baltimore</td>\n",
       "      <td>20.0</td>\n",
       "      <td>5.0</td>\n",
       "      <td>62.4</td>\n",
       "    </tr>\n",
       "  </tbody>\n",
       "</table>\n",
       "</div>"
      ],
      "text/plain": [
       "    Year  Persons for whom poverty status determined  \\\n",
       "0   2019                                      570960   \n",
       "\n",
       "   Individuals- income below poverty level  Population 16 years and over  \\\n",
       "0                                   115472                        485560   \n",
       "\n",
       "   In labor force  Employed civilians  Unemployed civilians   Location  \\\n",
       "0          303032              280352                 22110  Baltimore   \n",
       "\n",
       "   Poverty rate  Unemployment rate  Labor participation rate  \n",
       "0          20.0                5.0                      62.4  "
      ]
     },
     "execution_count": 30,
     "metadata": {},
     "output_type": "execute_result"
    }
   ],
   "source": [
    "# Add a new column for labor participation rate \n",
    "rates2019[\"Labor participation rate\"] = (100 * \\\n",
    "    rates2019[\"In labor force\"].astype(\n",
    "        int) / rates2019[\"Population 16 years and over\"].astype(int)).round(1)\n",
    "rates2019.head()"
   ]
  },
  {
   "cell_type": "code",
   "execution_count": 31,
   "id": "4558d0a1",
   "metadata": {},
   "outputs": [],
   "source": [
    "# Export file as a CSV, without the Pandas index, but with the header\n",
    "#rates2019.to_csv(\"balt_employment_2019.csv\", index = False, header=True)"
   ]
  }
 ],
 "metadata": {
  "kernelspec": {
   "display_name": "Python 3",
   "language": "python",
   "name": "python3"
  },
  "language_info": {
   "codemirror_mode": {
    "name": "ipython",
    "version": 3
   },
   "file_extension": ".py",
   "mimetype": "text/x-python",
   "name": "python",
   "nbconvert_exporter": "python",
   "pygments_lexer": "ipython3",
   "version": "3.7.13"
  }
 },
 "nbformat": 4,
 "nbformat_minor": 5
}
