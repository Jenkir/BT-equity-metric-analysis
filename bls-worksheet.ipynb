{
 "cells": [
  {
   "cell_type": "code",
   "execution_count": 1,
   "id": "a5bfa3e0",
   "metadata": {},
   "outputs": [],
   "source": [
    "## Build a stronger workforce:\n",
    "### Baltimore City Black vs. white employment, residents with Associate's degree and higher\n",
    "## 2016"
   ]
  },
  {
   "cell_type": "code",
   "execution_count": 2,
   "id": "4b9616b2",
   "metadata": {},
   "outputs": [],
   "source": [
    "# data source: Bureau of Labor Statistics API\n"
   ]
  },
  {
   "cell_type": "code",
   "execution_count": 3,
   "id": "73176156",
   "metadata": {},
   "outputs": [],
   "source": [
    "#pip install prettytable"
   ]
  },
  {
   "cell_type": "code",
   "execution_count": 4,
   "id": "e3541104",
   "metadata": {},
   "outputs": [],
   "source": [
    "# Dependencies\n",
    "import numpy as np\n",
    "import pandas as pd\n",
    "import matplotlib.pyplot as plt\n",
    "import requests\n",
    "import json\n",
    "%matplotlib inline\n",
    "\n",
    "#from us import states\n",
    "#import censusdata "
   ]
  },
  {
   "cell_type": "code",
   "execution_count": 5,
   "id": "d92ff12b",
   "metadata": {},
   "outputs": [],
   "source": [
    "#import os"
   ]
  },
  {
   "cell_type": "code",
   "execution_count": 6,
   "id": "6de9b788",
   "metadata": {},
   "outputs": [],
   "source": [
    "#os.getcwd()"
   ]
  },
  {
   "cell_type": "code",
   "execution_count": 7,
   "id": "a1d86d9b",
   "metadata": {},
   "outputs": [],
   "source": [
    "pd.set_option('display.max_rows', 200)"
   ]
  },
  {
   "cell_type": "code",
   "execution_count": 8,
   "id": "60779a2c",
   "metadata": {},
   "outputs": [],
   "source": [
    "pd.set_option('max_colwidth', 100)"
   ]
  },
  {
   "cell_type": "code",
   "execution_count": 9,
   "id": "d7ad9d17",
   "metadata": {},
   "outputs": [],
   "source": [
    "# see https://www.bls.gov/opub/reports/race-and-ethnicity/2016/#table-1\n",
    "# Civilian labor force. This group comprises all people classified as employed or unemployed in accordance with the criteria described above.\n",
    "\n",
    "# Unemployment rate. This rate is the number unemployed as a percentage of the civilian labor force.\n",
    "\n",
    "# Labor force participation rate. This rate is the labor force as a percentage of the population.\n",
    "\n",
    "# Employment–population ratio. This ratio is the number of employed as a percentage of the population."
   ]
  },
  {
   "cell_type": "code",
   "execution_count": null,
   "id": "84772dcf",
   "metadata": {},
   "outputs": [],
   "source": [
    "# see https://github.com/bdecon/econ_data/blob/master/APIs/BLS.ipynb  (big thanks!!)"
   ]
  },
  {
   "cell_type": "code",
   "execution_count": null,
   "id": "b7fcfdad",
   "metadata": {},
   "outputs": [],
   "source": [
    "# Collect unemployment rate data for white, Black, hispanic populations in the US and plots results"
   ]
  },
  {
   "cell_type": "code",
   "execution_count": 10,
   "id": "19a33db0",
   "metadata": {},
   "outputs": [],
   "source": [
    "api_url = 'https://api.bls.gov/publicAPI/v2/timeseries/data/'\n",
    "\n",
    "# API key in config.py which contains: bls_key = 'key'\n",
    "import configbls\n",
    "key = '?registrationkey={}'.format(configbls.bls_key)"
   ]
  },
  {
   "cell_type": "code",
   "execution_count": 15,
   "id": "05680841",
   "metadata": {},
   "outputs": [],
   "source": [
    "# the while loop in this code splits a data range into chunks that the BLS API will allow\n",
    "# Series stored as a dictionary (for example \"LNS11300000\" is the BLS series ID for civilian labor force participation rate)\n",
    "series_dict = {\n",
    "    'CN2451000000003': 'White', \n",
    "    'CN2451000000006': 'Black', \n",
    "    'CN2451000000009': 'Hispanic'}\n",
    "\n",
    "# Start year and end year\n",
    "date_r = (2012, 2022)\n",
    "\n",
    "# Handle dates\n",
    "dates = [(str(date_r[0]), str(date_r[1]))]\n",
    "while int(dates[-1][1]) - int(dates[-1][0]) > 10:\n",
    "    dates = [(str(date_r[0]), str(date_r[0]+9))]\n",
    "    d1 = int(dates[-1][0])\n",
    "    while int(dates[-1][1]) < date_r[1]:\n",
    "        d1 = d1 + 10\n",
    "        d2 = min([date_r[1], d1+9])\n",
    "        dates.append((str(d1),(d2))) "
   ]
  },
  {
   "cell_type": "code",
   "execution_count": 16,
   "id": "7870a7ae",
   "metadata": {},
   "outputs": [
    {
     "name": "stdout",
     "output_type": "stream",
     "text": [
      "Post Request Status: REQUEST_SUCCEEDED\n"
     ]
    },
    {
     "data": {
      "text/html": [
       "<div>\n",
       "<style scoped>\n",
       "    .dataframe tbody tr th:only-of-type {\n",
       "        vertical-align: middle;\n",
       "    }\n",
       "\n",
       "    .dataframe tbody tr th {\n",
       "        vertical-align: top;\n",
       "    }\n",
       "\n",
       "    .dataframe thead th {\n",
       "        text-align: right;\n",
       "    }\n",
       "</style>\n",
       "<table border=\"1\" class=\"dataframe\">\n",
       "  <thead>\n",
       "    <tr style=\"text-align: right;\">\n",
       "      <th></th>\n",
       "    </tr>\n",
       "  </thead>\n",
       "  <tbody>\n",
       "  </tbody>\n",
       "</table>\n",
       "</div>"
      ],
      "text/plain": [
       "Empty DataFrame\n",
       "Columns: []\n",
       "Index: []"
      ]
     },
     "execution_count": 16,
     "metadata": {},
     "output_type": "execute_result"
    }
   ],
   "source": [
    "# Retrieve the data\n",
    "\n",
    "df = pd.DataFrame()\n",
    "\n",
    "for start, end in dates:\n",
    "    # Submit the list of series as data\n",
    "    data = json.dumps({\n",
    "        \"seriesid\": list(series_dict.keys()),\n",
    "        \"startyear\": start, \"endyear\": end})\n",
    "\n",
    "    # Post request for the data\n",
    "    p = requests.post(\n",
    "        '{}{}'.format(api_url, key), \n",
    "        headers={'Content-type': 'application/json'}, \n",
    "        data=data).json()\n",
    "    for s in p['Results']['series']:\n",
    "        col = series_dict[s['seriesID']]\n",
    "        for r in s['data']:\n",
    "            date = pd.to_datetime('{} {}'.format(\n",
    "                r['periodName'], r['year']))\n",
    "            df.at[date, col] = float(r['value'])\n",
    "df = df.sort_index()\n",
    "# Output results\n",
    "print('Post Request Status: {}'.format(p['status']))\n",
    "df.tail(13)"
   ]
  },
  {
   "cell_type": "code",
   "execution_count": null,
   "id": "0721a4f9",
   "metadata": {},
   "outputs": [],
   "source": []
  },
  {
   "cell_type": "code",
   "execution_count": null,
   "id": "2d7627a9",
   "metadata": {},
   "outputs": [],
   "source": []
  },
  {
   "cell_type": "code",
   "execution_count": null,
   "id": "f22fbe41",
   "metadata": {},
   "outputs": [],
   "source": []
  },
  {
   "cell_type": "code",
   "execution_count": 13,
   "id": "43db78e3",
   "metadata": {},
   "outputs": [
    {
     "ename": "SyntaxError",
     "evalue": "invalid syntax (3565829433.py, line 2)",
     "output_type": "error",
     "traceback": [
      "\u001b[1;36m  File \u001b[1;32m\"C:\\Users\\Jenkir\\AppData\\Local\\Temp\\ipykernel_13004\\3565829433.py\"\u001b[1;36m, line \u001b[1;32m2\u001b[0m\n\u001b[1;33m    census_2016 = census_2016.rename(columns={,\u001b[0m\n\u001b[1;37m                                              ^\u001b[0m\n\u001b[1;31mSyntaxError\u001b[0m\u001b[1;31m:\u001b[0m invalid syntax\n"
     ]
    }
   ],
   "source": [
    "# Replace variable codes in the dataframe with text so it's understandable\n",
    "census_2016 = census_2016.rename(columns={,\n",
    "                                      \"B01003_001E\": \"Population\",\n",
    "                                      ,\n",
    "                                      \"B02001_003E\": \"Pop. Black\",\n",
    "                                      \"B02001_002E\": \"Pop. white\",\n",
    "                                      \"B23025_002E\": \"Pop_in_labor_force\"\n",
    "                                      \"B08301_001E\": \"Workers_16_yrs_and_over\",\n",
    "                                      \"B15003_016E\": \"# persons 12th grade, no diploma\",\n",
    "                                      \"B15003_017E\": \"# persons age 25+ graduated high school\",\n",
    "                                      \"B15003_021E\": \"# persons Associate's degree\",\n",
    "                                      \"B15003_022E\": \"# persons age 25+ with Bachelor's degree\",\n",
    "                                          \n",
    "                                         })\n",
    "census_2016.head()"
   ]
  },
  {
   "cell_type": "code",
   "execution_count": null,
   "id": "808a7748",
   "metadata": {},
   "outputs": [],
   "source": [
    "#census = census.reset_index()\n"
   ]
  },
  {
   "cell_type": "code",
   "execution_count": null,
   "id": "9fadf387",
   "metadata": {},
   "outputs": [],
   "source": [
    "#census = census.rename(columns={\"index\": \"Year\"})                                           \n"
   ]
  },
  {
   "cell_type": "code",
   "execution_count": null,
   "id": "baa33982",
   "metadata": {},
   "outputs": [],
   "source": [
    "# Export file as a CSV, without the Pandas index, but with the header\n",
    "#income_2016.to_csv(\"ACS_income_2016.csv\", index = False, header=True)"
   ]
  },
  {
   "cell_type": "code",
   "execution_count": null,
   "id": "816daccf",
   "metadata": {},
   "outputs": [],
   "source": []
  }
 ],
 "metadata": {
  "kernelspec": {
   "display_name": "Python 3",
   "language": "python",
   "name": "python3"
  },
  "language_info": {
   "codemirror_mode": {
    "name": "ipython",
    "version": 3
   },
   "file_extension": ".py",
   "mimetype": "text/x-python",
   "name": "python",
   "nbconvert_exporter": "python",
   "pygments_lexer": "ipython3",
   "version": "3.7.13"
  }
 },
 "nbformat": 4,
 "nbformat_minor": 5
}
